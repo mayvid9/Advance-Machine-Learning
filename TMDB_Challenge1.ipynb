{
  "nbformat": 4,
  "nbformat_minor": 0,
  "metadata": {
    "colab": {
      "name": "TMDB Challenge1.ipynb",
      "version": "0.3.2",
      "provenance": [],
      "collapsed_sections": [
        "9BfyN1acPi8e",
        "4G2a5cqHPzBr",
        "CJ7B6Nj9h3-q",
        "c_hA6uyhSnDx",
        "mfTSnoJOS93N",
        "w9IwFJdWWQK3",
        "uvq9tzE8aO_y",
        "FG1kVUJCSLXC",
        "6JnJqH0KIyWU",
        "TwCAUx0NIyXP",
        "GIQ9a5HnIyZK",
        "bmcxjgmmIya4",
        "iv6TJ76aIybg",
        "__UUorwOIyb-",
        "PjVkWPT7Iyca",
        "bEPHQLXUIycn",
        "6IXorPC2IydC",
        "pnwDFNDwIydM",
        "e_HUaKYre_W1"
      ],
      "include_colab_link": true
    },
    "language_info": {
      "codemirror_mode": {
        "name": "ipython",
        "version": 3
      },
      "file_extension": ".py",
      "mimetype": "text/x-python",
      "name": "python",
      "nbconvert_exporter": "python",
      "pygments_lexer": "ipython3",
      "version": "3.6.8"
    },
    "kernelspec": {
      "name": "python3",
      "display_name": "Python 3"
    },
    "accelerator": "TPU"
  },
  "cells": [
    {
      "cell_type": "markdown",
      "metadata": {
        "id": "view-in-github",
        "colab_type": "text"
      },
      "source": [
        "<a href=\"https://colab.research.google.com/github/mayvid9/Advance-Machine-Learning/blob/master/TMDB_Challenge1.ipynb\" target=\"_parent\"><img src=\"https://colab.research.google.com/assets/colab-badge.svg\" alt=\"Open In Colab\"/></a>"
      ]
    },
    {
      "metadata": {
        "id": "9BfyN1acPi8e",
        "colab_type": "text"
      },
      "cell_type": "markdown",
      "source": [
        "### Setting Up Kaggle environment"
      ]
    },
    {
      "metadata": {
        "id": "hDBHDM7K8Euc",
        "colab_type": "code",
        "outputId": "148c6410-ac78-4089-9209-b13922728a38",
        "colab": {
          "resources": {
            "http://localhost:8080/nbextensions/google.colab/files.js": {
              "data": "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",
              "ok": true,
              "headers": [
                [
                  "content-type",
                  "application/javascript"
                ]
              ],
              "status": 200,
              "status_text": ""
            }
          },
          "base_uri": "https://localhost:8080/",
          "height": 92
        }
      },
      "cell_type": "code",
      "source": [
        "import json\n",
        "from google.colab import files\n",
        "files.upload()"
      ],
      "execution_count": 0,
      "outputs": [
        {
          "output_type": "display_data",
          "data": {
            "text/html": [
              "\n",
              "     <input type=\"file\" id=\"files-7860ea87-1abe-4ab9-bcc7-2c593f90fdae\" name=\"files[]\" multiple disabled />\n",
              "     <output id=\"result-7860ea87-1abe-4ab9-bcc7-2c593f90fdae\">\n",
              "      Upload widget is only available when the cell has been executed in the\n",
              "      current browser session. Please rerun this cell to enable.\n",
              "      </output>\n",
              "      <script src=\"/nbextensions/google.colab/files.js\"></script> "
            ],
            "text/plain": [
              "<IPython.core.display.HTML object>"
            ]
          },
          "metadata": {
            "tags": []
          }
        },
        {
          "output_type": "stream",
          "text": [
            "Saving kaggle.json to kaggle.json\n"
          ],
          "name": "stdout"
        },
        {
          "output_type": "execute_result",
          "data": {
            "text/plain": [
              "{'kaggle.json': b'{\"username\":\"kartiktyagi4282\",\"key\":\"1168d6b336b726490019f9950077105d\"}'}"
            ]
          },
          "metadata": {
            "tags": []
          },
          "execution_count": 1
        }
      ]
    },
    {
      "metadata": {
        "id": "0HQQ-ThH8ElY",
        "colab_type": "code",
        "colab": {}
      },
      "cell_type": "code",
      "source": [
        "!mkdir -p ~/.kaggle"
      ],
      "execution_count": 0,
      "outputs": []
    },
    {
      "metadata": {
        "id": "Lq0cHVn88EWu",
        "colab_type": "code",
        "colab": {}
      },
      "cell_type": "code",
      "source": [
        "!cp kaggle.json ~/.kaggle/"
      ],
      "execution_count": 0,
      "outputs": []
    },
    {
      "metadata": {
        "id": "5VnColy59VQg",
        "colab_type": "code",
        "colab": {}
      },
      "cell_type": "code",
      "source": [
        "!chmod 600 ~/.kaggle/kaggle.json"
      ],
      "execution_count": 0,
      "outputs": []
    },
    {
      "metadata": {
        "id": "ZK47AGSk9VN6",
        "colab_type": "code",
        "outputId": "a95dac24-b555-4b9c-c0fc-43de23472ebc",
        "colab": {
          "base_uri": "https://localhost:8080/",
          "height": 34
        }
      },
      "cell_type": "code",
      "source": [
        "!ls ~/.kaggle"
      ],
      "execution_count": 0,
      "outputs": [
        {
          "output_type": "stream",
          "text": [
            "kaggle.json\n"
          ],
          "name": "stdout"
        }
      ]
    },
    {
      "metadata": {
        "id": "MvvJYMth9VLV",
        "colab_type": "code",
        "outputId": "00cc23d8-40f7-4848-9711-bdfbfacac4e3",
        "colab": {
          "base_uri": "https://localhost:8080/",
          "height": 121
        }
      },
      "cell_type": "code",
      "source": [
        "!pip install -q kaggle\n",
        "!pip install -q kaggle-cli"
      ],
      "execution_count": 0,
      "outputs": [
        {
          "output_type": "stream",
          "text": [
            "\u001b[K    100% |████████████████████████████████| 81kB 3.8MB/s \n",
            "\u001b[K    100% |████████████████████████████████| 5.3MB 4.4MB/s \n",
            "\u001b[K    100% |████████████████████████████████| 51kB 19.7MB/s \n",
            "\u001b[K    100% |████████████████████████████████| 92kB 26.8MB/s \n",
            "\u001b[?25h  Building wheel for kaggle-cli (setup.py) ... \u001b[?25ldone\n",
            "\u001b[?25h  Building wheel for pyperclip (setup.py) ... \u001b[?25ldone\n",
            "\u001b[?25h"
          ],
          "name": "stdout"
        }
      ]
    },
    {
      "metadata": {
        "id": "I_lCABxG9VJX",
        "colab_type": "code",
        "outputId": "5a5694a7-6d44-450a-dd66-b3c25e8d96f8",
        "colab": {
          "base_uri": "https://localhost:8080/",
          "height": 405
        }
      },
      "cell_type": "code",
      "source": [
        "!kaggle datasets list"
      ],
      "execution_count": 0,
      "outputs": [
        {
          "output_type": "stream",
          "text": [
            "ref                                                          title                                                size  lastUpdated          downloadCount  \n",
            "-----------------------------------------------------------  --------------------------------------------------  -----  -------------------  -------------  \n",
            "ronitf/heart-disease-uci                                     Heart Disease UCI                                     3KB  2018-06-25 11:33:56          31616  \n",
            "karangadiya/fifa19                                           FIFA 19 complete player dataset                       2MB  2018-12-21 03:52:59          23307  \n",
            "russellyates88/suicide-rates-overview-1985-to-2016           Suicide Rates Overview 1985 to 2016                 396KB  2018-12-01 19:18:25          22474  \n",
            "bigquery/crypto-ethereum-classic                             Ethereum Classic Blockchain                          70GB  2019-03-20 23:21:25              0  \n",
            "iarunava/cell-images-for-detecting-malaria                   Malaria Cell Images Dataset                         337MB  2018-12-05 05:40:21           4783  \n",
            "vjchoudhary7/customer-segmentation-tutorial-in-python        Mall Customer Segmentation Data                       2KB  2018-08-11 07:23:02           7563  \n",
            "mohansacharya/graduate-admissions                            Graduate Admissions                                   9KB  2018-12-28 10:07:14          19305  \n",
            "safegraph/census-block-group-american-community-survey-data  Census Block Group American Community Survey Data     2GB  2018-12-22 00:29:56            759  \n",
            "lava18/google-play-store-apps                                Google Play Store Apps                                2MB  2019-02-03 13:55:47          50209  \n",
            "safegraph/visit-patterns-by-census-block-group               Consumer & Visitor Insights For Neighborhoods        66MB  2018-12-19 21:31:50           1452  \n",
            "jessicali9530/stanford-dogs-dataset                          Stanford Dogs Dataset                               735MB  2019-02-13 05:45:25           2775  \n",
            "jessicali9530/celeba-dataset                                 CelebFaces Attributes (CelebA) Dataset                1GB  2018-06-01 20:08:48           6811  \n",
            "noriuk/us-education-datasets-unification-project             U.S. Education Datasets: Unification Project         85MB  2019-03-02 18:41:52           3567  \n",
            "jutrera/stanford-car-dataset-by-classes-folder               Stanford Car Dataset by classes folder                2GB  2018-07-02 07:35:45           2918  \n",
            "cityofLA/los-angeles-parking-citations                       Los Angeles Parking Citations                       258MB  2019-04-19 22:18:42           3270  \n",
            "fivethirtyeight/fivethirtyeight-comic-characters-dataset     FiveThirtyEight Comic Characters Dataset            577KB  2019-03-26 15:01:15           2428  \n",
            "pavansanagapati/urban-sound-classification                   Urban Sound Classification                            6GB  2018-06-16 13:44:36           2365  \n",
            "anokas/kuzushiji                                             Kuzushiji-MNIST                                     318MB  2018-12-17 01:19:31            843  \n",
            "rmisra/news-headlines-dataset-for-sarcasm-detection          News Headlines Dataset For Sarcasm Detection          2MB  2018-06-09 22:14:56           2727  \n",
            "xvivancos/barcelona-data-sets                                Barcelona data sets                                   1MB  2018-12-13 14:16:53           3934  \n"
          ],
          "name": "stdout"
        }
      ]
    },
    {
      "metadata": {
        "id": "-0jcSj769VGx",
        "colab_type": "code",
        "outputId": "3c6b00fb-cc4a-4f1c-ce67-64943159643f",
        "colab": {
          "base_uri": "https://localhost:8080/",
          "height": 405
        }
      },
      "cell_type": "code",
      "source": [
        "!kaggle competitions list"
      ],
      "execution_count": 0,
      "outputs": [
        {
          "output_type": "stream",
          "text": [
            "ref                                                deadline             category            reward  teamCount  userHasEntered  \n",
            "-------------------------------------------------  -------------------  ---------------  ---------  ---------  --------------  \n",
            "digit-recognizer                                   2030-01-01 00:00:00  Getting Started  Knowledge       2875           False  \n",
            "titanic                                            2030-01-01 00:00:00  Getting Started  Knowledge      11162           False  \n",
            "house-prices-advanced-regression-techniques        2030-01-01 00:00:00  Getting Started  Knowledge       4275           False  \n",
            "imagenet-object-localization-challenge             2029-12-31 07:00:00  Research         Knowledge         40           False  \n",
            "competitive-data-science-predict-future-sales      2019-12-31 23:59:00  Playground           Kudos       2801            True  \n",
            "two-sigma-financial-news                           2019-07-15 23:59:00  Featured          $100,000       2927           False  \n",
            "aerial-cactus-identification                       2019-07-08 23:59:00  Playground       Knowledge        392           False  \n",
            "jigsaw-unintended-bias-in-toxicity-classification  2019-06-26 23:59:00  Featured           $65,000       1073           False  \n",
            "inaturalist-2019-fgvc6                             2019-06-10 23:59:00  Research             Kudos         81           False  \n",
            "freesound-audio-tagging-2019                       2019-06-10 11:59:00  Research            $5,000        289           False  \n",
            "iwildcam-2019-fgvc6                                2019-06-07 23:59:00  Playground           Kudos        112           False  \n",
            "imet-2019-fgvc6                                    2019-06-04 23:59:00  Research             Kudos        248           False  \n",
            "LANL-Earthquake-Prediction                         2019-06-03 23:59:00  Research           $50,000       2883            True  \n",
            "landmark-recognition-2019                          2019-06-03 23:59:00  Research           $25,000         48            True  \n",
            "landmark-retrieval-2019                            2019-06-03 23:59:00  Research           $25,000         44           False  \n",
            "tmdb-box-office-prediction                         2019-05-30 23:59:00  Playground       Knowledge        747            True  \n",
            "dont-overfit-ii                                    2019-05-07 23:59:00  Playground            Swag       1872            True  \n",
            "ciphertext-challenge-ii                            2019-04-25 23:59:00  Playground            Swag         65           False  \n",
            "data-science-for-good-careervillage                2019-04-23 23:59:00  Analytics          $15,000          0           False  \n",
            "gendered-pronoun-resolution                        2019-04-22 23:59:00  Research           $25,000        838           False  \n"
          ],
          "name": "stdout"
        }
      ]
    },
    {
      "metadata": {
        "id": "aKnF79BG9U8T",
        "colab_type": "code",
        "outputId": "bbc65753-bfb1-4343-d02f-439dbf357175",
        "colab": {
          "base_uri": "https://localhost:8080/",
          "height": 167
        }
      },
      "cell_type": "code",
      "source": [
        "!kaggle competitions download -c tmdb-box-office-prediction -p /content/kaggle/tmdb"
      ],
      "execution_count": 0,
      "outputs": [
        {
          "output_type": "stream",
          "text": [
            "Downloading sample_submission.csv to /content/kaggle/tmdb\n",
            "\r  0% 0.00/60.1k [00:00<?, ?B/s]\n",
            "100% 60.1k/60.1k [00:00<00:00, 55.7MB/s]\n",
            "Downloading train.csv.zip to /content/kaggle/tmdb\n",
            " 71% 5.00M/7.02M [00:00<00:00, 20.0MB/s]\n",
            "100% 7.02M/7.02M [00:00<00:00, 23.4MB/s]\n",
            "Downloading test.csv.zip to /content/kaggle/tmdb\n",
            " 48% 5.00M/10.3M [00:00<00:00, 38.1MB/s]\n",
            "100% 10.3M/10.3M [00:00<00:00, 66.0MB/s]\n"
          ],
          "name": "stdout"
        }
      ]
    },
    {
      "metadata": {
        "id": "YkQEl9Yb9Uy_",
        "colab_type": "code",
        "outputId": "2767c692-70e1-4a94-bd9e-b499c5c3c14d",
        "colab": {
          "base_uri": "https://localhost:8080/",
          "height": 134
        }
      },
      "cell_type": "code",
      "source": [
        "import os\n",
        "os.chdir('kaggle/tmdb')\n",
        "!unzip \\*.zip"
      ],
      "execution_count": 0,
      "outputs": [
        {
          "output_type": "stream",
          "text": [
            "Archive:  test.csv.zip\n",
            "  inflating: test.csv                \n",
            "\n",
            "Archive:  train.csv.zip\n",
            "  inflating: train.csv               \n",
            "\n",
            "2 archives were successfully processed.\n"
          ],
          "name": "stdout"
        }
      ]
    },
    {
      "metadata": {
        "id": "4G2a5cqHPzBr",
        "colab_type": "text"
      },
      "cell_type": "markdown",
      "source": [
        "### Importing Libraries"
      ]
    },
    {
      "metadata": {
        "id": "YXIjNBBtIySX",
        "colab_type": "code",
        "colab": {}
      },
      "cell_type": "code",
      "source": [
        "import pandas as pd\n",
        "import numpy as np\n",
        "import matplotlib.pyplot as plt\n",
        "import seaborn as sns \n",
        "import ast\n",
        "from tqdm import tqdm\n",
        "import time\n",
        "from collections import Counter\n",
        "from sklearn.preprocessing import MinMaxScaler\n",
        "from sklearn.preprocessing import LabelEncoder,OneHotEncoder\n",
        "import warnings\n",
        "warnings.simplefilter(action='ignore', category=FutureWarning)\n",
        "%matplotlib inline"
      ],
      "execution_count": 0,
      "outputs": []
    },
    {
      "metadata": {
        "id": "e26B_1toJG6C",
        "colab_type": "code",
        "outputId": "d4e535dd-d472-4a3e-aadc-40c9fa443e23",
        "colab": {
          "base_uri": "https://localhost:8080/",
          "height": 121
        }
      },
      "cell_type": "code",
      "source": [
        "import os\n",
        "os.chdir('kaggle/tmdb')\n",
        "os.listdir()"
      ],
      "execution_count": 0,
      "outputs": [
        {
          "output_type": "execute_result",
          "data": {
            "text/plain": [
              "['test.csv',\n",
              " 'sample_submission.csv',\n",
              " 'test.csv.zip',\n",
              " 'train.csv',\n",
              " 'pred.csv',\n",
              " 'train.csv.zip']"
            ]
          },
          "metadata": {
            "tags": []
          },
          "execution_count": 3
        }
      ]
    },
    {
      "metadata": {
        "id": "b46c7A9iIySk",
        "colab_type": "code",
        "colab": {}
      },
      "cell_type": "code",
      "source": [
        "test=pd.read_csv('./test.csv')\n",
        "train=pd.read_csv('./train.csv') "
      ],
      "execution_count": 0,
      "outputs": []
    },
    {
      "metadata": {
        "id": "CJ7B6Nj9h3-q",
        "colab_type": "text"
      },
      "cell_type": "markdown",
      "source": [
        "### Exploring DataFrame and mean and variance "
      ]
    },
    {
      "metadata": {
        "id": "QX664A-xIySu",
        "colab_type": "code",
        "outputId": "9ac3a5a5-d1d9-4488-c5fd-71abb0091a2b",
        "colab": {
          "base_uri": "https://localhost:8080/",
          "height": 662
        }
      },
      "cell_type": "code",
      "source": [
        "train.head()"
      ],
      "execution_count": 0,
      "outputs": [
        {
          "output_type": "execute_result",
          "data": {
            "text/html": [
              "<div>\n",
              "<style scoped>\n",
              "    .dataframe tbody tr th:only-of-type {\n",
              "        vertical-align: middle;\n",
              "    }\n",
              "\n",
              "    .dataframe tbody tr th {\n",
              "        vertical-align: top;\n",
              "    }\n",
              "\n",
              "    .dataframe thead th {\n",
              "        text-align: right;\n",
              "    }\n",
              "</style>\n",
              "<table border=\"1\" class=\"dataframe\">\n",
              "  <thead>\n",
              "    <tr style=\"text-align: right;\">\n",
              "      <th></th>\n",
              "      <th>id</th>\n",
              "      <th>belongs_to_collection</th>\n",
              "      <th>budget</th>\n",
              "      <th>genres</th>\n",
              "      <th>homepage</th>\n",
              "      <th>imdb_id</th>\n",
              "      <th>original_language</th>\n",
              "      <th>original_title</th>\n",
              "      <th>overview</th>\n",
              "      <th>popularity</th>\n",
              "      <th>...</th>\n",
              "      <th>release_date</th>\n",
              "      <th>runtime</th>\n",
              "      <th>spoken_languages</th>\n",
              "      <th>status</th>\n",
              "      <th>tagline</th>\n",
              "      <th>title</th>\n",
              "      <th>Keywords</th>\n",
              "      <th>cast</th>\n",
              "      <th>crew</th>\n",
              "      <th>revenue</th>\n",
              "    </tr>\n",
              "  </thead>\n",
              "  <tbody>\n",
              "    <tr>\n",
              "      <th>0</th>\n",
              "      <td>1</td>\n",
              "      <td>[{'id': 313576, 'name': 'Hot Tub Time Machine ...</td>\n",
              "      <td>14000000</td>\n",
              "      <td>[{'id': 35, 'name': 'Comedy'}]</td>\n",
              "      <td>NaN</td>\n",
              "      <td>tt2637294</td>\n",
              "      <td>en</td>\n",
              "      <td>Hot Tub Time Machine 2</td>\n",
              "      <td>When Lou, who has become the \"father of the In...</td>\n",
              "      <td>6.575393</td>\n",
              "      <td>...</td>\n",
              "      <td>2/20/15</td>\n",
              "      <td>93.0</td>\n",
              "      <td>[{'iso_639_1': 'en', 'name': 'English'}]</td>\n",
              "      <td>Released</td>\n",
              "      <td>The Laws of Space and Time are About to be Vio...</td>\n",
              "      <td>Hot Tub Time Machine 2</td>\n",
              "      <td>[{'id': 4379, 'name': 'time travel'}, {'id': 9...</td>\n",
              "      <td>[{'cast_id': 4, 'character': 'Lou', 'credit_id...</td>\n",
              "      <td>[{'credit_id': '59ac067c92514107af02c8c8', 'de...</td>\n",
              "      <td>12314651</td>\n",
              "    </tr>\n",
              "    <tr>\n",
              "      <th>1</th>\n",
              "      <td>2</td>\n",
              "      <td>[{'id': 107674, 'name': 'The Princess Diaries ...</td>\n",
              "      <td>40000000</td>\n",
              "      <td>[{'id': 35, 'name': 'Comedy'}, {'id': 18, 'nam...</td>\n",
              "      <td>NaN</td>\n",
              "      <td>tt0368933</td>\n",
              "      <td>en</td>\n",
              "      <td>The Princess Diaries 2: Royal Engagement</td>\n",
              "      <td>Mia Thermopolis is now a college graduate and ...</td>\n",
              "      <td>8.248895</td>\n",
              "      <td>...</td>\n",
              "      <td>8/6/04</td>\n",
              "      <td>113.0</td>\n",
              "      <td>[{'iso_639_1': 'en', 'name': 'English'}]</td>\n",
              "      <td>Released</td>\n",
              "      <td>It can take a lifetime to find true love; she'...</td>\n",
              "      <td>The Princess Diaries 2: Royal Engagement</td>\n",
              "      <td>[{'id': 2505, 'name': 'coronation'}, {'id': 42...</td>\n",
              "      <td>[{'cast_id': 1, 'character': 'Mia Thermopolis'...</td>\n",
              "      <td>[{'credit_id': '52fe43fe9251416c7502563d', 'de...</td>\n",
              "      <td>95149435</td>\n",
              "    </tr>\n",
              "    <tr>\n",
              "      <th>2</th>\n",
              "      <td>3</td>\n",
              "      <td>NaN</td>\n",
              "      <td>3300000</td>\n",
              "      <td>[{'id': 18, 'name': 'Drama'}]</td>\n",
              "      <td>http://sonyclassics.com/whiplash/</td>\n",
              "      <td>tt2582802</td>\n",
              "      <td>en</td>\n",
              "      <td>Whiplash</td>\n",
              "      <td>Under the direction of a ruthless instructor, ...</td>\n",
              "      <td>64.299990</td>\n",
              "      <td>...</td>\n",
              "      <td>10/10/14</td>\n",
              "      <td>105.0</td>\n",
              "      <td>[{'iso_639_1': 'en', 'name': 'English'}]</td>\n",
              "      <td>Released</td>\n",
              "      <td>The road to greatness can take you to the edge.</td>\n",
              "      <td>Whiplash</td>\n",
              "      <td>[{'id': 1416, 'name': 'jazz'}, {'id': 1523, 'n...</td>\n",
              "      <td>[{'cast_id': 5, 'character': 'Andrew Neimann',...</td>\n",
              "      <td>[{'credit_id': '54d5356ec3a3683ba0000039', 'de...</td>\n",
              "      <td>13092000</td>\n",
              "    </tr>\n",
              "    <tr>\n",
              "      <th>3</th>\n",
              "      <td>4</td>\n",
              "      <td>NaN</td>\n",
              "      <td>1200000</td>\n",
              "      <td>[{'id': 53, 'name': 'Thriller'}, {'id': 18, 'n...</td>\n",
              "      <td>http://kahaanithefilm.com/</td>\n",
              "      <td>tt1821480</td>\n",
              "      <td>hi</td>\n",
              "      <td>Kahaani</td>\n",
              "      <td>Vidya Bagchi (Vidya Balan) arrives in Kolkata ...</td>\n",
              "      <td>3.174936</td>\n",
              "      <td>...</td>\n",
              "      <td>3/9/12</td>\n",
              "      <td>122.0</td>\n",
              "      <td>[{'iso_639_1': 'en', 'name': 'English'}, {'iso...</td>\n",
              "      <td>Released</td>\n",
              "      <td>NaN</td>\n",
              "      <td>Kahaani</td>\n",
              "      <td>[{'id': 10092, 'name': 'mystery'}, {'id': 1054...</td>\n",
              "      <td>[{'cast_id': 1, 'character': 'Vidya Bagchi', '...</td>\n",
              "      <td>[{'credit_id': '52fe48779251416c9108d6eb', 'de...</td>\n",
              "      <td>16000000</td>\n",
              "    </tr>\n",
              "    <tr>\n",
              "      <th>4</th>\n",
              "      <td>5</td>\n",
              "      <td>NaN</td>\n",
              "      <td>0</td>\n",
              "      <td>[{'id': 28, 'name': 'Action'}, {'id': 53, 'nam...</td>\n",
              "      <td>NaN</td>\n",
              "      <td>tt1380152</td>\n",
              "      <td>ko</td>\n",
              "      <td>마린보이</td>\n",
              "      <td>Marine Boy is the story of a former national s...</td>\n",
              "      <td>1.148070</td>\n",
              "      <td>...</td>\n",
              "      <td>2/5/09</td>\n",
              "      <td>118.0</td>\n",
              "      <td>[{'iso_639_1': 'ko', 'name': '한국어/조선말'}]</td>\n",
              "      <td>Released</td>\n",
              "      <td>NaN</td>\n",
              "      <td>Marine Boy</td>\n",
              "      <td>NaN</td>\n",
              "      <td>[{'cast_id': 3, 'character': 'Chun-soo', 'cred...</td>\n",
              "      <td>[{'credit_id': '52fe464b9251416c75073b43', 'de...</td>\n",
              "      <td>3923970</td>\n",
              "    </tr>\n",
              "  </tbody>\n",
              "</table>\n",
              "<p>5 rows × 23 columns</p>\n",
              "</div>"
            ],
            "text/plain": [
              "   id                              belongs_to_collection    budget  \\\n",
              "0   1  [{'id': 313576, 'name': 'Hot Tub Time Machine ...  14000000   \n",
              "1   2  [{'id': 107674, 'name': 'The Princess Diaries ...  40000000   \n",
              "2   3                                                NaN   3300000   \n",
              "3   4                                                NaN   1200000   \n",
              "4   5                                                NaN         0   \n",
              "\n",
              "                                              genres  \\\n",
              "0                     [{'id': 35, 'name': 'Comedy'}]   \n",
              "1  [{'id': 35, 'name': 'Comedy'}, {'id': 18, 'nam...   \n",
              "2                      [{'id': 18, 'name': 'Drama'}]   \n",
              "3  [{'id': 53, 'name': 'Thriller'}, {'id': 18, 'n...   \n",
              "4  [{'id': 28, 'name': 'Action'}, {'id': 53, 'nam...   \n",
              "\n",
              "                            homepage    imdb_id original_language  \\\n",
              "0                                NaN  tt2637294                en   \n",
              "1                                NaN  tt0368933                en   \n",
              "2  http://sonyclassics.com/whiplash/  tt2582802                en   \n",
              "3         http://kahaanithefilm.com/  tt1821480                hi   \n",
              "4                                NaN  tt1380152                ko   \n",
              "\n",
              "                             original_title  \\\n",
              "0                    Hot Tub Time Machine 2   \n",
              "1  The Princess Diaries 2: Royal Engagement   \n",
              "2                                  Whiplash   \n",
              "3                                   Kahaani   \n",
              "4                                      마린보이   \n",
              "\n",
              "                                            overview  popularity    ...     \\\n",
              "0  When Lou, who has become the \"father of the In...    6.575393    ...      \n",
              "1  Mia Thermopolis is now a college graduate and ...    8.248895    ...      \n",
              "2  Under the direction of a ruthless instructor, ...   64.299990    ...      \n",
              "3  Vidya Bagchi (Vidya Balan) arrives in Kolkata ...    3.174936    ...      \n",
              "4  Marine Boy is the story of a former national s...    1.148070    ...      \n",
              "\n",
              "  release_date runtime                                   spoken_languages  \\\n",
              "0      2/20/15    93.0           [{'iso_639_1': 'en', 'name': 'English'}]   \n",
              "1       8/6/04   113.0           [{'iso_639_1': 'en', 'name': 'English'}]   \n",
              "2     10/10/14   105.0           [{'iso_639_1': 'en', 'name': 'English'}]   \n",
              "3       3/9/12   122.0  [{'iso_639_1': 'en', 'name': 'English'}, {'iso...   \n",
              "4       2/5/09   118.0           [{'iso_639_1': 'ko', 'name': '한국어/조선말'}]   \n",
              "\n",
              "     status                                            tagline  \\\n",
              "0  Released  The Laws of Space and Time are About to be Vio...   \n",
              "1  Released  It can take a lifetime to find true love; she'...   \n",
              "2  Released    The road to greatness can take you to the edge.   \n",
              "3  Released                                                NaN   \n",
              "4  Released                                                NaN   \n",
              "\n",
              "                                      title  \\\n",
              "0                    Hot Tub Time Machine 2   \n",
              "1  The Princess Diaries 2: Royal Engagement   \n",
              "2                                  Whiplash   \n",
              "3                                   Kahaani   \n",
              "4                                Marine Boy   \n",
              "\n",
              "                                            Keywords  \\\n",
              "0  [{'id': 4379, 'name': 'time travel'}, {'id': 9...   \n",
              "1  [{'id': 2505, 'name': 'coronation'}, {'id': 42...   \n",
              "2  [{'id': 1416, 'name': 'jazz'}, {'id': 1523, 'n...   \n",
              "3  [{'id': 10092, 'name': 'mystery'}, {'id': 1054...   \n",
              "4                                                NaN   \n",
              "\n",
              "                                                cast  \\\n",
              "0  [{'cast_id': 4, 'character': 'Lou', 'credit_id...   \n",
              "1  [{'cast_id': 1, 'character': 'Mia Thermopolis'...   \n",
              "2  [{'cast_id': 5, 'character': 'Andrew Neimann',...   \n",
              "3  [{'cast_id': 1, 'character': 'Vidya Bagchi', '...   \n",
              "4  [{'cast_id': 3, 'character': 'Chun-soo', 'cred...   \n",
              "\n",
              "                                                crew   revenue  \n",
              "0  [{'credit_id': '59ac067c92514107af02c8c8', 'de...  12314651  \n",
              "1  [{'credit_id': '52fe43fe9251416c7502563d', 'de...  95149435  \n",
              "2  [{'credit_id': '54d5356ec3a3683ba0000039', 'de...  13092000  \n",
              "3  [{'credit_id': '52fe48779251416c9108d6eb', 'de...  16000000  \n",
              "4  [{'credit_id': '52fe464b9251416c75073b43', 'de...   3923970  \n",
              "\n",
              "[5 rows x 23 columns]"
            ]
          },
          "metadata": {
            "tags": []
          },
          "execution_count": 5
        }
      ]
    },
    {
      "metadata": {
        "id": "gZOfM5bGIyTB",
        "colab_type": "code",
        "outputId": "08f5583e-39d6-4e90-8d02-cbf65567adc2",
        "colab": {
          "base_uri": "https://localhost:8080/",
          "height": 644
        }
      },
      "cell_type": "code",
      "source": [
        "test.head()"
      ],
      "execution_count": 0,
      "outputs": [
        {
          "output_type": "execute_result",
          "data": {
            "text/html": [
              "<div>\n",
              "<style scoped>\n",
              "    .dataframe tbody tr th:only-of-type {\n",
              "        vertical-align: middle;\n",
              "    }\n",
              "\n",
              "    .dataframe tbody tr th {\n",
              "        vertical-align: top;\n",
              "    }\n",
              "\n",
              "    .dataframe thead th {\n",
              "        text-align: right;\n",
              "    }\n",
              "</style>\n",
              "<table border=\"1\" class=\"dataframe\">\n",
              "  <thead>\n",
              "    <tr style=\"text-align: right;\">\n",
              "      <th></th>\n",
              "      <th>id</th>\n",
              "      <th>belongs_to_collection</th>\n",
              "      <th>budget</th>\n",
              "      <th>genres</th>\n",
              "      <th>homepage</th>\n",
              "      <th>imdb_id</th>\n",
              "      <th>original_language</th>\n",
              "      <th>original_title</th>\n",
              "      <th>overview</th>\n",
              "      <th>popularity</th>\n",
              "      <th>...</th>\n",
              "      <th>production_countries</th>\n",
              "      <th>release_date</th>\n",
              "      <th>runtime</th>\n",
              "      <th>spoken_languages</th>\n",
              "      <th>status</th>\n",
              "      <th>tagline</th>\n",
              "      <th>title</th>\n",
              "      <th>Keywords</th>\n",
              "      <th>cast</th>\n",
              "      <th>crew</th>\n",
              "    </tr>\n",
              "  </thead>\n",
              "  <tbody>\n",
              "    <tr>\n",
              "      <th>0</th>\n",
              "      <td>3001</td>\n",
              "      <td>[{'id': 34055, 'name': 'Pokémon Collection', '...</td>\n",
              "      <td>0</td>\n",
              "      <td>[{'id': 12, 'name': 'Adventure'}, {'id': 16, '...</td>\n",
              "      <td>http://www.pokemon.com/us/movies/movie-pokemon...</td>\n",
              "      <td>tt1226251</td>\n",
              "      <td>ja</td>\n",
              "      <td>ディアルガVSパルキアVSダークライ</td>\n",
              "      <td>Ash and friends (this time accompanied by newc...</td>\n",
              "      <td>3.851534</td>\n",
              "      <td>...</td>\n",
              "      <td>[{'iso_3166_1': 'JP', 'name': 'Japan'}, {'iso_...</td>\n",
              "      <td>7/14/07</td>\n",
              "      <td>90.0</td>\n",
              "      <td>[{'iso_639_1': 'en', 'name': 'English'}, {'iso...</td>\n",
              "      <td>Released</td>\n",
              "      <td>Somewhere Between Time &amp; Space... A Legend Is ...</td>\n",
              "      <td>Pokémon: The Rise of Darkrai</td>\n",
              "      <td>[{'id': 11451, 'name': 'pok√©mon'}, {'id': 115...</td>\n",
              "      <td>[{'cast_id': 3, 'character': 'Tonio', 'credit_...</td>\n",
              "      <td>[{'credit_id': '52fe44e7c3a368484e03d683', 'de...</td>\n",
              "    </tr>\n",
              "    <tr>\n",
              "      <th>1</th>\n",
              "      <td>3002</td>\n",
              "      <td>NaN</td>\n",
              "      <td>88000</td>\n",
              "      <td>[{'id': 27, 'name': 'Horror'}, {'id': 878, 'na...</td>\n",
              "      <td>NaN</td>\n",
              "      <td>tt0051380</td>\n",
              "      <td>en</td>\n",
              "      <td>Attack of the 50 Foot Woman</td>\n",
              "      <td>When an abused wife grows to giant size becaus...</td>\n",
              "      <td>3.559789</td>\n",
              "      <td>...</td>\n",
              "      <td>[{'iso_3166_1': 'US', 'name': 'United States o...</td>\n",
              "      <td>5/19/58</td>\n",
              "      <td>65.0</td>\n",
              "      <td>[{'iso_639_1': 'en', 'name': 'English'}]</td>\n",
              "      <td>Released</td>\n",
              "      <td>A titanic beauty spreads a macabre wave of hor...</td>\n",
              "      <td>Attack of the 50 Foot Woman</td>\n",
              "      <td>[{'id': 9748, 'name': 'revenge'}, {'id': 9951,...</td>\n",
              "      <td>[{'cast_id': 2, 'character': 'Nancy Fowler Arc...</td>\n",
              "      <td>[{'credit_id': '55807805c3a3685b1300060b', 'de...</td>\n",
              "    </tr>\n",
              "    <tr>\n",
              "      <th>2</th>\n",
              "      <td>3003</td>\n",
              "      <td>NaN</td>\n",
              "      <td>0</td>\n",
              "      <td>[{'id': 35, 'name': 'Comedy'}, {'id': 10749, '...</td>\n",
              "      <td>NaN</td>\n",
              "      <td>tt0118556</td>\n",
              "      <td>en</td>\n",
              "      <td>Addicted to Love</td>\n",
              "      <td>Good-natured astronomer Sam is devastated when...</td>\n",
              "      <td>8.085194</td>\n",
              "      <td>...</td>\n",
              "      <td>[{'iso_3166_1': 'US', 'name': 'United States o...</td>\n",
              "      <td>5/23/97</td>\n",
              "      <td>100.0</td>\n",
              "      <td>[{'iso_639_1': 'en', 'name': 'English'}]</td>\n",
              "      <td>Released</td>\n",
              "      <td>A Comedy About Lost Loves And Last Laughs</td>\n",
              "      <td>Addicted to Love</td>\n",
              "      <td>[{'id': 931, 'name': 'jealousy'}, {'id': 9673,...</td>\n",
              "      <td>[{'cast_id': 11, 'character': 'Maggie', 'credi...</td>\n",
              "      <td>[{'credit_id': '52fe4330c3a36847f8041367', 'de...</td>\n",
              "    </tr>\n",
              "    <tr>\n",
              "      <th>3</th>\n",
              "      <td>3004</td>\n",
              "      <td>NaN</td>\n",
              "      <td>6800000</td>\n",
              "      <td>[{'id': 18, 'name': 'Drama'}, {'id': 10752, 'n...</td>\n",
              "      <td>http://www.sonyclassics.com/incendies/</td>\n",
              "      <td>tt1255953</td>\n",
              "      <td>fr</td>\n",
              "      <td>Incendies</td>\n",
              "      <td>A mother's last wishes send twins Jeanne and S...</td>\n",
              "      <td>8.596012</td>\n",
              "      <td>...</td>\n",
              "      <td>[{'iso_3166_1': 'CA', 'name': 'Canada'}, {'iso...</td>\n",
              "      <td>9/4/10</td>\n",
              "      <td>130.0</td>\n",
              "      <td>[{'iso_639_1': 'fr', 'name': 'Français'}, {'is...</td>\n",
              "      <td>Released</td>\n",
              "      <td>The search began at the opening of their mothe...</td>\n",
              "      <td>Incendies</td>\n",
              "      <td>[{'id': 378, 'name': 'prison'}, {'id': 539, 'n...</td>\n",
              "      <td>[{'cast_id': 6, 'character': 'Nawal', 'credit_...</td>\n",
              "      <td>[{'credit_id': '56478092c3a36826140043af', 'de...</td>\n",
              "    </tr>\n",
              "    <tr>\n",
              "      <th>4</th>\n",
              "      <td>3005</td>\n",
              "      <td>NaN</td>\n",
              "      <td>2000000</td>\n",
              "      <td>[{'id': 36, 'name': 'History'}, {'id': 99, 'na...</td>\n",
              "      <td>NaN</td>\n",
              "      <td>tt0418753</td>\n",
              "      <td>en</td>\n",
              "      <td>Inside Deep Throat</td>\n",
              "      <td>In 1972, a seemingly typical shoestring budget...</td>\n",
              "      <td>3.217680</td>\n",
              "      <td>...</td>\n",
              "      <td>[{'iso_3166_1': 'US', 'name': 'United States o...</td>\n",
              "      <td>2/11/05</td>\n",
              "      <td>92.0</td>\n",
              "      <td>[{'iso_639_1': 'en', 'name': 'English'}]</td>\n",
              "      <td>Released</td>\n",
              "      <td>It was filmed in 6 days for 25 thousand dollar...</td>\n",
              "      <td>Inside Deep Throat</td>\n",
              "      <td>[{'id': 279, 'name': 'usa'}, {'id': 1228, 'nam...</td>\n",
              "      <td>[{'cast_id': 1, 'character': 'Narrator (voice)...</td>\n",
              "      <td>[{'credit_id': '52fe44ce9251416c75041967', 'de...</td>\n",
              "    </tr>\n",
              "  </tbody>\n",
              "</table>\n",
              "<p>5 rows × 22 columns</p>\n",
              "</div>"
            ],
            "text/plain": [
              "     id                              belongs_to_collection   budget  \\\n",
              "0  3001  [{'id': 34055, 'name': 'Pokémon Collection', '...        0   \n",
              "1  3002                                                NaN    88000   \n",
              "2  3003                                                NaN        0   \n",
              "3  3004                                                NaN  6800000   \n",
              "4  3005                                                NaN  2000000   \n",
              "\n",
              "                                              genres  \\\n",
              "0  [{'id': 12, 'name': 'Adventure'}, {'id': 16, '...   \n",
              "1  [{'id': 27, 'name': 'Horror'}, {'id': 878, 'na...   \n",
              "2  [{'id': 35, 'name': 'Comedy'}, {'id': 10749, '...   \n",
              "3  [{'id': 18, 'name': 'Drama'}, {'id': 10752, 'n...   \n",
              "4  [{'id': 36, 'name': 'History'}, {'id': 99, 'na...   \n",
              "\n",
              "                                            homepage    imdb_id  \\\n",
              "0  http://www.pokemon.com/us/movies/movie-pokemon...  tt1226251   \n",
              "1                                                NaN  tt0051380   \n",
              "2                                                NaN  tt0118556   \n",
              "3             http://www.sonyclassics.com/incendies/  tt1255953   \n",
              "4                                                NaN  tt0418753   \n",
              "\n",
              "  original_language               original_title  \\\n",
              "0                ja           ディアルガVSパルキアVSダークライ   \n",
              "1                en  Attack of the 50 Foot Woman   \n",
              "2                en             Addicted to Love   \n",
              "3                fr                    Incendies   \n",
              "4                en           Inside Deep Throat   \n",
              "\n",
              "                                            overview  popularity  \\\n",
              "0  Ash and friends (this time accompanied by newc...    3.851534   \n",
              "1  When an abused wife grows to giant size becaus...    3.559789   \n",
              "2  Good-natured astronomer Sam is devastated when...    8.085194   \n",
              "3  A mother's last wishes send twins Jeanne and S...    8.596012   \n",
              "4  In 1972, a seemingly typical shoestring budget...    3.217680   \n",
              "\n",
              "                         ...                          \\\n",
              "0                        ...                           \n",
              "1                        ...                           \n",
              "2                        ...                           \n",
              "3                        ...                           \n",
              "4                        ...                           \n",
              "\n",
              "                                production_countries release_date runtime  \\\n",
              "0  [{'iso_3166_1': 'JP', 'name': 'Japan'}, {'iso_...      7/14/07    90.0   \n",
              "1  [{'iso_3166_1': 'US', 'name': 'United States o...      5/19/58    65.0   \n",
              "2  [{'iso_3166_1': 'US', 'name': 'United States o...      5/23/97   100.0   \n",
              "3  [{'iso_3166_1': 'CA', 'name': 'Canada'}, {'iso...       9/4/10   130.0   \n",
              "4  [{'iso_3166_1': 'US', 'name': 'United States o...      2/11/05    92.0   \n",
              "\n",
              "                                    spoken_languages    status  \\\n",
              "0  [{'iso_639_1': 'en', 'name': 'English'}, {'iso...  Released   \n",
              "1           [{'iso_639_1': 'en', 'name': 'English'}]  Released   \n",
              "2           [{'iso_639_1': 'en', 'name': 'English'}]  Released   \n",
              "3  [{'iso_639_1': 'fr', 'name': 'Français'}, {'is...  Released   \n",
              "4           [{'iso_639_1': 'en', 'name': 'English'}]  Released   \n",
              "\n",
              "                                             tagline  \\\n",
              "0  Somewhere Between Time & Space... A Legend Is ...   \n",
              "1  A titanic beauty spreads a macabre wave of hor...   \n",
              "2          A Comedy About Lost Loves And Last Laughs   \n",
              "3  The search began at the opening of their mothe...   \n",
              "4  It was filmed in 6 days for 25 thousand dollar...   \n",
              "\n",
              "                          title  \\\n",
              "0  Pokémon: The Rise of Darkrai   \n",
              "1   Attack of the 50 Foot Woman   \n",
              "2              Addicted to Love   \n",
              "3                     Incendies   \n",
              "4            Inside Deep Throat   \n",
              "\n",
              "                                            Keywords  \\\n",
              "0  [{'id': 11451, 'name': 'pok√©mon'}, {'id': 115...   \n",
              "1  [{'id': 9748, 'name': 'revenge'}, {'id': 9951,...   \n",
              "2  [{'id': 931, 'name': 'jealousy'}, {'id': 9673,...   \n",
              "3  [{'id': 378, 'name': 'prison'}, {'id': 539, 'n...   \n",
              "4  [{'id': 279, 'name': 'usa'}, {'id': 1228, 'nam...   \n",
              "\n",
              "                                                cast  \\\n",
              "0  [{'cast_id': 3, 'character': 'Tonio', 'credit_...   \n",
              "1  [{'cast_id': 2, 'character': 'Nancy Fowler Arc...   \n",
              "2  [{'cast_id': 11, 'character': 'Maggie', 'credi...   \n",
              "3  [{'cast_id': 6, 'character': 'Nawal', 'credit_...   \n",
              "4  [{'cast_id': 1, 'character': 'Narrator (voice)...   \n",
              "\n",
              "                                                crew  \n",
              "0  [{'credit_id': '52fe44e7c3a368484e03d683', 'de...  \n",
              "1  [{'credit_id': '55807805c3a3685b1300060b', 'de...  \n",
              "2  [{'credit_id': '52fe4330c3a36847f8041367', 'de...  \n",
              "3  [{'credit_id': '56478092c3a36826140043af', 'de...  \n",
              "4  [{'credit_id': '52fe44ce9251416c75041967', 'de...  \n",
              "\n",
              "[5 rows x 22 columns]"
            ]
          },
          "metadata": {
            "tags": []
          },
          "execution_count": 6
        }
      ]
    },
    {
      "metadata": {
        "id": "QTFPLVe6IyTP",
        "colab_type": "code",
        "outputId": "a8b7cc60-0355-41a5-d953-95def283706b",
        "colab": {
          "base_uri": "https://localhost:8080/",
          "height": 34
        }
      },
      "cell_type": "code",
      "source": [
        "train.shape"
      ],
      "execution_count": 0,
      "outputs": [
        {
          "output_type": "execute_result",
          "data": {
            "text/plain": [
              "(3000, 23)"
            ]
          },
          "metadata": {
            "tags": []
          },
          "execution_count": 7
        }
      ]
    },
    {
      "metadata": {
        "id": "aAefwAI-IyTe",
        "colab_type": "code",
        "outputId": "45eee901-d173-4c42-bf66-11893bfd1575",
        "colab": {
          "base_uri": "https://localhost:8080/",
          "height": 121
        }
      },
      "cell_type": "code",
      "source": [
        "train.columns"
      ],
      "execution_count": 0,
      "outputs": [
        {
          "output_type": "execute_result",
          "data": {
            "text/plain": [
              "Index(['id', 'belongs_to_collection', 'budget', 'genres', 'homepage',\n",
              "       'imdb_id', 'original_language', 'original_title', 'overview',\n",
              "       'popularity', 'poster_path', 'production_companies',\n",
              "       'production_countries', 'release_date', 'runtime', 'spoken_languages',\n",
              "       'status', 'tagline', 'title', 'Keywords', 'cast', 'crew', 'revenue'],\n",
              "      dtype='object')"
            ]
          },
          "metadata": {
            "tags": []
          },
          "execution_count": 8
        }
      ]
    },
    {
      "metadata": {
        "scrolled": false,
        "id": "_wIo-VxgIyTp",
        "colab_type": "code",
        "outputId": "9f5619ca-8f56-48bd-96db-2cb03759ab54",
        "colab": {
          "base_uri": "https://localhost:8080/",
          "height": 501
        }
      },
      "cell_type": "code",
      "source": [
        "train.info() "
      ],
      "execution_count": 0,
      "outputs": [
        {
          "output_type": "stream",
          "text": [
            "<class 'pandas.core.frame.DataFrame'>\n",
            "RangeIndex: 3000 entries, 0 to 2999\n",
            "Data columns (total 23 columns):\n",
            "id                       3000 non-null int64\n",
            "belongs_to_collection    604 non-null object\n",
            "budget                   3000 non-null int64\n",
            "genres                   2993 non-null object\n",
            "homepage                 946 non-null object\n",
            "imdb_id                  3000 non-null object\n",
            "original_language        3000 non-null object\n",
            "original_title           3000 non-null object\n",
            "overview                 2992 non-null object\n",
            "popularity               3000 non-null float64\n",
            "poster_path              2999 non-null object\n",
            "production_companies     2844 non-null object\n",
            "production_countries     2945 non-null object\n",
            "release_date             3000 non-null object\n",
            "runtime                  2998 non-null float64\n",
            "spoken_languages         2980 non-null object\n",
            "status                   3000 non-null object\n",
            "tagline                  2403 non-null object\n",
            "title                    3000 non-null object\n",
            "Keywords                 2724 non-null object\n",
            "cast                     2987 non-null object\n",
            "crew                     2984 non-null object\n",
            "revenue                  3000 non-null int64\n",
            "dtypes: float64(2), int64(3), object(18)\n",
            "memory usage: 539.1+ KB\n"
          ],
          "name": "stdout"
        }
      ]
    },
    {
      "metadata": {
        "id": "1StrV0ZeRzGM",
        "colab_type": "code",
        "outputId": "37ca0bf7-0993-4e15-90e6-404d20658423",
        "colab": {
          "base_uri": "https://localhost:8080/",
          "height": 288
        }
      },
      "cell_type": "code",
      "source": [
        "train.describe()"
      ],
      "execution_count": 0,
      "outputs": [
        {
          "output_type": "execute_result",
          "data": {
            "text/html": [
              "<div>\n",
              "<style scoped>\n",
              "    .dataframe tbody tr th:only-of-type {\n",
              "        vertical-align: middle;\n",
              "    }\n",
              "\n",
              "    .dataframe tbody tr th {\n",
              "        vertical-align: top;\n",
              "    }\n",
              "\n",
              "    .dataframe thead th {\n",
              "        text-align: right;\n",
              "    }\n",
              "</style>\n",
              "<table border=\"1\" class=\"dataframe\">\n",
              "  <thead>\n",
              "    <tr style=\"text-align: right;\">\n",
              "      <th></th>\n",
              "      <th>id</th>\n",
              "      <th>budget</th>\n",
              "      <th>popularity</th>\n",
              "      <th>runtime</th>\n",
              "      <th>revenue</th>\n",
              "    </tr>\n",
              "  </thead>\n",
              "  <tbody>\n",
              "    <tr>\n",
              "      <th>count</th>\n",
              "      <td>3000.000000</td>\n",
              "      <td>3.000000e+03</td>\n",
              "      <td>3000.000000</td>\n",
              "      <td>2998.000000</td>\n",
              "      <td>3.000000e+03</td>\n",
              "    </tr>\n",
              "    <tr>\n",
              "      <th>mean</th>\n",
              "      <td>1500.500000</td>\n",
              "      <td>2.253133e+07</td>\n",
              "      <td>8.463274</td>\n",
              "      <td>107.856571</td>\n",
              "      <td>6.672585e+07</td>\n",
              "    </tr>\n",
              "    <tr>\n",
              "      <th>std</th>\n",
              "      <td>866.169729</td>\n",
              "      <td>3.702609e+07</td>\n",
              "      <td>12.104000</td>\n",
              "      <td>22.086434</td>\n",
              "      <td>1.375323e+08</td>\n",
              "    </tr>\n",
              "    <tr>\n",
              "      <th>min</th>\n",
              "      <td>1.000000</td>\n",
              "      <td>0.000000e+00</td>\n",
              "      <td>0.000001</td>\n",
              "      <td>0.000000</td>\n",
              "      <td>1.000000e+00</td>\n",
              "    </tr>\n",
              "    <tr>\n",
              "      <th>25%</th>\n",
              "      <td>750.750000</td>\n",
              "      <td>0.000000e+00</td>\n",
              "      <td>4.018053</td>\n",
              "      <td>94.000000</td>\n",
              "      <td>2.379808e+06</td>\n",
              "    </tr>\n",
              "    <tr>\n",
              "      <th>50%</th>\n",
              "      <td>1500.500000</td>\n",
              "      <td>8.000000e+06</td>\n",
              "      <td>7.374861</td>\n",
              "      <td>104.000000</td>\n",
              "      <td>1.680707e+07</td>\n",
              "    </tr>\n",
              "    <tr>\n",
              "      <th>75%</th>\n",
              "      <td>2250.250000</td>\n",
              "      <td>2.900000e+07</td>\n",
              "      <td>10.890983</td>\n",
              "      <td>118.000000</td>\n",
              "      <td>6.891920e+07</td>\n",
              "    </tr>\n",
              "    <tr>\n",
              "      <th>max</th>\n",
              "      <td>3000.000000</td>\n",
              "      <td>3.800000e+08</td>\n",
              "      <td>294.337037</td>\n",
              "      <td>338.000000</td>\n",
              "      <td>1.519558e+09</td>\n",
              "    </tr>\n",
              "  </tbody>\n",
              "</table>\n",
              "</div>"
            ],
            "text/plain": [
              "                id        budget   popularity      runtime       revenue\n",
              "count  3000.000000  3.000000e+03  3000.000000  2998.000000  3.000000e+03\n",
              "mean   1500.500000  2.253133e+07     8.463274   107.856571  6.672585e+07\n",
              "std     866.169729  3.702609e+07    12.104000    22.086434  1.375323e+08\n",
              "min       1.000000  0.000000e+00     0.000001     0.000000  1.000000e+00\n",
              "25%     750.750000  0.000000e+00     4.018053    94.000000  2.379808e+06\n",
              "50%    1500.500000  8.000000e+06     7.374861   104.000000  1.680707e+07\n",
              "75%    2250.250000  2.900000e+07    10.890983   118.000000  6.891920e+07\n",
              "max    3000.000000  3.800000e+08   294.337037   338.000000  1.519558e+09"
            ]
          },
          "metadata": {
            "tags": []
          },
          "execution_count": 10
        }
      ]
    },
    {
      "metadata": {
        "id": "sy7P7mJTIyT1",
        "colab_type": "code",
        "outputId": "2f2086cd-7008-4d48-fa0a-9c72d3d192c4",
        "colab": {
          "base_uri": "https://localhost:8080/",
          "height": 432
        }
      },
      "cell_type": "code",
      "source": [
        "train.isnull().sum() "
      ],
      "execution_count": 0,
      "outputs": [
        {
          "output_type": "execute_result",
          "data": {
            "text/plain": [
              "id                          0\n",
              "belongs_to_collection    2396\n",
              "budget                      0\n",
              "genres                      7\n",
              "homepage                 2054\n",
              "imdb_id                     0\n",
              "original_language           0\n",
              "original_title              0\n",
              "overview                    8\n",
              "popularity                  0\n",
              "poster_path                 1\n",
              "production_companies      156\n",
              "production_countries       55\n",
              "release_date                0\n",
              "runtime                     2\n",
              "spoken_languages           20\n",
              "status                      0\n",
              "tagline                   597\n",
              "title                       0\n",
              "Keywords                  276\n",
              "cast                       13\n",
              "crew                       16\n",
              "revenue                     0\n",
              "dtype: int64"
            ]
          },
          "metadata": {
            "tags": []
          },
          "execution_count": 11
        }
      ]
    },
    {
      "metadata": {
        "id": "vVgFcsOYIyT_",
        "colab_type": "code",
        "outputId": "dd21f78e-4798-4834-d134-1adf863b5058",
        "colab": {
          "base_uri": "https://localhost:8080/",
          "height": 415
        }
      },
      "cell_type": "code",
      "source": [
        "test.isnull().sum() "
      ],
      "execution_count": 0,
      "outputs": [
        {
          "output_type": "execute_result",
          "data": {
            "text/plain": [
              "id                          0\n",
              "belongs_to_collection    3521\n",
              "budget                      0\n",
              "genres                     16\n",
              "homepage                 2978\n",
              "imdb_id                     0\n",
              "original_language           0\n",
              "original_title              0\n",
              "overview                   14\n",
              "popularity                  0\n",
              "poster_path                 1\n",
              "production_companies      258\n",
              "production_countries      102\n",
              "release_date                1\n",
              "runtime                     4\n",
              "spoken_languages           42\n",
              "status                      2\n",
              "tagline                   863\n",
              "title                       3\n",
              "Keywords                  393\n",
              "cast                       13\n",
              "crew                       22\n",
              "dtype: int64"
            ]
          },
          "metadata": {
            "tags": []
          },
          "execution_count": 12
        }
      ]
    },
    {
      "metadata": {
        "id": "CGIzpiBaIyUX",
        "colab_type": "code",
        "outputId": "b09a5747-96da-4c1a-80aa-75eb73a046d7",
        "colab": {
          "base_uri": "https://localhost:8080/",
          "height": 54
        }
      },
      "cell_type": "code",
      "source": [
        "train['belongs_to_collection'][0]"
      ],
      "execution_count": 0,
      "outputs": [
        {
          "output_type": "execute_result",
          "data": {
            "text/plain": [
              "\"[{'id': 313576, 'name': 'Hot Tub Time Machine Collection', 'poster_path': '/iEhb00TGPucF0b4joM1ieyY026U.jpg', 'backdrop_path': '/noeTVcgpBiD48fDjFVic1Vz7ope.jpg'}]\""
            ]
          },
          "metadata": {
            "tags": []
          },
          "execution_count": 13
        }
      ]
    },
    {
      "metadata": {
        "id": "2we-DEBWTYiU",
        "colab_type": "code",
        "colab": {}
      },
      "cell_type": "code",
      "source": [
        "train.drop(['poster_path','imdb_id','original_title',],axis=1,inplace=True)\n",
        "test.drop(['poster_path','imdb_id','original_title',],axis=1,inplace=True)"
      ],
      "execution_count": 0,
      "outputs": []
    },
    {
      "metadata": {
        "id": "c_hA6uyhSnDx",
        "colab_type": "text"
      },
      "cell_type": "markdown",
      "source": [
        "### Data Cleaning revenue and budget"
      ]
    },
    {
      "metadata": {
        "id": "YR8QHOltLIrJ",
        "colab_type": "code",
        "colab": {}
      },
      "cell_type": "code",
      "source": [
        "# First we have discovered that some films have really strange values such as runtime which are films that has 0 minutes of runtime what is completely impossible\n",
        "#and that info is public and been released before the movie so we can deploy it manually in our model\n",
        "# train\n",
        "train.loc[train['id'] == 16,'revenue'] = 192864          # Skinning\n",
        "train.loc[train['id'] == 90,'budget'] = 30000000         # Sommersby          \n",
        "train.loc[train['id'] == 118,'budget'] = 60000000        # Wild Hogs\n",
        "train.loc[train['id'] == 149,'budget'] = 18000000        # Beethoven\n",
        "train.loc[train['id'] == 313,'revenue'] = 12000000       # The Cookout \n",
        "train.loc[train['id'] == 451,'revenue'] = 12000000       # Chasing Liberty\n",
        "train.loc[train['id'] == 464,'budget'] = 20000000        # Parenthood\n",
        "train.loc[train['id'] == 470,'budget'] = 13000000        # The Karate Kid, Part II\n",
        "train.loc[train['id'] == 513,'budget'] = 930000          # From Prada to Nada\n",
        "train.loc[train['id'] == 797,'budget'] = 8000000         # Welcome to Dongmakgol\n",
        "train.loc[train['id'] == 819,'budget'] = 90000000        # Alvin and the Chipmunks: The Road Chip\n",
        "train.loc[train['id'] == 850,'budget'] = 90000000        # Modern Times\n",
        "train.loc[train['id'] == 1112,'budget'] = 7500000        # An Officer and a Gentleman\n",
        "train.loc[train['id'] == 1131,'budget'] = 4300000        # Smokey and the Bandit   \n",
        "train.loc[train['id'] == 1359,'budget'] = 10000000       # Stir Crazy \n",
        "train.loc[train['id'] == 1542,'budget'] = 1              # All at Once\n",
        "train.loc[train['id'] == 1542,'budget'] = 15800000       # Crocodile Dundee II\n",
        "train.loc[train['id'] == 1571,'budget'] = 4000000        # Lady and the Tramp\n",
        "train.loc[train['id'] == 1714,'budget'] = 46000000       # The Recruit\n",
        "train.loc[train['id'] == 1721,'budget'] = 17500000       # Cocoon\n",
        "train.loc[train['id'] == 1865,'revenue'] = 25000000      # Scooby-Doo 2: Monsters Unleashed\n",
        "train.loc[train['id'] == 2268,'budget'] = 17500000       # Madea Goes to Jail budget\n",
        "train.loc[train['id'] == 2491,'revenue'] = 6800000       # Never Talk to Strangers\n",
        "train.loc[train['id'] == 2602,'budget'] = 31000000       # Mr. Holland's Opus\n",
        "train.loc[train['id'] == 2612,'budget'] = 15000000       # Field of Dreams\n",
        "train.loc[train['id'] == 2696,'budget'] = 10000000       # Nurse 3-D\n",
        "train.loc[train['id'] == 2801,'budget'] = 10000000       # Fracture\n",
        "#test\n",
        "test.loc[test['id'] == 3889,'budget'] = 15000000       # Colossal\n",
        "test.loc[test['id'] == 6733,'budget'] = 5000000        # The Big Sick\n",
        "test.loc[test['id'] == 3197,'budget'] = 8000000        # High-Rise\n",
        "test.loc[test['id'] == 6683,'budget'] = 50000000       # The Pink Panther 2\n",
        "test.loc[test['id'] == 5704,'budget'] = 4300000        # French Connection II\n",
        "test.loc[test['id'] == 6109,'budget'] = 281756         # Dogtooth\n",
        "test.loc[test['id'] == 7242,'budget'] = 10000000       # Addams Family Values\n",
        "test.loc[test['id'] == 7021,'budget'] = 17540562       #  Two Is a Family\n",
        "test.loc[test['id'] == 5591,'budget'] = 4000000        # The Orphanage\n",
        "test.loc[test['id'] == 4282,'budget'] = 20000000       # Big Top Pee-wee"
      ],
      "execution_count": 0,
      "outputs": []
    },
    {
      "metadata": {
        "id": "mfTSnoJOS93N",
        "colab_type": "text"
      },
      "cell_type": "markdown",
      "source": [
        "### Fixing some runtimes of movies"
      ]
    },
    {
      "metadata": {
        "id": "56Kb6zItS8Hh",
        "colab_type": "code",
        "outputId": "a488a50c-a1c3-4575-fe99-cedebefd1a72",
        "colab": {
          "base_uri": "https://localhost:8080/",
          "height": 1693
        }
      },
      "cell_type": "code",
      "source": [
        "# TRAIN \n",
        "\n",
        "train.runtime[train.id == 391] = 86 #Il peor natagle de la meva vida\n",
        "train.runtime[train.id == 592] = 90 #А поутру они проснулись\n",
        "train.runtime[train.id == 925] = 95 #¿Quién mató a Bambi?\n",
        "train.runtime[train.id == 978] = 93 #La peggior settimana della mia vita\n",
        "train.runtime[train.id == 1256] = 92 #Cipolla Colt\n",
        "train.runtime[train.id == 1542] = 93 #Все и сразу\n",
        "train.runtime[train.id == 1875] = 86 #Vermist\n",
        "train.runtime[train.id == 2151] = 108 #Mechenosets\n",
        "train.runtime[train.id == 2499] = 108 #Na Igre 2. Novyy Uroven\n",
        "train.runtime[train.id == 2646] = 98 #同桌的妳\n",
        "train.runtime[train.id == 2786] = 111 #Revelation\n",
        "train.runtime[train.id == 2866] = 96 #Tutto tutto niente niente\n",
        "\n",
        "# TEST\n",
        "test.runtime[test.id == 4074] = 103 #Shikshanachya Aaicha Gho\n",
        "test.runtime[test.id == 4222] = 93 #Street Knight\n",
        "test.runtime[test.id == 4431] = 100 #Плюс один\n",
        "test.runtime[test.id == 5520] = 86 #Glukhar v kino\n",
        "test.runtime[test.id == 5845] = 83 #Frau Müller muss weg!\n",
        "test.runtime[test.id == 5849] = 140 #Shabd\n",
        "test.runtime[test.id == 6210] = 104 #Le dernier souffle\n",
        "test.runtime[test.id == 6804] = 145 #Chaahat Ek Nasha..\n",
        "test.runtime[test.id == 7321] = 87 #El truco del manco"
      ],
      "execution_count": 0,
      "outputs": [
        {
          "output_type": "stream",
          "text": [
            "/usr/local/lib/python3.6/dist-packages/ipykernel_launcher.py:2: SettingWithCopyWarning: \n",
            "A value is trying to be set on a copy of a slice from a DataFrame\n",
            "\n",
            "See the caveats in the documentation: http://pandas.pydata.org/pandas-docs/stable/indexing.html#indexing-view-versus-copy\n",
            "  \n",
            "/usr/local/lib/python3.6/dist-packages/ipykernel_launcher.py:3: SettingWithCopyWarning: \n",
            "A value is trying to be set on a copy of a slice from a DataFrame\n",
            "\n",
            "See the caveats in the documentation: http://pandas.pydata.org/pandas-docs/stable/indexing.html#indexing-view-versus-copy\n",
            "  This is separate from the ipykernel package so we can avoid doing imports until\n",
            "/usr/local/lib/python3.6/dist-packages/ipykernel_launcher.py:4: SettingWithCopyWarning: \n",
            "A value is trying to be set on a copy of a slice from a DataFrame\n",
            "\n",
            "See the caveats in the documentation: http://pandas.pydata.org/pandas-docs/stable/indexing.html#indexing-view-versus-copy\n",
            "  after removing the cwd from sys.path.\n",
            "/usr/local/lib/python3.6/dist-packages/ipykernel_launcher.py:5: SettingWithCopyWarning: \n",
            "A value is trying to be set on a copy of a slice from a DataFrame\n",
            "\n",
            "See the caveats in the documentation: http://pandas.pydata.org/pandas-docs/stable/indexing.html#indexing-view-versus-copy\n",
            "  \"\"\"\n",
            "/usr/local/lib/python3.6/dist-packages/ipykernel_launcher.py:6: SettingWithCopyWarning: \n",
            "A value is trying to be set on a copy of a slice from a DataFrame\n",
            "\n",
            "See the caveats in the documentation: http://pandas.pydata.org/pandas-docs/stable/indexing.html#indexing-view-versus-copy\n",
            "  \n",
            "/usr/local/lib/python3.6/dist-packages/ipykernel_launcher.py:7: SettingWithCopyWarning: \n",
            "A value is trying to be set on a copy of a slice from a DataFrame\n",
            "\n",
            "See the caveats in the documentation: http://pandas.pydata.org/pandas-docs/stable/indexing.html#indexing-view-versus-copy\n",
            "  import sys\n",
            "/usr/local/lib/python3.6/dist-packages/ipykernel_launcher.py:8: SettingWithCopyWarning: \n",
            "A value is trying to be set on a copy of a slice from a DataFrame\n",
            "\n",
            "See the caveats in the documentation: http://pandas.pydata.org/pandas-docs/stable/indexing.html#indexing-view-versus-copy\n",
            "  \n",
            "/usr/local/lib/python3.6/dist-packages/ipykernel_launcher.py:9: SettingWithCopyWarning: \n",
            "A value is trying to be set on a copy of a slice from a DataFrame\n",
            "\n",
            "See the caveats in the documentation: http://pandas.pydata.org/pandas-docs/stable/indexing.html#indexing-view-versus-copy\n",
            "  if __name__ == '__main__':\n",
            "/usr/local/lib/python3.6/dist-packages/ipykernel_launcher.py:10: SettingWithCopyWarning: \n",
            "A value is trying to be set on a copy of a slice from a DataFrame\n",
            "\n",
            "See the caveats in the documentation: http://pandas.pydata.org/pandas-docs/stable/indexing.html#indexing-view-versus-copy\n",
            "  # Remove the CWD from sys.path while we load stuff.\n",
            "/usr/local/lib/python3.6/dist-packages/ipykernel_launcher.py:11: SettingWithCopyWarning: \n",
            "A value is trying to be set on a copy of a slice from a DataFrame\n",
            "\n",
            "See the caveats in the documentation: http://pandas.pydata.org/pandas-docs/stable/indexing.html#indexing-view-versus-copy\n",
            "  # This is added back by InteractiveShellApp.init_path()\n",
            "/usr/local/lib/python3.6/dist-packages/ipykernel_launcher.py:12: SettingWithCopyWarning: \n",
            "A value is trying to be set on a copy of a slice from a DataFrame\n",
            "\n",
            "See the caveats in the documentation: http://pandas.pydata.org/pandas-docs/stable/indexing.html#indexing-view-versus-copy\n",
            "  if sys.path[0] == '':\n",
            "/usr/local/lib/python3.6/dist-packages/ipykernel_launcher.py:13: SettingWithCopyWarning: \n",
            "A value is trying to be set on a copy of a slice from a DataFrame\n",
            "\n",
            "See the caveats in the documentation: http://pandas.pydata.org/pandas-docs/stable/indexing.html#indexing-view-versus-copy\n",
            "  del sys.path[0]\n",
            "/usr/local/lib/python3.6/dist-packages/ipykernel_launcher.py:16: SettingWithCopyWarning: \n",
            "A value is trying to be set on a copy of a slice from a DataFrame\n",
            "\n",
            "See the caveats in the documentation: http://pandas.pydata.org/pandas-docs/stable/indexing.html#indexing-view-versus-copy\n",
            "  app.launch_new_instance()\n",
            "/usr/local/lib/python3.6/dist-packages/ipykernel_launcher.py:17: SettingWithCopyWarning: \n",
            "A value is trying to be set on a copy of a slice from a DataFrame\n",
            "\n",
            "See the caveats in the documentation: http://pandas.pydata.org/pandas-docs/stable/indexing.html#indexing-view-versus-copy\n",
            "/usr/local/lib/python3.6/dist-packages/ipykernel_launcher.py:18: SettingWithCopyWarning: \n",
            "A value is trying to be set on a copy of a slice from a DataFrame\n",
            "\n",
            "See the caveats in the documentation: http://pandas.pydata.org/pandas-docs/stable/indexing.html#indexing-view-versus-copy\n",
            "/usr/local/lib/python3.6/dist-packages/ipykernel_launcher.py:19: SettingWithCopyWarning: \n",
            "A value is trying to be set on a copy of a slice from a DataFrame\n",
            "\n",
            "See the caveats in the documentation: http://pandas.pydata.org/pandas-docs/stable/indexing.html#indexing-view-versus-copy\n",
            "/usr/local/lib/python3.6/dist-packages/ipykernel_launcher.py:20: SettingWithCopyWarning: \n",
            "A value is trying to be set on a copy of a slice from a DataFrame\n",
            "\n",
            "See the caveats in the documentation: http://pandas.pydata.org/pandas-docs/stable/indexing.html#indexing-view-versus-copy\n",
            "/usr/local/lib/python3.6/dist-packages/ipykernel_launcher.py:21: SettingWithCopyWarning: \n",
            "A value is trying to be set on a copy of a slice from a DataFrame\n",
            "\n",
            "See the caveats in the documentation: http://pandas.pydata.org/pandas-docs/stable/indexing.html#indexing-view-versus-copy\n",
            "/usr/local/lib/python3.6/dist-packages/ipykernel_launcher.py:22: SettingWithCopyWarning: \n",
            "A value is trying to be set on a copy of a slice from a DataFrame\n",
            "\n",
            "See the caveats in the documentation: http://pandas.pydata.org/pandas-docs/stable/indexing.html#indexing-view-versus-copy\n",
            "/usr/local/lib/python3.6/dist-packages/ipykernel_launcher.py:23: SettingWithCopyWarning: \n",
            "A value is trying to be set on a copy of a slice from a DataFrame\n",
            "\n",
            "See the caveats in the documentation: http://pandas.pydata.org/pandas-docs/stable/indexing.html#indexing-view-versus-copy\n",
            "/usr/local/lib/python3.6/dist-packages/ipykernel_launcher.py:24: SettingWithCopyWarning: \n",
            "A value is trying to be set on a copy of a slice from a DataFrame\n",
            "\n",
            "See the caveats in the documentation: http://pandas.pydata.org/pandas-docs/stable/indexing.html#indexing-view-versus-copy\n"
          ],
          "name": "stderr"
        }
      ]
    },
    {
      "metadata": {
        "id": "itR0pLz5TtNg",
        "colab_type": "code",
        "colab": {}
      },
      "cell_type": "code",
      "source": [
        "#Let´s fix the revenue for those films which revenue and budget are significantlly low\n",
        "\n",
        "power_six = train.id[train.budget > 1000][train.revenue < 100]\n",
        "                             #I think this is not right better option would be to use public info available on imdb as done for in above code:)\n",
        "for k in power_six :\n",
        "     train.loc[train['id'] == k,'revenue'] =  train.loc[train['id'] == k,'revenue'] * 1000000"
      ],
      "execution_count": 0,
      "outputs": []
    },
    {
      "metadata": {
        "id": "YWqS9HsIweW7",
        "colab_type": "code",
        "outputId": "f97c1e37-8697-4f97-d019-033ba970c728",
        "colab": {
          "base_uri": "https://localhost:8080/",
          "height": 121
        }
      },
      "cell_type": "code",
      "source": [
        "power_six"
      ],
      "execution_count": 0,
      "outputs": [
        {
          "output_type": "execute_result",
          "data": {
            "text/plain": [
              "1006    1007\n",
              "1281    1282\n",
              "1541    1542\n",
              "1884    1885\n",
              "2090    2091\n",
              "Name: id, dtype: int64"
            ]
          },
          "metadata": {
            "tags": []
          },
          "execution_count": 18
        }
      ]
    },
    {
      "metadata": {
        "id": "jyb0z1VSxuod",
        "colab_type": "code",
        "outputId": "2c5bda45-bbe6-4323-bf67-23222fa1eb8f",
        "colab": {
          "base_uri": "https://localhost:8080/",
          "height": 190
        }
      },
      "cell_type": "code",
      "source": [
        "for i in power_six:\n",
        "  print(train[train['id']==i][['title','revenue','budget','release_date']])"
      ],
      "execution_count": 0,
      "outputs": [
        {
          "output_type": "stream",
          "text": [
            "            title   revenue   budget release_date\n",
            "1006  Zyzzyx Road  30000000  2000000      2/25/06\n",
            "                   title   revenue   budget release_date\n",
            "1281  Death at a Funeral  46000000  9000000       2/9/07\n",
            "            title  revenue    budget release_date\n",
            "1541  All at Once  3000000  15800000       6/5/14\n",
            "           title   revenue    budget release_date\n",
            "1884  In the Cut  23000000  12000000       9/9/03\n",
            "         title   revenue    budget release_date\n",
            "2090  Deadfall  18000000  10000000      10/8/93\n"
          ],
          "name": "stdout"
        }
      ]
    },
    {
      "metadata": {
        "id": "w9IwFJdWWQK3",
        "colab_type": "text"
      },
      "cell_type": "markdown",
      "source": [
        "### Exploring Belongs_to_collection and homepage column"
      ]
    },
    {
      "metadata": {
        "id": "7xUIv4-tWOmo",
        "colab_type": "code",
        "colab": {}
      },
      "cell_type": "code",
      "source": [
        "# belongs to collection or not\n",
        "train['belongs_to_collection'] = train['belongs_to_collection'].apply(lambda x: 1 if not pd.isnull(x) else 0)\n",
        "test['belongs_to_collection'] = test['belongs_to_collection'].apply(lambda x: 1 if not pd.isnull(x) else 0)\n",
        "# homepage available or not\n",
        "train['homepage'] = train['homepage'].apply(lambda x: 1 if not pd.isnull(x) else 0)\n",
        "test['homepage'] = test['homepage'].apply(lambda x: 1 if not pd.isnull(x) else 0)"
      ],
      "execution_count": 0,
      "outputs": []
    },
    {
      "metadata": {
        "id": "EbUu7NWHXIdt",
        "colab_type": "code",
        "outputId": "e05ed537-c293-4c39-ec28-99cb0b46d819",
        "colab": {
          "base_uri": "https://localhost:8080/",
          "height": 459
        }
      },
      "cell_type": "code",
      "source": [
        "sns.jointplot(x=train['belongs_to_collection'],y=train['revenue'])"
      ],
      "execution_count": 0,
      "outputs": [
        {
          "output_type": "execute_result",
          "data": {
            "text/plain": [
              "<seaborn.axisgrid.JointGrid at 0x7f89ac596b38>"
            ]
          },
          "metadata": {
            "tags": []
          },
          "execution_count": 21
        },
        {
          "output_type": "display_data",
          "data": {
            "image/png": "[encoded data removed]",
            "text/plain": [
              "<Figure size 432x432 with 3 Axes>"
            ]
          },
          "metadata": {
            "tags": []
          }
        }
      ]
    },
    {
      "metadata": {
        "id": "L3iEM6n5ZmSw",
        "colab_type": "code",
        "outputId": "8a49ffd2-d85c-4839-d3dc-def0f209eb2a",
        "colab": {
          "base_uri": "https://localhost:8080/",
          "height": 459
        }
      },
      "cell_type": "code",
      "source": [
        "sns.jointplot(x=train['homepage'],y=train['revenue'])"
      ],
      "execution_count": 0,
      "outputs": [
        {
          "output_type": "execute_result",
          "data": {
            "text/plain": [
              "<seaborn.axisgrid.JointGrid at 0x7f89a9129828>"
            ]
          },
          "metadata": {
            "tags": []
          },
          "execution_count": 22
        },
        {
          "output_type": "display_data",
          "data": {
            "image/png": "[encoded data removed]",
            "text/plain": [
              "<Figure size 432x432 with 3 Axes>"
            ]
          },
          "metadata": {
            "tags": []
          }
        }
      ]
    },
    {
      "metadata": {
        "id": "k2k4TTyNXIbf",
        "colab_type": "code",
        "outputId": "4a442b02-66ad-4ffd-f308-b7a0d25db938",
        "colab": {
          "base_uri": "https://localhost:8080/",
          "height": 258
        }
      },
      "cell_type": "code",
      "source": [
        "train.corr()"
      ],
      "execution_count": 0,
      "outputs": [
        {
          "output_type": "execute_result",
          "data": {
            "text/html": [
              "<div>\n",
              "<style scoped>\n",
              "    .dataframe tbody tr th:only-of-type {\n",
              "        vertical-align: middle;\n",
              "    }\n",
              "\n",
              "    .dataframe tbody tr th {\n",
              "        vertical-align: top;\n",
              "    }\n",
              "\n",
              "    .dataframe thead th {\n",
              "        text-align: right;\n",
              "    }\n",
              "</style>\n",
              "<table border=\"1\" class=\"dataframe\">\n",
              "  <thead>\n",
              "    <tr style=\"text-align: right;\">\n",
              "      <th></th>\n",
              "      <th>id</th>\n",
              "      <th>belongs_to_collection</th>\n",
              "      <th>budget</th>\n",
              "      <th>homepage</th>\n",
              "      <th>popularity</th>\n",
              "      <th>runtime</th>\n",
              "      <th>revenue</th>\n",
              "    </tr>\n",
              "  </thead>\n",
              "  <tbody>\n",
              "    <tr>\n",
              "      <th>id</th>\n",
              "      <td>1.000000</td>\n",
              "      <td>-0.010010</td>\n",
              "      <td>0.017519</td>\n",
              "      <td>-0.006177</td>\n",
              "      <td>-0.007470</td>\n",
              "      <td>0.016746</td>\n",
              "      <td>0.000378</td>\n",
              "    </tr>\n",
              "    <tr>\n",
              "      <th>belongs_to_collection</th>\n",
              "      <td>-0.010010</td>\n",
              "      <td>1.000000</td>\n",
              "      <td>0.223811</td>\n",
              "      <td>0.060001</td>\n",
              "      <td>0.155896</td>\n",
              "      <td>-0.039934</td>\n",
              "      <td>0.338567</td>\n",
              "    </tr>\n",
              "    <tr>\n",
              "      <th>budget</th>\n",
              "      <td>0.017519</td>\n",
              "      <td>0.223811</td>\n",
              "      <td>1.000000</td>\n",
              "      <td>0.247798</td>\n",
              "      <td>0.342584</td>\n",
              "      <td>0.239384</td>\n",
              "      <td>0.754949</td>\n",
              "    </tr>\n",
              "    <tr>\n",
              "      <th>homepage</th>\n",
              "      <td>-0.006177</td>\n",
              "      <td>0.060001</td>\n",
              "      <td>0.247798</td>\n",
              "      <td>1.000000</td>\n",
              "      <td>0.164797</td>\n",
              "      <td>0.033635</td>\n",
              "      <td>0.263492</td>\n",
              "    </tr>\n",
              "    <tr>\n",
              "      <th>popularity</th>\n",
              "      <td>-0.007470</td>\n",
              "      <td>0.155896</td>\n",
              "      <td>0.342584</td>\n",
              "      <td>0.164797</td>\n",
              "      <td>1.000000</td>\n",
              "      <td>0.129822</td>\n",
              "      <td>0.461486</td>\n",
              "    </tr>\n",
              "    <tr>\n",
              "      <th>runtime</th>\n",
              "      <td>0.016746</td>\n",
              "      <td>-0.039934</td>\n",
              "      <td>0.239384</td>\n",
              "      <td>0.033635</td>\n",
              "      <td>0.129822</td>\n",
              "      <td>1.000000</td>\n",
              "      <td>0.220424</td>\n",
              "    </tr>\n",
              "    <tr>\n",
              "      <th>revenue</th>\n",
              "      <td>0.000378</td>\n",
              "      <td>0.338567</td>\n",
              "      <td>0.754949</td>\n",
              "      <td>0.263492</td>\n",
              "      <td>0.461486</td>\n",
              "      <td>0.220424</td>\n",
              "      <td>1.000000</td>\n",
              "    </tr>\n",
              "  </tbody>\n",
              "</table>\n",
              "</div>"
            ],
            "text/plain": [
              "                             id  belongs_to_collection    budget  homepage  \\\n",
              "id                     1.000000              -0.010010  0.017519 -0.006177   \n",
              "belongs_to_collection -0.010010               1.000000  0.223811  0.060001   \n",
              "budget                 0.017519               0.223811  1.000000  0.247798   \n",
              "homepage              -0.006177               0.060001  0.247798  1.000000   \n",
              "popularity            -0.007470               0.155896  0.342584  0.164797   \n",
              "runtime                0.016746              -0.039934  0.239384  0.033635   \n",
              "revenue                0.000378               0.338567  0.754949  0.263492   \n",
              "\n",
              "                       popularity   runtime   revenue  \n",
              "id                      -0.007470  0.016746  0.000378  \n",
              "belongs_to_collection    0.155896 -0.039934  0.338567  \n",
              "budget                   0.342584  0.239384  0.754949  \n",
              "homepage                 0.164797  0.033635  0.263492  \n",
              "popularity               1.000000  0.129822  0.461486  \n",
              "runtime                  0.129822  1.000000  0.220424  \n",
              "revenue                  0.461486  0.220424  1.000000  "
            ]
          },
          "metadata": {
            "tags": []
          },
          "execution_count": 23
        }
      ]
    },
    {
      "metadata": {
        "id": "uvq9tzE8aO_y",
        "colab_type": "text"
      },
      "cell_type": "markdown",
      "source": [
        "### Exploring Tagline And Overview column"
      ]
    },
    {
      "metadata": {
        "id": "VXEM6MVpaJl-",
        "colab_type": "code",
        "colab": {}
      },
      "cell_type": "code",
      "source": [
        "# belongs to collection or not\n",
        "tagline_len_train = train['tagline'].apply(lambda x: len(x) if not pd.isnull(x) else 0)\n",
        "tagline_len_test = test['tagline'].apply(lambda x: len(x) if not pd.isnull(x) else 0)\n",
        "# homepage available or not\n",
        "overview_len_train = train['overview'].apply(lambda x: len(x) if not pd.isnull(x) else 0)\n",
        "overview_len_test = test['overview'].apply(lambda x: len(x) if not pd.isnull(x) else 0)"
      ],
      "execution_count": 0,
      "outputs": []
    },
    {
      "metadata": {
        "id": "aZ06ZsmRaL0i",
        "colab_type": "code",
        "outputId": "bc6de6a9-5906-415e-fe19-52acfd3bd0ad",
        "colab": {
          "base_uri": "https://localhost:8080/",
          "height": 459
        }
      },
      "cell_type": "code",
      "source": [
        "sns.jointplot(x=tagline_len_train,y=train['revenue'])"
      ],
      "execution_count": 0,
      "outputs": [
        {
          "output_type": "execute_result",
          "data": {
            "text/plain": [
              "<seaborn.axisgrid.JointGrid at 0x7f89a8ffbf98>"
            ]
          },
          "metadata": {
            "tags": []
          },
          "execution_count": 25
        },
        {
          "output_type": "display_data",
          "data": {
            "image/png": "[encoded data removed]",
            "text/plain": [
              "<Figure size 432x432 with 3 Axes>"
            ]
          },
          "metadata": {
            "tags": []
          }
        }
      ]
    },
    {
      "metadata": {
        "id": "INSiVRGjaMwd",
        "colab_type": "code",
        "outputId": "69e0b1b0-3768-43df-aca0-8b2607d27c0a",
        "colab": {
          "base_uri": "https://localhost:8080/",
          "height": 459
        }
      },
      "cell_type": "code",
      "source": [
        "sns.jointplot(x=overview_len_train,y=train['revenue'])\n",
        "# so much distributed data so no correlation"
      ],
      "execution_count": 0,
      "outputs": [
        {
          "output_type": "execute_result",
          "data": {
            "text/plain": [
              "<seaborn.axisgrid.JointGrid at 0x7f89a8deb080>"
            ]
          },
          "metadata": {
            "tags": []
          },
          "execution_count": 26
        },
        {
          "output_type": "display_data",
          "data": {
            "image/png": "[encoded data removed]",
            "text/plain": [
              "<Figure size 432x432 with 3 Axes>"
            ]
          },
          "metadata": {
            "tags": []
          }
        }
      ]
    },
    {
      "metadata": {
        "id": "FkxquvcKaM7a",
        "colab_type": "code",
        "outputId": "ada3eafc-c853-4d1f-b008-2b9c8e7c2c37",
        "colab": {
          "base_uri": "https://localhost:8080/",
          "height": 52
        }
      },
      "cell_type": "code",
      "source": [
        "print(train['revenue'].corr(overview_len_train))\n",
        "print(train['revenue'].corr(tagline_len_train))"
      ],
      "execution_count": 0,
      "outputs": [
        {
          "output_type": "stream",
          "text": [
            "-0.0053929525042464895\n",
            "0.018318851047144178\n"
          ],
          "name": "stdout"
        }
      ]
    },
    {
      "metadata": {
        "id": "FOfxB8a8aNFt",
        "colab_type": "code",
        "colab": {}
      },
      "cell_type": "code",
      "source": [
        "# hence there is some patternwith tagline feature but no correlation exists b/w overview length\n",
        "train['tagline']=tagline_len_train\n",
        "test['tagline']=tagline_len_test\n",
        "\n",
        "train.drop(['overview'],axis=1,inplace=True)\n",
        "test.drop(['overview'],axis=1,inplace=True)"
      ],
      "execution_count": 0,
      "outputs": []
    },
    {
      "metadata": {
        "id": "FG1kVUJCSLXC",
        "colab_type": "text"
      },
      "cell_type": "markdown",
      "source": [
        "### Exploring Title Column"
      ]
    },
    {
      "metadata": {
        "id": "IOdM1LlqIyU-",
        "colab_type": "code",
        "outputId": "7e3ccc55-2d64-44ab-8ecf-0f7084b8f5b4",
        "colab": {
          "base_uri": "https://localhost:8080/",
          "height": 54
        }
      },
      "cell_type": "code",
      "source": [
        "print(sorted(train['title'].unique()))"
      ],
      "execution_count": 0,
      "outputs": [
        {
          "output_type": "stream",
          "text": [
            "[\"'71\", '(500) Days of Summer', '10 Cloverfield Lane', '10 Items or Less', '10 Things I Hate About You', '10 to Midnight', '10,000 BC', '10th & Wolf', '12 Rounds', '13', '13 Assassins', '13 Hours: The Secret Soldiers of Benghazi', '13 Minutes', '1492: Conquest of Paradise', '15 Minutes', '1969', '2 Days in Paris', '20,000 Leagues Under the Sea', '2010', '21', '21 & Over', '21 Grams', '22 Jump Street', '25th Hour', '28 Days Later', '2:22', '3 Braves', '3 Godfathers', '3 Strikes', '300: Rise of an Empire', '31', '4 Months, 3 Weeks and 2 Days', '4.3.2.1', '48 Hrs.', '49 Up', '5 Flights Up', '50 First Dates', '54', '55 Days at Peking', '8MM', '9', 'A Band Called Death', 'A Beautiful Mind', 'A Better Life', 'A Better Tomorrow', 'A Bigger Splash', 'A Bridge Too Far', 'A Case of You', 'A Chorus Line', 'A Cinderella Story', 'A Civil Action', 'A Clockwork Orange', 'A Coffee in Berlin', 'A Company Man', 'A Dirty Shame', \"A Dog's Purpose\", 'A Farewell to Arms', 'A Few Best Men', 'A Few Good Men', 'A Field in England', 'A Fine Mess', 'A Goofy Movie', 'A Gorgeous Girl Like Me', 'A Guy Named Joe', 'A Guy Thing', 'A History of Violence', 'A Home at the End of the World', 'A Kiss Before Dying', \"A Knight's Tale\", 'A Little Bit of Heaven', 'A Lonely Place to Die', 'A Lot Like Love', 'A Love Song for Bobby Long', 'A Man Apart', 'A Man Who Was Superman', 'A Man for All Seasons', 'A Mighty Heart', 'A Mighty Wind', 'A Moment of Innocence', 'A Passage to India', 'A Patch of Blue', 'A Perfect World', 'A Place Called Chiapas', 'A Price Above Rubies', 'A Prince (almost) Charming', 'A Rage in Harlem', 'A Royal Night Out', 'A Scanner Darkly', 'A Shot in the Dark', 'A Simple Life', 'A Sound of Thunder', 'A Star Is Born', 'A Street Cat Named Bob', 'A Thousand Words', 'A Touch of Sin', 'A Troll in Central Park', 'A View to a Kill', 'A War', 'A.P.E.X.', 'ABCs of Death 2', 'ATL', 'Aadukalam', 'Aasai', 'Abduction', 'About Adam', 'About Cherry', 'About Last Night', 'About Schmidt', 'About Time', 'About a Boy', 'Absolute Power', 'Absolutely Fabulous: The Movie', 'Accepted', 'Ace Ventura: Pet Detective', 'Ace Ventura: When Nature Calls', 'Ace in the Hole', 'Across to Singapore', 'Act of Valor', 'Action Hero Biju', 'Action Jackson', 'Admiral', 'Admission', 'Adore', 'Aferim!', 'African Cats', 'After Earth', 'After Hours', 'Aftershock', 'Against the Ropes', 'Agent Cody Banks', 'Ai Weiwei: Never Sorry', \"Ain't Them Bodies Saints\", 'Air America', 'Air Bud: Golden Receiver', 'Air Force One', 'Airborne', 'Airport', 'Airport 1975', 'Akeelah and the Bee', 'Alaipayuthey', 'Alan Partridge: Alpha Papa', 'Alesha Popovich and Tugarin the Dragon', 'Alex Cross', \"Alexander's Ragtime Band\", 'Alfie', 'Alice in Wonderland', 'Alien', 'Alien Nation', 'Alien: Resurrection', 'Aliens', 'Aliens in the Attic', 'Alien³', 'All About Eve', 'All About My Mother', 'All About Steve', 'All About the Benjamins', 'All Night Long', \"All The Queen's Men\", 'All at Once', \"All the King's Men\", \"All the President's Men\", 'Aloft', 'Aloha', 'Alone With Her', 'Alone in the Dark', 'Along Came Polly', 'Along Came a Spider', 'Alpha Dog', 'Alpha and Omega', 'Alvin and the Chipmunks: The Road Chip', 'Always', 'Always - Sunset on Third Street', 'Amadeus', 'Amarkalam', 'American Adobo', 'American Beauty', 'American Buffalo', 'American Cyborg: Steel Warrior', 'American Dream', 'American Flyers', 'American History X', 'American Honey', 'American Hustle', 'American Ninja', 'American Pie', 'American Pie 2', 'American Pop', 'American Warships', 'Amores perros', 'An American Werewolf in Paris', 'An Education', 'An Eye for Beauty', 'An Ideal Husband', 'An Officer and a Gentleman', 'Analyze This', 'Anastasia', \"And Here's What's Happening to Me\", 'And So It Goes', 'And You Thought Your Parents Were Weird!', 'Angel Eyes', 'Angel Heart', 'Anger Management', 'Animal House', 'Animal Kingdom', 'Anjaana Anjaani', 'Anna Karenina', 'Annabelle', 'Annie', 'Anniyan', 'Anomalisa', 'Anonymous', 'Another 48 Hrs.', 'Another Year', 'Anthropoid', 'Antikiller', 'Antitrust', 'Antwone Fisher', 'Any Given Sunday', 'Apartment 18', 'Apocalypse Now', 'Apollo 13', 'Appaloosa', 'Appleseed', 'Aquarius', 'Arachnophobia', 'Argo', 'Army of Shadows', 'Around the World in 80 Days', 'Arrambam', 'Arthur 2: On the Rocks', 'Article 99', 'Arundhati', 'Ashby', 'Assault on Precinct 13', 'Assembly', 'Asterix & Obelix Take on Caesar', 'Asterix at the Olympic Games', 'At Play in the Fields of the Lord', 'Atlantis: The Lost Empire', 'Atlas Shrugged Part I', 'Atlas Shrugged Part III: Who is John Galt?', 'Attack Force Z', 'Australia', 'Avengers: Age of Ultron', 'Away We Go', 'Ayan', 'B.A.P.S.', 'Babe', 'Baby Driver', 'Baby Mama', \"Baby's Day Out\", 'Bachelorette', 'Back to 1942', 'Back to the Future Part II', 'Back to the Future Part III', 'Backdraft', 'Bad Boys', 'Bad Day at Black Rock', 'Bad Dreams', 'Bad Education', 'Bad Words', 'Baggage Claim', 'Bairavaa', 'Bajirao Mastani', 'Balls of Fury', 'Balto', 'Band of Outsiders', 'Bandits', 'Barbara', 'Barbarella', 'Barbershop', 'Barfi', 'Barfly', 'Basic', 'Basic Instinct', 'Batman & Robin', 'Batman Begins', 'Batman Returns', 'Batman: Assault on Arkham', 'Batman: The Killing Joke', 'Bats', 'Batteries not Included', 'Battle Beyond the Stars', 'Battle for Terra', 'Battle for the Planet of the Apes', 'Battle in Heaven', 'Battle in Seattle', 'Battle: Los Angeles', 'Battleship Potemkin', 'Be Cool', 'Beaches', 'Beasts of No Nation', 'Beasts of the Southern Wild', 'Beauty and the Beast', 'Bedazzled', 'Bee Season', 'Beer for My Horses', 'Beerfest', 'Beethoven', 'Beetle Queen Conquers Tokyo', 'Beetlejuice', 'Before I Disappear', 'Before I Wake', 'Before Midnight', 'Before Sunset', \"Before the Devil Knows You're Dead\", 'Before the Fall', 'Beginners', 'Behind Enemy Lines', 'Behind the Burly Q', \"Being Elmo: A Puppeteer's Journey\", 'Being Flynn', 'Bel Ami', 'Belle', 'Bellflower', 'Below', 'Ben-Hur', 'Bend It Like Beckham', 'Beneath the Planet of the Apes', 'Benny & Joon', 'Best Defense', 'Best Man Down', 'Better Living Through Chemistry', 'Betty Blue', 'Beyond', 'Beyond the Mat', 'Bhaag Milkha Bhaag', 'Big Bully', 'Big Eyes', 'Big Fat Liar', 'Big Game', 'Big Miracle', \"Big Momma's House 2\", 'Big Time', 'Big Trouble in Little China', 'Biker Boyz', 'Bikini Spring Break', \"Bill & Ted's Excellent Adventure\", 'Billy Elliot', 'Billy Gardell: Halftime', 'Billy Madison', 'Biloxi Blues', 'Birdman of Alcatraz', 'Birdy', 'Bitch Slap', 'Bitter Moon', 'Biutiful', 'Black Dynamite', 'Black Gold', 'Black Sheep', 'Black Snake Moan', 'Black Snow', 'Black Swan', 'Blade: Trinity', 'Blank City', 'Blast from the Past', 'Blaze', 'Blazing Saddles', 'Bleed for This', 'Blended', 'Bless Me, Ultima', 'Blind Fury', 'Bliss', 'Blood Diamond', 'Blood Work', 'Blood on the Moon', 'Blood, Guts, Bullets and Octane', 'BloodRayne', 'Bloodsport', 'Bloody Sunday', 'Blow Dry', 'Blow Out', 'Blue', 'Blues Brothers 2000', 'Bodies, Rest & Motion', 'Body Shots', 'Body of Evidence', 'Bodyguard', 'Bodyguards and Assassins', 'Bombay Velvet', 'Boogeyman', 'Bordello of Blood', 'Boris - Il film', 'Born into Brothels', 'Born to Be Blue', 'Born to Be Wild', 'Borsalino', 'Bottle Rocket', 'Bottle Shock', 'Boulevard', 'Bounce', 'Bound', 'Boxing Helena', 'Boy A', 'Boy Culture', 'Boyhood', \"Boys Don't Cry\", 'Boys Life 2', 'Boys on the Side', 'Braddock: Missing in Action III', 'Brain Donors', 'Brainscan', 'Braveheart', 'Breakdown', 'Breaking Away', 'Breakout', 'Breathe In', 'Breathless', 'Brick', 'Bride of Chucky', 'Brideshead Revisited', 'Bridge of Spies', \"Bridget Jones's Baby\", 'Bringing Down the House', 'Brokedown Palace', 'Broken City', 'Broken Flowers', \"Brooklyn's Finest\", 'Buck', 'Bull Durham', 'Bunny and the Bull', 'Burn', 'Burnt', 'Burnt by the Sun', 'Bus 174', \"But I'm a Cheerleader\", 'Butch Cassidy and the Sundance Kid', 'Butterfly', 'CB4', 'CJ7', 'Ca$h', 'Cabin Boy', 'Cabin Fever', 'Cabin in the Sky', 'Caché', 'Caddyshack', \"Cameron's Closet\", 'Camille Claudel 1915', 'Campus Man', \"Can't Hardly Wait\", 'Candy Razors', 'Capote', 'Captain America: The Winter Soldier', 'Captain Phillips', 'Captive', 'Capturing the Friedmans', 'Car 54, Where Are You?', 'Cargo 200', 'Carlos', 'Carol', 'Cars', 'Cars 2', 'Cars 3', 'Casablanca', 'Case 39', 'Casino Royale', 'Casshern', 'Casual Sex?', 'Cat People', 'Catch a Fire', 'Cats & Dogs', \"Cats Don't Dance\", 'Cedar Rapids', 'Cell', 'Cell 211', 'Cellular', 'Central Station', 'Ceremony', 'Chain Reaction', 'Chalet Girl', 'Chandni Chowk To China', 'Changeling', 'Changing Lanes', 'Chapiteau-Show', 'Chappie', 'Charlie Countryman', 'Charlie St. Cloud', \"Charlotte's Web\", 'Chasers', 'Chasing Liberty', 'Chasing Trane', 'Cheetah', 'Chennai Express', 'Chernobyl Diaries', 'Cherry 2000', 'Child 44', \"Child's Play\", \"Child's Play 2\", \"Child's Play 3\", 'Children of Heaven', 'Children of the Corn', 'Chill Factor', 'Chloe', 'Chocolat', 'Christopher Columbus: The Discovery', 'Cinderella Man', 'Cinderfella', 'Cinema Paradiso', 'Circo', \"Cirque du Freak: The Vampire's Assistant\", 'Cirque du Soleil: Worlds Away', 'City of Joy', 'City of Life and Death', 'City of Men', 'Class of 1999', 'Clean and Sober', 'Cleopatra', 'Clerks', 'Clerks II', 'Click', 'Clockers', 'Clockstoppers', 'Close My Eyes', 'Cloud Atlas', 'Clouds of Sils Maria', 'Club Dread', 'Club Paradise', 'Cobra', 'Cocaine Cowboys', 'Cocktail', 'Cocoon', 'Code Name: Jackal', 'Coffee and Cigarettes', 'Cohen and Tate', 'Coherence', 'Cold Mountain', 'Cold Turkey', 'Colegas', 'Collateral', 'Collateral Beauty', 'Collateral Damage', 'Collide', 'Colombiana', 'Colors', 'Come Back to the 5 & Dime, Jimmy Dean, Jimmy Dean', 'Comedian', 'Coming to America', 'Communion', 'Company Business', 'Compliance', 'Conan the Destroyer', 'Confessions of a Dangerous Mind', 'Congo', 'Connie and Carla', 'Conquest of the Planet of the Apes', 'Constantine', 'Contact', 'Control Room', 'Conversations with Other Women', 'Cool Hand Luke', 'Cool Runnings', 'Cool World', 'Cop Out', 'Coriolanus', 'Corky Romano', 'Corvette Summer', 'Country Strong', 'Courageous', 'Cowboys & Aliens', 'Cowboys & Angels', \"Cowgirls n' Angels\", 'Cradle 2 the Grave', 'Crank: High Voltage', 'Crash', 'Crazy About Ya', 'Crazy Love', 'Crazy, Stupid, Love.', 'Crazy/Beautiful', 'Creature from the Black Lagoon', 'Creepshow', 'Crime After Crime', 'Crime Story', 'Crimson Tide', 'Crocodile Dundee II', 'Crooked Arrows', 'Cropsey', 'Crossing Over', 'Crossover', 'Crossroads', 'Cry, Onion!', 'Cry-Baby', 'Cuban Rafters', 'Cure', 'Curse of the Pink Panther', 'Cut and Run', 'Cutthroat Island', 'Czech Dream', 'D.A.R.Y.L.', 'D.O.A.', 'Dad', 'Daddy Day Camp', 'Daddy Day Care', \"Daddy's Dyin'... Who's Got the Will?\", \"Daddy's Little Girls\", 'Dances with Wolves', 'Dangal', \"Dante's Peak\", 'Dark Angel', 'Dark Blue', 'Dark City', 'Dark Places', 'Dark Tide', 'Darkman', 'Day Watch', 'Day for Night', 'Daybreakers', 'Dazed and Confused', 'Dead & Buried', 'Dead Bang', 'Dead Poets Society', 'Dead Ringers', 'Dead Snow', 'Dead Snow 2: Red vs. Dead', 'Deadfall', 'Deadpool', 'Dear Guest, When Will You Leave?', 'Dear Zindagi', 'Death Note', 'Death Race', 'Death Sentence', 'Death Wish 5: The Face of Death', 'Death at a Funeral', 'Death on the Nile', 'Deathwatch', 'December Boys', 'Deep Blue Sea', 'Deep Rising', 'DeepStar Six', 'Deepwater Horizon', 'Deewane Huye Paagal', 'Defence of the Realm', 'Definitely, Maybe', 'Delhi Dance', 'Delta Force 2: The Colombian Connection', 'Demolition Man', 'Denial', 'Dennis the Menace', 'Departures', 'Desert Flower', 'Desert Hearts', 'Desperado', 'Desperately Seeking Susan', 'Detective Dee and the Mystery of the Phantom Flame', 'Dheepan', 'Dhoom 3', 'Diamonds Are Forever', 'Diary of a Hitman', 'Diary of a Wimpy Kid: Dog Days', 'Diary of a Wimpy Kid: Rodrick Rules', 'Diary of a Wimpy Kid: The Long Haul', 'Dick', 'Die Another Day', 'Die, Mommie, Die!', 'Difret', 'Dil Se..', 'Dinosaur', 'Dirty Dancing', 'District 9', 'District B13', 'Disturbia', 'Django', 'Doctor Dolittle', 'Doctor Who', 'Dolphin Tale', 'Dom Hemingway', 'Domestic Disturbance', 'Don Juan DeMarco', \"Don's Plum\", \"Don't Breathe\", \"Don't Say a Word\", \"Don't Tell Mom the Babysitter's Dead\", \"Don't Think Twice\", 'Donnie Brasco', 'Doom', 'Dope', 'Dorian Gray', 'Double Impact', 'Double Jeopardy', 'Down', 'Downfall', 'Downtown', 'Dr. Cabbie', 'Dr. Giggles', 'Dracula', 'Dracula 2000', 'Dracula Untold', 'Dracula: Prince of Darkness', 'Dragon Tiger Gate', 'Dragonfly', 'Dream House', 'Dreamcatcher', 'Dreamgirls', 'Dreaming of Space', 'Dressed to Kill', 'Drinking Buddies', 'Drive', 'Drive Angry', 'Driven', 'Drop Dead Fred', 'Drop Dead Gorgeous', 'Drowning Mona', 'Drumline', 'Dude, Where’s My Car?', 'Due Date', 'Duplicity', 'Dylan Dog: Dead of Night', 'Earth Girls Are Easy', 'Earthquake', 'East of Eden', 'Easy on the Eyes', 'Eat Pray Love', 'Ed Wood', 'Eddie Murphy Raw', 'Eddie the Eagle', 'Eden Lake', 'Edge of Darkness', 'Edward II', 'Eight Below', 'El Estudiante', 'El Mariachi', 'El pico 2', 'El robobo de la jojoya', 'Elections Day 2', 'Elektra', 'Elektra Luxx', 'Elevator to the Gallows', 'Elizabeth', 'Elizabethtown', 'Elmer Gantry', 'Elvis & Nixon', 'Elysium', 'Empire', 'Empire State', 'End of Watch', 'Enemy Mine', 'Enemy of the State', 'Enter the Void', 'Enthiran', 'Epic', 'Eraser', 'Escape from L.A.', 'Escape from New York', 'Evan Almighty', 'Evangelion: 2.0 You Can (Not) Advance', 'Everest', 'Every Day', 'Every Thing Will Be Fine', 'Every Which Way But Loose', 'Everybody Dies But Me', 'Everybody Wants Some!!', \"Everyone's Hero\", 'Everything is Illuminated', 'Evil Dead', 'Evil Dead II', 'Evita', 'Ex Machina', 'Excalibur', 'Exit Wounds', 'Exit to Eden', 'Exorcist: The Beginning', 'Exposed', 'Exterminators of the Year 3000', 'Extract', 'Extraction', 'Extraordinary Measures', 'Extreme Measures', 'Extreme Ops', 'Extremities', 'Eye in the Sky', 'Eye of the Dolphin', 'Eyes Wide Shut', 'FBI: Frikis buscan incordiar', 'FC Venus', 'Facing Windows', 'Fading Gigolo', 'Fair Game', 'Faithful', 'Fallen', 'Falling Down', 'Falling in Love', 'Fan', 'Fanaa', 'Fanny & Alexander', 'Fantastic Four', 'Fantastic Mr. Fox', 'Far from the Madding Crowd', 'Faraway, So Close!', 'Fargo', 'Fast & Furious', 'Fast Times at Ridgemont High', 'Fast, Cheap & Out of Control', 'Fatal Attraction', 'Father Hood', 'Father of the Bride Part II', 'Feast of Love', 'FernGully: The Last Rainforest', \"Ferris Bueller's Day Off\", 'Fever Pitch', 'Fido', 'Field of Dreams', 'Fight Club', 'Filth', 'Final Destination 2', 'Final Destination 3', 'Final: The Rapture', 'Find Me Guilty', 'Finding Dory', 'Finding Forrester', 'Fire and Ice', 'Fired Up!', 'Fireproof', 'Firewalker', 'First Blood', 'First Knight', 'First Love', 'First Snow', 'First Strike', 'Fish Tank', 'Fishtales', 'Five Graves to Cairo', 'Flashback', 'Flashbacks of a Fool', 'Flatliners', 'Flawless', 'Fletch', 'Fletch Lives', 'Flicka', 'Flight of the Navigator', 'Flipper', 'Florence Foster Jenkins', 'Flyboys', 'Folks!', 'Following', 'For Keeps', 'For Me and My Gal', 'For Your Eyes Only', 'Forever Fever', 'Four Brothers', 'Four Christmases', 'Four Days in September', 'Four Lions', 'Four Weddings and a Funeral', 'Fracture', 'Frances Ha', 'Frank', 'Frank & Lola', 'Frankenweenie', 'Freaky Friday', 'Fred Claus', 'Freddy vs. Jason', 'Free Birds', 'Free State of Jones', 'Free Style', 'Free Willy', 'Freedomland', 'Freeheld', 'Frequency', 'Frida', 'Friday', 'Friday the 13th', 'Friday the 13th Part 2', 'Friday the 13th Part III', 'Friday the 13th Part VI: Jason Lives', 'Friday the 13th Part VIII: Jason Takes Manhattan', 'Friday the 13th: A New Beginning', 'Friends & Lovers', 'Fright Night', 'From Beyond', 'From Dusk Till Dawn', 'From Hell', 'From Prada to Nada', 'From Within', 'From the Hip', 'From the Land of the Moon', 'Frozen', 'Fuck You Goethe 2', 'Full Frontal', 'Fun with Dick and Jane', 'Furious 7', 'Furry Vengeance', 'G', 'Gabbar Is Back', 'Gaby: A True Story', 'Gandhi', 'Gang Related', 'Gangs of New York', 'Gangster Squad', 'Gardens of Stone', \"Gary Gulman: It's About Time\", \"Gentleman's Agreement\", 'Get Carter', 'Get Out', 'Get Smart', 'Get on Up', 'Get on the Bus', 'Ghajini', 'Ghost', 'Ghost Rider: Spirit of Vengeance', 'Ghost Ship', 'Ghost in the Shell', 'Ghostbusters II', \"Ghosts Can't Do It\", 'Ghosts of Mars', 'Gigli', 'Girl with a Pearl Earring', 'Glass: A Portrait of Philip in Twelve Parts', 'Glee: The Concert Movie', \"Glen Campbell: I'll Be Me\", 'Glory', 'Glory Road', 'Gnomeo & Juliet', 'Go', 'Goal!: The Dream Begins', 'Goat', \"God's Not Dead 2\", 'Gods and Generals', 'Godzilla 1985', 'Going My Way', 'Going by the Book', 'Gold', 'GoldenEye', 'Gone Girl', 'Good Kill', 'Good Night, and Good Luck.', 'Goodbye Pork Pie', 'Goon', 'Gosford Park', 'Gothika', \"Goya's Ghosts\", 'Grand Hotel', 'Grand Masti', \"Grandma's Boy\", 'Grandmaster', 'Graveyard Shift', 'Gravity', 'Gray Lady Down', 'Green Zone', 'Gremlins', 'Gremlins 2: The New Batch', 'Gridiron Gang', 'Grimsby', 'Groundhog Day', 'Guardians of the Galaxy', 'Guardians of the Galaxy Vol. 2', 'Guess Who', \"Guess Who's Coming to Dinner\", 'Guilty as Sin', 'Gun Shy', 'Gunfight at the O.K. Corral', 'Gung Ho', 'Gwendoline', 'Hackers', 'Haiku Tunnel', 'Hallam Foe', 'Halloween 4: The Return of Michael Myers', 'Halloween 5: The Revenge of Michael Myers', 'Halloween: Resurrection', 'Halo Legends', 'Hamlet', 'Hammer of the Gods', 'Hannah Montana: The Movie', 'Hannah and Her Sisters', 'Hannibal', 'Hansel & Gretel: Witch Hunters', 'Happiness', 'Happy Accidents', 'Happy Days', 'Happy Family', 'Happy Feet', 'Happy Gilmore', 'Happy New Year', 'Happy Times', 'Happy Weekend', 'Happythankyoumoreplease', 'Hard Candy', 'Hard to Kill', 'Harold & Kumar Escape from Guantanamo Bay', 'Harper', 'Harry Potter and the Chamber of Secrets', 'Harry Potter and the Half-Blood Prince', 'Harry and the Hendersons', 'Harsh Times', \"Hart's War\", 'Harvard Beats Yale 29-29', 'Hatchet II', 'Haunted Honeymoon', 'Hawaii', 'He Got Game', 'He Named Me Malala', 'He-Man and She-Ra: The Secret of the Sword', 'Head On', 'Heart and Souls', 'Heartbeats', 'Heartbreak Ridge', 'Heathers', 'Heaven is for Real', \"Heaven's Gate\", 'Heavy Traffic', 'Hector and the Search for Happiness', 'Hell & Back', 'Hello Mary Lou: Prom Night II', 'Hello, Dolly!', 'Hellraiser III: Hell on Earth', 'Hellraiser: Bloodline', 'Henry Poole Is Here', \"Henry's Crime\", 'Herbie Fully Loaded', 'Hercules', 'Heropanti', 'Hey Ram', 'Hey, Boo: Harper Lee & To Kill a Mockingbird', 'Hidalgo', 'Hidden Figures', 'High Anxiety', 'High Art', 'High Crimes', 'High Hopes', 'High Road to China', 'High Spirits', 'High Strung', 'Higher Learning', 'Highlander II: The Quickening', 'Highlander: The Final Dimension', 'Highway to Hell', \"Hillary's America: The Secret History of the Democratic Party\", 'Hipsters', 'His Secret Life', 'Hitchcock', \"Hitler's Kaput!\", 'Hitman', 'Hollywoodland', 'Holy Hell', 'Holy Motors', 'Home Run', 'Home for the Holidays', 'Home on the Range', 'Homeward Bound II: Lost in San Francisco', 'Honey I Blew Up the Kid', 'Honeymoon', 'Hood of Horror', 'Hooked on the Game 2. The Next Level', 'Hoop Dreams', 'Hoosiers', 'Horton Hears a Who!', 'Hot Pursuit', 'Hot Tub Time Machine 2', 'Hotel Transylvania 2', 'House Calls', 'House of 1000 Corpses', 'House of Games', 'House of Wax', 'House of the Dead', 'House on Haunted Hill', 'Housekeeping', 'How About You...', 'How Do You Know', 'How to Be Single', 'How to Eat Fried Worms', 'How to Train Your Dragon 2', 'Howard the Duck', 'Howards End', 'Hudson Hawk', 'Human Capital', 'Hummingbird', 'Hunger', 'Hustler White', 'Hyde Park on Hudson', 'Hysteria', 'I Am Ali', 'I Am Legend', \"I Don't Know How She Does It\", 'I Know What You Did Last Summer', 'I Love You, Man', 'I Saw the Light', 'I Spit on Your Grave', 'I Still Know What You Did Last Summer', \"I'm No Angel\", \"I'm Not There.\", \"I'm Staying\", 'I, Daniel Blake', 'Ice Age', 'Ice Age: Collision Course', 'Ice Age: Dawn of the Dinosaurs', 'Ice Age: The Meltdown', 'Ida', 'Identity', 'Identity Thief', 'Idiocracy', 'Idle Hands', 'If I Stay', 'Ikiru', 'Illegal', 'Illegal Tender', 'In Bruges', 'In This Corner of the World', 'In the Cut', 'In the Forests of Siberia', 'In the Heart of the Sea', 'In the House', 'In the Line of Fire', 'In the Loop', 'In the Valley of Elah', 'InSight', 'Incarnate', 'Indiana Jones and the Kingdom of the Crystal Skull', 'Indiana Jones and the Last Crusade', 'Indiana Jones and the Temple of Doom', 'Infamous', 'Inferno', 'Initial D', 'Innerspace', 'Innocent Voices', 'Internal Affairs', 'Interview with the Vampire', 'Into the Storm', 'Into the Wild', 'Intolerable Cruelty', 'Inventing the Abbotts', 'Ip Man', 'Ip Man 3', 'Ip Man: The Final Fight', 'Iraq in Fragments', 'Iron Sky', 'It Came from Hollywood', \"It Doesn't Hurt Me\", 'It Might Get Loud', \"It's All Gone Pete Tong\", \"It's Kind of a Funny Story\", 'Ivan Tsarevich & the Grey Wolf 2', 'Jaane Tu... Ya Jaane Na', 'Jab We Met', 'Jack', 'Jack & Sarah', 'Jack Goes Boating', 'Jack Reacher', 'Jack Ryan: Shadow Recruit', 'Jack the Giant Slayer', 'Jackass Number Two', 'Jackie Brown', 'Jackpot', 'Jackson County Jail', 'James and the Giant Peach', 'Jane Eyre', 'Janky Promoters', 'Jarhead', 'Jaws', 'Jaws 3-D', 'Jaws: The Revenge', \"Jayne Mansfield's Car\", 'Jeepers Creepers', 'Jeff, Who Lives at Home', 'Jefferson in Paris', 'Jersey Boys', 'Jimi: All Is by My Side', 'Jimmy Neutron: Boy Genius', 'Jimmy Vestvood: Amerikan Hero', 'Jingle All the Way', 'Jodhaa Akbar', 'John Carter', 'John Q', 'John Wick: Chapter 2', 'Johnny English', 'Johnny Handsome', 'Johnson Family Vacation', 'Josh', 'Joshua', 'Journey from the Fall', 'Joy', 'Joy Ride', 'Judge Dredd', 'Judy Moody and the Not Bummer Summer', 'Julie & Julia', 'Jumanji', 'Jumper', 'Junior', 'Juno', 'Jurassic Park', 'Just My Luck', 'Just Wright', 'K-9', 'Kabhi Alvida Naa Kehna', 'Kabluey', 'Kadhal Kottai', 'Kahaani', 'Kaiji 2: The Ultimate Gambler', 'Kal Ho Naa Ho', 'Kaminey', 'Kandukondain Kandukondain', 'Katy Perry: Part of Me', 'Katyar Kaljat Ghusali', 'Katyn', 'Keanu', 'Keeping Up with the Joneses', 'Kenny', 'Kevin Hart: Let Me Explain', 'Keys to Tulsa', 'Khatta Meetha', 'Khiladi 786', 'Khumba', 'Kick-Ass', 'Kick-Ass 2', 'Kickboxer', 'Kickboxer 2:  The Road Back', 'Kicking & Screaming', 'Kicking and Screaming', 'Kidnapping, Caucasian Style', 'Kids', 'Kill Bill: Vol. 1', 'Kill List', 'Kill the Messenger', 'Killer Joe', 'Killers', 'Killing Them Softly', 'Killing Zoe', 'King Kong', 'Kingdom of the Spiders', 'Kiss of the Dragon', 'Kiss the Girls', 'Kissing Jessica Stein', 'Knock Knock', 'Knockaround Guys', 'Knocked Up', 'Kops', 'Koyaanisqatsi', 'Kramer vs. Kramer', 'Krampus', 'Krull', 'Kundun', 'Kung Fu Dunk', 'Kung Fu Hustle', 'Kung Fu Jungle', \"L'Âge d'Or\", 'L: Change the World', 'La Bamba', 'La Dolce Vita', 'La Femme Nikita', 'La peggior settimana della mia vita', 'La vérité si je mens !', 'Labor Day', 'Labyrinth of Lies', 'Lady Macbeth', 'Lady and the Tramp', 'Ladyhawke', 'Lake of Fire', 'Larry Crowne', 'Lars and the Real Girl', 'Last Action Hero', 'Last Man Standing', 'Last Night', 'Last Tango in Paris', 'Late Autumn', 'Latter Days', 'Laurence Anyways', 'Le Week-End', 'Leatherface: Texas Chainsaw Massacre III', 'Left Luggage', 'Legally Blonde 2: Red, White & Blonde', 'Legend', 'Legend of the Lost', \"Legends of Oz: Dorothy's Return\", 'Legends of the Fall', 'Legion', 'Lenny Bruce: Swear to Tell the Truth', 'Leprechaun 2', 'Les Misérables', 'Let Me In', 'Let the Right One In', \"Let's Go to Prison\", 'Lethal Weapon', 'Leviathan', 'Licence to Kill', 'License to Drive', 'License to Wed', 'Life As We Know It', 'Life During Wartime', 'Life Is Beautiful', 'Life of Brian', 'Life of Crime', 'Lift', 'Lights Out', 'Like Father, Like Son', 'Like Sunday, Like Rain', 'Like Water for Chocolate', 'Line Walker', 'Lionheart', 'Lions for Lambs', 'Little Black Book', 'Little Manhattan', 'Little Miss Marker', 'Little Miss Sunshine', 'Little Shop of Horrors', 'Live Flesh', 'Live Nude Girls Unite!', 'Live by Night', 'Living Out Loud', 'Local Color', 'Lock, Stock and Two Smoking Barrels', 'Locke', 'Lockout', 'Logan', \"Logan's Run\", 'Lolita', 'Lolo', 'London Has Fallen', 'Lone Star', 'Lone Survivor', 'Lone Wolf McQuade', 'Long Time Dead', 'Look', \"Look Who's Back\", \"Look Who's Talking\", 'Looney Tunes: Back in Action', 'Looper', 'Loose Cannons', \"Lorenzo's Oil\", \"Losin' It\", 'Lost & Found', 'Lost River', 'Lost in Space', 'Lost in Translation', 'Lost in the Sun', 'Louder Than Bombs', 'Louis C.K.: Live at the Beacon Theater', 'Love & Friendship', 'Love & Mercy', 'Love & Other Drugs', 'Love Is All You Need', 'Love Is Strange', 'Love Me Tender', 'Love Potion No. 9', 'Love Story', 'Love and the City 2', 'Love at First Bite', 'Love at First Fight', \"Love's Deadly Triangle: The Texas Cadet Murder\", 'Loverboy', 'Lovesong', 'Lucky Number Slevin', 'Luv', 'Macabre', 'Machete', 'Mad City', 'Mad Dog and Glory', 'Mad Max 2: The Road Warrior', 'Mad Max: Fury Road', 'Madame Bovary', 'Made', 'Made of Honor', 'Madea Goes to Jail', 'Madras Cafe', \"Maggie's Plan\", 'Magic in the Moonlight', 'Magnum Force', 'Major Dundee', 'Major League', 'Major League: Back to the Minors', 'Malamaal Weekly', 'Maleficent', 'Malice', 'Mama', 'Mambo Italiano', 'Man of Steel', 'Man of Tai Chi', 'Man of the Year', 'Man on a Ledge', 'Man-Thing', 'Manhattan', 'Mannequin Two: On the Move', \"Mao's Last Dancer\", 'Marci X', 'Margaret', 'Marine Boy', 'Marked for Death', 'Marmaduke', 'Married to the Mob', 'Martin Lawrence Live: Runteldat', \"Marvin's Room\", 'Mary Poppins', 'Mary and Max', 'Masters of the Universe', 'Mata Hari', 'Match', 'Match Point', 'Material Girls', 'Max & Leon', \"Max Keeble's Big Move\", 'Max Payne', 'Max Steel', 'May', 'Maze Runner: The Scorch Trials', 'Me Myself I', 'Me, You, Them', 'Mean Creek', 'Mean Girls', 'Mean Streets', 'Mechenosets', 'Meet Bill', 'Meet Monica Velour', 'Meet the Applegates', 'Meet the Parents', 'Meeting Evil', 'Melissa P.', 'Memoirs of a Geisha', 'Men Cry Bullets', 'Men of Honor', 'Men, Women & Children', 'Meru', 'Metropolis', 'Miami Vice', 'Michael Clayton', 'Middle School: The Worst Years of My Life', 'Midnight Special', 'Midnight in Paris', 'Mighty Aphrodite', 'Mighty Morphin Power Rangers: The Movie', 'Mike and Dave Need Wedding Dates', 'Milk', 'Millennium Actress', \"Miller's Crossing\", 'Million Dollar Arm', 'Mimic', 'Minority Report', 'Mio in the Land of Faraway', 'Miracle at St. Anna', 'Miracle on 34th Street', 'Miral', 'Miranda', 'Mirror Mirror', 'Mischief', 'Mishima: A Life in Four Chapters', 'Miss Congeniality', 'Miss Potter', 'Miss Sloane', 'Missing', 'Missing in Action', 'Missing in Action 2: The Beginning', 'Mission: Impossible - Ghost Protocol', 'Mistress America', 'Moby Dick', 'Modern Times', 'Moebius', 'Mojin: The Lost Legend', 'Moka', 'Mona Lisa', 'Money Monster', 'Money Train', 'Money for Nothing', 'Monkey King: Hero Is Back', 'Monsieur Ibrahim', 'Monster Hunt', 'Monster in a Box', 'Monte Carlo', 'Moon', 'Moonlight', 'Moonlight Mile', 'More American Graffiti', 'More Than a Game', 'Morgana', 'Moscow Heat', 'Moscow, Belgium', 'Most Wanted', \"Mother's Day\", 'MouseHunt', 'Mr. 3000', 'Mr. Baseball', \"Mr. Bean's Holiday\", 'Mr. Brooks', 'Mr. Destiny', \"Mr. Holland's Opus\", 'Mr. Holmes', 'Mr. Nice Guy', 'Mr. North', \"Mr. Popper's Penguins\", 'Mr. Smith Goes to Washington', 'Mrs. Soffel', 'Mugabe and the White African', 'Mulan: Rise of a Warrior', 'Mulholland Drive', 'Muppet Treasure Island', 'Murder by Numbers', 'Murder in the First', 'Murder on the Orient Express', 'Murderball', \"Muriel's Wedding\", 'Music Box', 'Music and Lyrics', 'Music of the Heart', 'Must Love Dogs', 'Mutant Chronicles', 'Mute Witness', 'My Awkward Sexual Adventure', 'My Best Girl', 'My Big Fat Greek Wedding', 'My Big Fat Greek Wedding 2', 'My Blueberry Nights', \"My Boyfriend's Back\", 'My Fair Lady', 'My Giant', 'My Left Foot: The Story of Christy Brown', 'My Life as a Zucchini', 'My Life in Ruins', 'My Name Is Bruce', 'My Old Classmate', 'My Science Project', \"My Sister's Keeper\", 'My Soul to Take', 'My Summer Story', 'My Week with Marilyn', 'Myra Breckinridge', 'Mysterious Skin', 'Mystery Date', 'Mystery Men', 'Mystery, Alaska', 'Mystic River', 'Nadine', 'Naqoyqatsi', 'National Lampoon’s European Vacation', 'National Treasure', 'National Treasure: Book of Secrets', 'Nausicaä of the Valley of the Wind', 'Nebraska', 'Ned Kelly', 'Neerja', 'Neruda', 'Nerve', 'Never Back Down', 'Never Been Kissed', 'Never Talk to Strangers', 'Never on Sunday', 'New in Town', 'Niagara', 'Nice Guy Johnny', 'Night Game', 'Night Of The Living Dead 3D', 'Night Watch', 'Night of the Comet', 'Nighthawks', 'Nightwatch', 'Nikitich and The Dragon', \"Nim's Island\", 'Ninotchka', 'Nitro Circus: The Movie', 'No Holds Barred', 'No One Lives', 'No Strings Attached', 'Noah', 'Nocturnal Animals', 'Norbit', 'North Dallas Forty', 'North Shore', 'North by Northwest', 'Norwegian Wood', 'Not Another Teen Movie', 'Nothing But the Truth', 'Notting Hill', 'Now You See Me', 'Nurse 3-D', 'O', 'O Kadhal Kanmani', 'OPA!', \"Ocean's Thirteen\", 'Oculus', 'Off Limits', 'Old School', 'Oldboy', 'Oleanna', 'Olympus Has Fallen', 'Omen III: The Final Conflict', 'On the Waterfront', 'On the Way to School', 'Once Bitten', 'Once Upon a Time in Anatolia', 'Once Upon a Time in China II', 'Once Upon a Time in Mexico', 'One Bright Shining Moment', 'One Day', 'One False Move', 'One Hundred Steps', 'One Night Stand', 'One Small Hitch', 'One for the Money', 'One, Two, Three', 'Only the Lonely', 'Operation Petticoat', 'Orca: The Killer Whale', 'Orphans', 'Other People', 'Ouija: Origin of Evil', 'Our Family Wedding', 'Our Kind of Traitor', 'Out Cold', 'Out for Justice', 'Out of Africa', 'Out of Bounds', 'Out of Sight', 'Out of Time', 'Out of the Furnace', 'Outbreak', 'Outland', 'Overdose', 'PCU', 'Pagafantas', 'Page One: Inside the New York Times', 'Paid in Full', 'Pain & Gain', 'Pale Rider', 'Pan', 'Panther', 'Papanasam', 'Paparazzi', 'Paperhouse', 'Papillon', 'Paradise', 'Paradise Alley', 'Paranoid Park', 'Paranormal Activity', 'Paranormal Activity 3', 'Paranormal Activity 4', 'Paranormal Activity: The Marked Ones', 'Parental Guidance', 'Parenthood', 'Paris', 'Paris Can Wait', 'Parker', 'Party Monster', 'Passenger 57', 'Pather Panchali', 'Patriot Games', 'Patriots Day', 'Paul', 'Paul Blart: Mall Cop', 'Paul Blart: Mall Cop 2', 'Paws', 'Pay It Forward', 'Payback', 'Peace, Love & Misunderstanding', \"Pee-wee's Big Adventure\", 'Peggy Sue Got Married', 'Penguins of Madagascar', 'People Like Us', 'Percy Jackson & the Olympians: The Lightning Thief', 'Percy Jackson: Sea of Monsters', 'Permanent Record', 'Personal Shopper', 'Pet Sematary', 'Pet Sematary II', 'Peter Pan', 'Peter and Vandy', 'Petersburg: Only for Love', 'Phantasm II', 'Phantoms', 'Phenomenon', 'Philadelphia Experiment II', 'Phoenix Forgotten', 'Phone Booth', 'Pi', 'Picture Me', 'Picture Perfect', 'Pieta', 'Piku', 'Pina', 'Pink Flamingos', 'Pinocchio and the Emperor of the Night', \"Pirates of the Caribbean: At World's End\", 'Pirates of the Caribbean: On Stranger Tides', 'Pirates of the Caribbean: The Curse of the Black Pearl', 'Pitch Perfect', 'Pixels', 'Planes: Fire & Rescue', 'Planet Hulk', 'Play It to the Bone', 'Pocahontas', 'Point Break', 'Poison', 'Pokémon 4Ever: Celebi - Voice of the Forest', 'Pokémon the Movie: Kyurem vs. the Sword of Justice', 'Pokémon: Arceus and the Jewel of Life', 'Pokémon: Spell of the Unknown', 'Pokémon: The Movie 2000', 'Police Academy 2: Their First Assignment', 'Police Academy 3: Back in Training', 'Police Academy 4: Citizens on Patrol', 'Police Academy 5: Assignment Miami Beach', 'Police Academy 6: City Under Siege', 'Police, Adjective', 'Polisse', 'Pollock', 'Poltergeist II: The Other Side', 'Pompeii', 'Pontypool', 'Poor White Trash', \"Porky's\", 'Possession', 'Post Grad', 'Powaqqatsi', 'Power Rangers', 'Precious Cargo', 'Predator 2', 'Predators', 'Prefontaine', 'Prelude to a Kiss', 'Premature Burial', 'Pride and Glory', 'Pride and Prejudice and Zombies', 'Priest', 'Primer', 'Princess Caraboo', 'Princess Kaiulani', 'Private Lessons', 'Private Resort', 'Pro Lyuboff', 'Project Almanac', 'Prom', 'Prometheus', 'Promised Land', 'Proof', 'Prêt-à-Porter', 'Psycho II', 'Psycho III', 'Public Enemies', 'Pulse', 'Punch-Drunk Love', 'Punchline', 'Punisher: War Zone', 'Pure', 'Quai des Orfèvres', 'Quantum of Solace', 'Quarantine', 'Queen Christina', 'Queen of Spades: The Dark Rite', 'Queen to Play', 'Quest for Camelot', 'Quiet City', 'Quills', 'Quo Vadis', 'RRRrrrr!!!', 'RV', 'Raanjhanaa', 'Rabbit Hole', 'Rabbit Without Ears 2', 'Race to Witch Mountain', 'Raging Bull', 'Raising Cain', 'Raman Raghav 2.0', 'Rambo', 'Rambo III', 'Rambo: First Blood Part II', 'Random Hearts', 'Ransom', 'Raw Deal', 'Ready to Rumble', 'Real Genius', 'Reality Bites', 'Rear Window', 'Rebecca', 'Recep İvedik', 'Recep İvedik 4', 'Red Cliff Part II', 'Red Dawn', 'Red Eye', 'Red Garters', 'Red Lights', 'Red Planet', 'Red Riding Hood', 'Red River', 'Red Rock West', 'Red Scorpion', 'Regression', 'Remember', 'Remo Williams: The Adventure Begins...', 'Renaissance', 'Renaissance Man', 'Reno 911!: Miami', 'Renoir', 'Rent', 'Repentance', 'Repo! The Genetic Opera', 'Repossessed', 'Requiem for a Dream', 'Requiem for the American Dream', 'Rescue Under Fire', 'Resident Evil', 'Resident Evil: Afterlife', 'Resident Evil: Retribution', 'Resident Evil: The Final Chapter', 'Results', 'Return to Never Land', 'Return to the Blue Lagoon', 'Revelation', 'Revenge of the Nerds II: Nerds in Paradise', 'Revenge of the Ninja', 'Revenge of the Pink Panther', 'Ride Along 2', 'Riding Giants', 'Riding in Cars with Boys', 'Rififi', 'Right at Your Door', 'Righteous Kill', 'Rigor Mortis', 'Ringmaster', 'Rings', 'Ringu', 'Rio 2', 'Rio Bravo', 'Risen', \"Rita's Last Fairy Tale\", 'Robin Hood', 'Robin Hood: Men in Tights', 'Robin Hood: Prince of Thieves', 'Robinson Crusoe', 'RoboCop', 'Robots', 'Rock Star', 'Rock-A-Doodle', 'RockNRolla', 'Rocket Gibraltar', 'Rocky', 'Rocky II', 'Rocky III', 'Rocky V', 'Romance & Cigarettes', 'Romeo Must Die', 'Romeo and Juliet', \"Romy and Michele's High School Reunion\", 'Rooster Cogburn', 'Rope', \"Rosemary's Baby\", 'Rosewood', 'Rough Cut', 'Rounders', 'Rowdy Rathore', 'Ruby in Paradise', 'Rudy', 'Rumble in the Bronx', 'Run', 'Run All Night', 'Run, Fatboy, Run', 'Runaway Bride', 'Runaway Jury', 'Runaway Train', 'Running with Scissors', 'Rurouni Kenshin', 'Rush Hour', 'Rush Hour 2', 'Rush Hour 3', 'Rushmore', 'Russian Dolls', 'Russkies', 'Rust and Bone', 'Ruthless People', 'Ryaba, My Chicken', 'S. Darko', 'S.W.A.T.', 'Saamy', 'Sabotage', 'Sacco and Vanzetti', 'Safe', 'Safe Haven', 'Safe House', 'Sahara', 'Saint John of Las Vegas', \"Salome's Last Dance\", 'San Andreas', 'Sankofa', 'Sarkar', 'Save the Last Dance', 'Saving Grace', 'Saw', 'Saw: The Final Chapter', 'Scandal', 'Scarface', 'Scarlet Street', 'Scary Movie', 'Scary Movie 2', 'Scary Movie 5', 'Scenes from a Mall', 'Scent of a Woman', 'School Ties', 'Scooby-Doo 2: Monsters Unleashed', 'Scoop', 'Scream 3', 'Scrooged', 'Sea of Love', 'Seabiscuit', 'Search and Destroy', 'Secret Society', 'Secretary', 'Seeking Justice', 'Senna', 'Sense and Sensibility', 'Serendipity', 'Serial Mom', 'Setup', 'Seventh Son', 'Sex Drive', 'Sex and Lucia', 'Sex and Zen', 'Sex and the City', 'Shadow Conspiracy', 'Shadow Dancer', 'Shadowboxing', 'Shaft', 'Shalako', 'Shall We Dance?', 'Shallow Hal', 'Shaolin Soccer', 'Shaolin Temple 2: Kids from Shaolin', 'Shark Night', \"Sharky's Machine\", 'Shaun the Sheep Movie', \"She's All That\", \"She's Funny That Way\", \"She's Out of Control\", \"She's the Man\", 'Shin Godzilla', 'Shining Through', 'Shocker', 'Shoot the Moon', 'Shopgirl', 'Short Term 12', 'Show Boat', 'Showdown in Little Tokyo', 'Shrooms', 'Sicario', 'Sid & Nancy', 'Sidewalks of New York', 'Sideways', 'Signs', 'Silent House', 'Silver Streak', 'Simon Birch', 'Sin City', 'Sin Nombre', 'Singam', 'Singham', 'Sinister 2', 'Sivaji: The Boss', 'Six Days Seven Nights', 'Ski Patrol', 'Skinning', 'Sky High', 'Sky Of Love', 'Sky. Plane. Girl.', 'Skyline', 'Sleep Dealer', 'Sleep with Me', 'Sleepers', 'Sleeping with Other People', 'Sleeping with the Enemy', 'Sleepless Night', 'Sleepless in Seattle', 'Sleepwalkers', 'Sleepwalking', 'Smashed', 'Smoke', 'Smoke & Mirrors', 'Smokey and the Bandit', 'Smokey and the Bandit II', 'Snake Eyes', 'Snakes on a Plane', 'Snatch', 'Snatched', 'Snitch', 'Snow Flower and the Secret Fan', 'Snowden', 'Snowpiercer', 'Soapdish', 'Solaris', 'Soldier', 'Some Girls', 'Some Like It Hot', 'Something Wild', 'Something from Nothing: The Art of Rap', 'Something to Talk About', \"Something's Gotta Give\", 'Sommersby', 'Son in Law', 'Son of the Pink Panther', 'Song for Marion', 'Song to Song', 'Sorcerer', 'Sordid Lives', 'Source Code', 'Space Dogs', 'Space Jam', 'Space Pirate Captain Harlock', 'Space Truckers', 'SpaceCamp', 'Spaced Invaders', 'Sparrows', 'Spartacus', 'Spawn', 'Special Forces', 'Species', 'Species II', 'Spectre', 'Speed 2: Cruise Control', 'Speed Racer', 'Spice World', 'Splendor', 'Split', 'Split Image', 'Spooks: The Greater Good', 'Spy', 'Spy Kids', \"Squanto: A Warrior's Tale\", 'Squeeze', \"St. Elmo's Fire\", 'St. Vincent', 'Stagecoach', 'Stake Land', 'Stand by Me', 'Stand by Me Doraemon', 'Standing Tall', 'Stanley & Iris', 'Star 80', 'Star Trek III: The Search for Spock', 'Star Trek IV: The Voyage Home', 'Star Trek V: The Final Frontier', 'Star Trek: Generations', 'Star Wars: Episode II - Attack of the Clones', 'Star Wars: Episode III - Revenge of the Sith', 'Star!', 'Stargate: The Ark of Truth', 'Starman', 'Starship Troopers', 'Starsky & Hutch', 'State of Play', 'Stay', 'Stay Tuned', 'Stealth', 'Steel', 'Stella', 'Step Up', 'Step Up 2: The Streets', 'Stepfather II: Make Room For Daddy', 'Steve Jobs: The Man in the Machine', 'Stir Crazy', 'Stir of Echoes', 'Stolen', 'Stone', 'Stonewall', 'Storks', 'Stormbreaker', 'Strange Wilderness', 'Straw Dogs', 'Stripes', 'Subway', 'Sudden Death', 'Sudden Impact', 'Suffragette', 'Sugar & Spice', 'Sukiyaki Western Django', 'Summer Rental', 'Summer School', 'Summer Wars', 'Sunrise: A Song of Two Humans', 'Sunset Boulevard', 'Super Mario Bros.', 'Super Troopers', 'Superbabies: Baby Geniuses 2', 'Superbad', 'Superman II', 'Superman Returns', 'Supernova', 'Supersonic', 'Supersonic Man', \"Surf's Up\", 'Suspect', 'Suture', 'Sweet Charity', 'Sweet Hearts Dance', 'Sweet Home Alabama', 'Sweet November', 'Sweetgrass', 'Sweetwater', 'Swept Away', 'Swing Kids', 'Swing Time', 'Switchback', 'Swoon', 'Swordfish', 'Sydney White', 'Sylvia', 'Sympathy for Lady Vengeance', 'Sympathy for Mr. Vengeance', 'Syriana', 'Sällskapsresan - eller finns det svenskt kaffe på grisfesten?', 'THX 1138', 'TRON: Legacy', 'Table 19', 'Tad, the Lost Explorer', 'Tadpole', 'Take Me Home Tonight', 'Take Shelter', 'Take the Lead', 'Takers', 'Tales from Earthsea', 'Tales from the Darkside: The Movie', 'Talladega Nights: The Ballad of Ricky Bobby', 'Tammy', 'Tank', 'Tapeheads', 'Taps', 'Target', 'Tarzan', 'Tarzan, the Ape Man', 'Taxi 2', 'Taxi 3', 'Team America: World Police', 'Ted', 'Ted 2', 'Teenage Mutant Ninja Turtles: Out of the Shadows', 'Ten', 'Ten Canoes', 'Tere Naam', 'Terminator 3: Rise of the Machines', 'Terri', 'Terribly Happy', 'Testament of Youth', 'Texas Chainsaw Massacre: The Next Generation', 'Texas Killing Fields', 'Thank You', 'Thank You for Smoking', 'That Thing You Do!', 'The 33', 'The 40 Year Old Virgin', 'The A-Team', 'The Accidental Husband', 'The Adventures of Mark Twain', 'The Adventures of Pluto Nash', 'The Adventures of Priscilla, Queen of the Desert', 'The Adventures of Tintin', 'The African Queen', 'The Age of Adaline', 'The Alamo', 'The Amateur', 'The Amazing Truth About Queen Raquela', 'The American President', 'The Amityville Horror', 'The Animal', 'The Arrival', 'The Art of Getting By', 'The Art of War', 'The Artist', 'The Assassination of Richard Nixon', 'The Assault', 'The Astronaut Farmer', 'The Avengers', 'The Aviator', 'The Awakening', 'The Babe', 'The Back-Up Plan', 'The Bad Lieutenant: Port of Call - New Orleans', 'The Bag Man', 'The Ballad of Jack and Rose', 'The Battle of Algiers', 'The Bay', 'The Beast from 20,000 Fathoms', 'The Beastmaster', 'The Beauty Inside', 'The Beaver', 'The Beguiled', \"The Bells of St. Mary's\", 'The Best Movie 3-DE', 'The Best Offer', 'The Better Angels', 'The Big Bounce', 'The Big Short', 'The Big Town', 'The Birdcage', 'The Birds', 'The Birth of a Nation', 'The Black Dahlia', 'The Black Stallion', 'The Blair Witch Project', 'The Blob', 'The Blue Lagoon', 'The Bodyguard', 'The Bone Collector', 'The Bonfire of the Vanities', 'The Book Thief', 'The Book of Eli', 'The Book of Life', 'The Book of Mormon Movie, Volume 1: The Journey', 'The Boondock Saints', 'The Born Losers', 'The Boss Baby', 'The Bounty', 'The Bounty Hunter', 'The Bourne Legacy', 'The Bourne Supremacy', 'The Boy Next Door', 'The Breed', 'The Bride Wore Black', 'The Bridge on the River Kwai', 'The Broken Circle Breakdown', 'The Broken Hearts Club: A Romantic Comedy', 'The Bronze', 'The Buddy Holly Story', 'The Bullet Vanishes', 'The Butterfly Effect', 'The Cabin in the Woods', 'The Cable Guy', 'The Caine Mutiny', 'The Call', 'The Cannonball Run', 'The Canyons', 'The Card Player', 'The Care Bears Adventure in Wonderland', \"The Cat's Meow\", 'The Chamber', 'The Change-Up', 'The Charge of the Light Brigade', 'The Chase', 'The Cherry Orchard', 'The Children of Huang Shi', 'The Chronicles of Narnia: Prince Caspian', 'The Chronicles of Narnia: The Lion, the Witch and the Wardrobe', 'The Cider House Rules', 'The Circle', 'The Clan', 'The Clearing', 'The Club', 'The Cold Light of Day', 'The Color of Money', 'The Comedians', 'The Congress', 'The Conjuring', 'The Conjuring 2', 'The Conspirator', 'The Constant Gardener', 'The Cookout', 'The Cotton Club', 'The Counselor', 'The Cowboys', 'The Craft', 'The Crocodile Hunter: Collision Course', 'The Crying Game', 'The Curse of the Were-Rabbit', 'The DUFF', 'The Darjeeling Limited', 'The Dark Knight', 'The Dark Knight Rises', 'The Dawns Here Are Quiet', 'The Day After Tomorrow', 'The Day He Arrives', 'The Day of the Beast', 'The Dead Lands', 'The Death and Life of Bobby Z', 'The Deceivers', 'The Deer Hunter', 'The Derby Stallion', \"The Devil's Violinist\", 'The Dictator', 'The Dilemma', 'The Disappearance of Alice Creed', 'The Disappearance of Eleanor Rigby: Them', 'The Distinguished Gentleman', 'The Diving Bell and the Butterfly', 'The Double', 'The Double Hour', 'The Double Life of Veronique', 'The Dressmaker', 'The Drop', 'The Dry Land', 'The Duelist', 'The Eagle', 'The Eagle Huntress', 'The Edge of Heaven', 'The Edge of Seventeen', 'The Eiger Sanction', 'The Electric Horseman', 'The Elephant Man', 'The End of Evangelion', \"The Endurance: Shackleton's Legendary Antarctic Expedition\", 'The Equalizer', 'The Evil Dead', 'The Ex', 'The Exorcism of Emily Rose', 'The Exorcist', 'The Expendables', 'The Expendables 3', 'The Extra Man', 'The Extraordinary Adventures of Adèle Blanc-Sec', 'The Face of Love', 'The Fall of the Roman Empire', 'The Family', 'The Family Fang', 'The Fan', 'The Fast and the Furious', 'The Fast and the Furious: Tokyo Drift', 'The Fault in Our Stars', 'The Field', 'The Fifth Element', 'The Fifth Estate', 'The Fighter', 'The Final Cut', 'The Finest Hours', 'The First Power', 'The First Wives Club', 'The Fisher King', 'The Flintstones in Viva Rock Vegas', 'The Flowers of War', 'The Fly', 'The Fog', 'The Fourth Kind', 'The Fourth War', 'The French Connection', 'The Frighteners', 'The Frozen Ground', 'The Future', 'The Game Plan', 'The Gauntlet', \"The General's Daughter\", 'The Getaway', 'The Gift', 'The Girl Next Door', 'The Girl Who Played with Fire', 'The Girlfriend Experience', 'The Glass House', \"The Goalie's Anxiety at the Penalty Kick\", 'The Godfather', 'The Godfather: Part III', 'The Golden Compass', 'The Good Dinosaur', 'The Good Doctor', 'The Good Shepherd', 'The Goodbye Girl', 'The Gorgeous Hussy', 'The Grandmaster', 'The Grass Is Greener', 'The Great Buck Howard', 'The Great Debaters', 'The Great Dictator', 'The Great Outdoors', 'The Great Race', 'The Great Raid', 'The Great Waldo Pepper', 'The Great Wall', 'The Greatest Movie Ever Sold', 'The Green Hornet', 'The Grey', 'The Grudge 3', 'The Guardian', 'The Guide', \"The Gun in Betty Lou's Handbag\", 'The Guns of Navarone', 'The Hand', 'The Handmaiden', 'The Hangover', 'The Hangover Part III', 'The Happening', 'The Hard Way', 'The Hateful Eight', 'The Haunted Mansion', 'The Haunting', 'The Heart is Deceitful Above All Things', 'The Hero', 'The Hijack That Went South', 'The Hills Have Eyes', 'The Hitcher', 'The Hobbit: An Unexpected Journey', 'The Hobbit: The Desolation of Smaug', 'The Holiday', 'The Horse Whisperer', 'The Horseman on the Roof', 'The Host', 'The Hours', 'The Hunger', 'The Hunger Games: Mockingjay - Part 2', 'The Hurricane', 'The Hustler', 'The Iceman', 'The Ides of March', 'The Illusionist', 'The Impossible', 'The Incredibles', 'The Indian Runner', 'The Informant!', 'The Informers', 'The Inhabited Island 2: Rebellion', 'The Insider', \"The Internet's Own Boy: The Story of Aaron Swartz\", 'The Internship', 'The Interview', 'The Intouchables', 'The Invasion', 'The Invincible Iron Man', 'The Invisible Woman', 'The Iron Lady', 'The Irony of Fate. The Sequel', 'The Island of Dr. Moreau', 'The Italian Job', 'The Jackal', 'The Jacket', 'The Judge', 'The Jungle Book 2', 'The Karate Kid', 'The Karate Kid, Part II', 'The Keep', 'The Kid', 'The Kids Are All Right', 'The King and I', 'The Kingdom', 'The Kite Runner', 'The Lake House', 'The Last Castle', 'The Last Circus', 'The Last Dragon', 'The Last Emperor', 'The Last Exorcism Part II', \"The Last Flight of Noah's Ark\", 'The Last Godfather', 'The Last House on the Left', 'The Last King of Scotland', 'The Last Legion', 'The Last Mimzy', 'The Last Starfighter', 'The Last Supper', 'The Last Temptation of Christ', 'The Last Unicorn', 'The Last Wave', 'The Last Witch Hunter', 'The Last of the Mohicans', 'The Lazarus Effect', 'The Lazarus Project', 'The Legend I', 'The Legend of Bagger Vance', 'The Legend of Bhagat Singh', 'The Legend of Boggy Creek', 'The Legend of Zorro', 'The Life Aquatic with Steve Zissou', 'The Life and Death of 9413, a Hollywood Extra', 'The Life of David Gale', 'The Limey', 'The Lion King', 'The Little Mermaid', 'The Little Vampire', 'The Lives of Others', 'The Living Daylights', 'The Living Sea', 'The Lobster', 'The Locusts', 'The Loft', 'The Long Kiss Goodnight', 'The Longest Day', 'The Longest Yard', 'The Lookout', 'The Lord of the Rings', 'The Lord of the Rings: The Fellowship of the Ring', 'The Lord of the Rings: The Two Towers', 'The Lost Boys', 'The Lost City of Z', 'The Lost Weekend', 'The Love Guru', 'The Lovely Bones', 'The Lunchbox', 'The Machinist', 'The Magdalene Sisters', 'The Magnificent Seven', 'The Man', 'The Man Who Knew Infinity', 'The Man without a Face', 'The Manchurian Candidate', 'The Manhattan Project', 'The Marine', 'The Martian', 'The Mask', 'The Mask of Zorro', 'The Master', 'The Matador', 'The Mean Season', 'The Measure of a Man', 'The Mechanic', 'The Meddler', 'The Men Who Stare at Goats', 'The Merry Widow', 'The Messenger: The Story of Joan of Arc', 'The Mexican', 'The Midnight Meat Train', 'The Mighty Quinn', 'The Minus Man', 'The Miracle', \"The Mirror Crack'd\", 'The Misfits', 'The Missing Picture', 'The Missionary', 'The Mist', 'The Molly Maguires', 'The Monk', 'The Monster Squad', 'The Morning After', 'The Mortal Instruments: City of Bones', 'The Mostly Unfabulous Social Life of Ethan Green', 'The Motorcycle Diaries', 'The Mudge Boy', 'The Mummy', 'The Muppet Movie', 'The Musketeer', 'The National Shotgun', 'The NeverEnding Story', 'The New World', 'The Next Best Thing', 'The Next Three Days', 'The Nice Guys', 'The Night We Never Met', 'The Nightmare', 'The Notebook', 'The November Man', 'The Nutcracker', 'The Odd Couple', 'The Odd Life of Timothy Green', 'The One', 'The One and Only', 'The Order', 'The Other Woman', 'The Ottoman Lieutenant', 'The Outsiders', 'The Overnight', 'The Pacifier', 'The Package', 'The Pagemaster', 'The Passion of the Christ', 'The Perfect Game', 'The Perfect Guy', 'The Perfect Storm', 'The Phantom', 'The Physician', 'The Piano', 'The Pink Panther', 'The Pirate Bay: Away From Keyboard', 'The Pirates of Penzance', 'The Pirates! In an Adventure with Scientists!', 'The Place Beyond the Pines', 'The Player', 'The Polar Express', 'The Portrait of a Lady', 'The Possession', 'The Powerpuff Girls Movie', \"The Preacher's Wife\", 'The Prestige', 'The Pretty One', 'The Prince of Egypt', 'The Princess Bride', 'The Princess Diaries', 'The Princess Diaries 2: Royal Engagement', 'The Princess of Montpensier', 'The Private Life of Sherlock Holmes', 'The Producers', 'The Program', 'The Purge: Anarchy', 'The Pyramid', 'The Queen', 'The Quick and the Dead', 'The Raid 2', 'The Rapture', 'The Raven', 'The Reaping', 'The Recruit', 'The Red Baron', 'The Red Turtle', 'The Reluctant Fundamentalist', 'The Return of Swamp Thing', 'The Return of the Pink Panther', 'The Revenant', 'The Ring Two', 'The River', 'The Road', 'The Robe', 'The Rock', 'The Rocket: The Legend of Rocket Richard', 'The Rocky Horror Picture Show', 'The Romantics', 'The Rose', 'The Rover', 'The Rugrats Movie', 'The Sacrament', 'The Sacrifice', 'The Saint', 'The Saint of Gamblers', 'The Salesman', 'The Salvation', 'The Sand Pebbles', 'The Santa Clause 3: The Escape Clause', 'The Satanic Rites of Dracula', 'The Scarlet Letter', 'The Score', 'The Scorpion King', 'The Secret Life of Walter Mitty', 'The Secret Scripture', 'The Secret of Moonacre', 'The Secret of My Success', 'The Sentinel', 'The Serpent and the Rainbow', 'The Sessions', 'The Shack', 'The Shawshank Redemption', 'The Siege', 'The Signal', 'The Silver Chalice', 'The Simpsons Movie', 'The Single Moms Club', 'The Sisterhood of the Traveling Pants 2', 'The Skeleton Key', \"The Slugger's Wife\", 'The Smurfs 2', 'The Soloist', 'The Song', 'The Song of Sparrows', \"The Sorcerer's Apprentice\", 'The Spacewalker', 'The Spanish Apartment', 'The Spanish Prisoner', 'The Spy', 'The Spy Who Loved Me', 'The Station Agent', 'The Stepford Wives', 'The Sting II', 'The Stone Angel', 'The Stroller Strategy', 'The Swan Princess', 'The Swan Princess: Escape from Castle Mountain', 'The Sweetest Thing', 'The Taking of Tiger Mountain', 'The Tale of the Princess Kaguya', 'The Ten Commandments', 'The Terminal', 'The Terminator', 'The Terror Within', 'The Terrorist', 'The Theory of Everything', 'The Thief of Bagdad', 'The Thing', 'The Third Man', 'The Thirteenth Floor', 'The Three Burials of Melquiades Estrada', 'The Three Musketeers', 'The Three Stooges', \"The Tiger: An Old Hunter's Tale\", 'The To Do List', 'The Tourist', 'The Town', 'The Tracey Fragments', 'The Train', 'The Transformers: The Movie', 'The Transporter', 'The Treasure of the Sierra Madre', 'The Tree of Life', 'The Trip to Bountiful', 'The Trouble with Harry', 'The Truman Show', 'The Trumpet Of The Swan', 'The Tulse Luper Suitcases, Part 1: The Moab Story', 'The Twilight Saga: Eclipse', 'The Twilight Saga: New Moon', 'The Twilight Samurai', 'The Ugly Truth', 'The Unbearable Lightness of Being', 'The Unborn', 'The Valet', 'The Valley of Decision', 'The Virgin Suicides', 'The Visit', 'The Visitor', 'The Visual Bible: The Gospel of John', 'The Vow', 'The Wackness', 'The Wall', 'The War Tapes', \"The Warrior's Way\", 'The Warriors', 'The Wash', 'The Water Diviner', 'The Way of the Gun', 'The Wedding Banquet', 'The Wedding Date', 'The Wedding Ringer', 'The Weight of Water', 'The Whole Nine Yards', 'The Whole Ten Yards', 'The Wild Bunch', 'The Wild Life', 'The Wind in the Willows', 'The Wiz', 'The Wolf of Wall Street', 'The Wolfpack', 'The Wolverine', 'The Women', 'The World Is Not Enough', \"The World's End\", 'The Worst Christmas of My Life', 'The Wrestler', 'The X Files: I Want to Believe', 'The Year of Living Dangerously', 'The Young Victoria', 'The Zero Theorem', \"The Zookeeper's Wife\", 'Their Finest', 'There Goes My Baby', 'Thief', 'Thief of Hearts', 'Things Are Tough All Over', 'Third Person', 'Thirteen', 'This Boy’s Life', 'This Is 40', 'This Is England', 'This Is Where I Leave You', 'This Means War', 'Thor: Tales of Asgard', 'Three Fugitives', 'Three Kings', 'Three Wishes', 'Throw Momma from the Train', 'Thumbelina', 'Thumbsucker', 'Thunderball', 'Thunderbolt and Lightfoot', 'Thy Womb', 'Tidal Wave', 'Time Bandits', 'Time Out of Mind', 'Timecop', 'Timecrimes', 'Tinker Bell and the Pirate Fairy', 'Tiny Furniture', 'Tiny Times', 'Titan A.E.', 'Titanic', 'To Catch a Thief', 'To Die For', 'To Kill a Mockingbird', 'To Rome with Love', 'To Steal from a Thief', 'To the Wonder', 'Tom Jones', 'Tombstone', 'Tommy Boy', 'Tomorrow', 'Tomorrow Never Dies', 'Tomorrowland', 'Toni Erdmann', 'Tooth Fairy', 'Top Five', 'Top Gun', 'Top Hat', 'Topaz', 'Total Recall', 'Touching the Void', 'Touchy Feely', 'Tower Heist', 'Toy Story', 'Tracers', 'Traces of Red', 'Tracks', 'Traffic', 'Trailer Park Boys: The Movie', 'Trainspotting', 'Trainwreck', 'Transformers', 'Transformers: Dark of the Moon', 'Transformers: Revenge of the Fallen', 'Transformers: The Last Knight', 'Transporter 2', 'Trapeze', 'Trapped', 'Trapped in Paradise', 'Tremors', 'Tri bogatyrya i Shamakhanskaya tsaritsa', \"Trippin'\", 'Tristan & Isolde', 'Troll Hunter', 'Trolls', 'Tron', 'True Story', 'Trust', 'Truth', 'Tuck Everlasting', 'Tuesday, After Christmas', 'Tum Bin', 'Turbulence', 'Tutto tutto niente niente', \"Twelve O'Clock High\", 'Twice Upon a Yesterday', 'Twins', 'Two Brothers', 'Two Days, One Night', 'Two Lovers', 'Two Moon Junction', 'Tyrannosaur', 'U Turn', 'U-571', 'U.S. Marshals', 'U2 3D', 'Ultimate Avengers 2', 'Unbroken', 'Uncommon Valor', 'Under Electric Clouds', 'Under Suspicion', 'Under the Boardwalk', 'Under the Rainbow', 'Undercover Blues', 'Undercover Brother', 'Undertow', 'Undiscovered', 'Unforgettable', 'Unfriended', 'Uninvited Guest', 'United 93', 'Universal Soldier: Regeneration', 'Unknown', 'Untraceable', 'Up in the Air', 'Upstream Color', 'Urban Legend', 'Urban Legends: Final Cut', 'Used Cars', 'V for Vendetta', 'V/H/S', 'V/H/S/2', 'Valerian and the City of a Thousand Planets', 'Valiant', 'Vampire in Brooklyn', 'Vampires Suck', 'Van Gogh', 'Van Helsing', 'Van Wilder 2: The Rise of Taj', 'Vanishing Point', 'Vantage Point', 'Varalaru', 'Vegas Vacation', 'Velvet Goldmine', 'Veronica Mars', 'Veteran', 'Videocracy', 'Videodrome', 'Vigilante', 'Villan', 'Vinnaithaandi Varuvaayaa', 'Virgin Territory', 'Virtuosity', 'Virus', 'Visaranai', 'Vishwaroopam', 'Voracious', 'Vulgar', 'WALL·E', 'Wadjda', 'Wag the Dog', 'Wait Until Dark', 'Waiting for Happiness', 'Waiting to Exhale', 'Waitress', 'Walk Hard: The Dewey Cox Story', 'Walk of Shame', 'Walk the Line', 'Wall Street', 'Wall Street: Money Never Sleeps', 'Waltz with Bashir', 'War Dogs', 'War for the Planet of the Apes', 'War of the Arrows', 'War, Inc.', 'Warm Bodies', 'Warrior', 'Wassup Rockers', 'Waste Land', 'Waterloo', 'We Are What We Are', 'We Are Your Friends', 'We Are from the Future 2', 'We Are the Best!', 'We Bought a Zoo', 'We Steal Secrets: The Story of WikiLeaks', 'We Were Soldiers', \"We're Back! A Dinosaur's Story\", 'Wedding Crashers', 'Welcome Home Roscoe Jenkins', 'Welcome Mr. President!', 'Welcome to Dongmakgol', 'Welcome to the Sticks', 'Werckmeister Harmonies', 'Were The World Mine', 'West Is West', 'West of Zanzibar', 'What Dreams May Come', 'What If', 'What Just Happened', 'What We Did on Our Holiday', 'What Women Want', 'What the #$*! Do We (K)now!?', 'What the Bleep! Down the Rabbit Hole', \"What to Expect When You're Expecting\", \"What's Eating Gilbert Grape\", 'Whatever It Takes', 'When Harry Met Sally...', 'When a Man Loves a Woman', 'When the Bough Breaks', 'When the Game Stands Tall', 'Where the Buffalo Roam', 'Where the Wild Things Are', 'Whip It', 'Whiplash', 'Whiskey Tango Foxtrot', 'White God', 'White House Down', 'White Nights', 'White Palace', 'White Water Summer', \"Who Is Harry Nilsson (And Why Is Everybody Talkin' About Him?)\", 'Why Do Fools Fall In Love', 'Wild Hogs', 'Wild Target', 'Willy Wonka & the Chocolate Factory', 'Wilson', 'Win Win', 'Win a Date with Tad Hamilton!', 'Windtalkers', 'Windwalker', 'Wings of Desire', 'Winter Passing', 'Winter in Wartime', 'Wise Guys', 'Wish I Was Here', \"Witchboard 2: The Devil's Doorway\", 'Without Limits', 'Witness', 'Wolf Warrior', 'Woman Thou Art Loosed', \"Won't Back Down\", 'Wonder Woman', 'Woo', 'Working Girl', 'World War Z', 'Would I Lie to You? 2', 'Wrath of the Titans', 'Wreck-It Ralph', 'X-Men Origins: Wolverine', 'X-Men: The Last Stand', 'X2', 'Xanadu', 'Yes Man', 'Yolngu Boy', \"You Don't Mess with the Zohan\", 'You Only Live Twice', \"You're Next\", \"You've Got Mail\", 'Young Detective Dee: Rise of the Sea Dragon', 'Your Friends & Neighbors', \"Your Sister's Sister\", 'Youth', 'Yves Saint Laurent', 'Zelig', 'Zero Dark Thirty', 'Zero Effect', 'Zid', 'Zodiac', 'Zombeavers', 'Zombieland', 'Zookeeper', 'Zootopia', 'Zyzzyx Road', '[REC]', '[REC]²', '[REC]⁴ Apocalypse', '¿Quién mató a Bambi?', 'А поутру они проснулись', 'Королёв']\n"
          ],
          "name": "stdout"
        }
      ]
    },
    {
      "metadata": {
        "id": "QRo5fySfSPa0",
        "colab_type": "code",
        "colab": {}
      },
      "cell_type": "code",
      "source": [
        "title_len_train = train['title'].apply(lambda x: len(x) if not pd.isnull(x) else 0)\n",
        "title_len_test = test['title'].apply(lambda x: len(x) if not pd.isnull(x) else 0)"
      ],
      "execution_count": 0,
      "outputs": []
    },
    {
      "metadata": {
        "id": "dzdC0_HuSPYS",
        "colab_type": "code",
        "outputId": "243f7c90-4284-4756-fc27-65e99cc60f5d",
        "colab": {
          "base_uri": "https://localhost:8080/",
          "height": 459
        }
      },
      "cell_type": "code",
      "source": [
        "sns.jointplot(x=title_len_train,y=train['revenue'])"
      ],
      "execution_count": 0,
      "outputs": [
        {
          "output_type": "execute_result",
          "data": {
            "text/plain": [
              "<seaborn.axisgrid.JointGrid at 0x7f89a8fc1400>"
            ]
          },
          "metadata": {
            "tags": []
          },
          "execution_count": 31
        },
        {
          "output_type": "display_data",
          "data": {
            "image/png": "[encoded data removed]",
            "text/plain": [
              "<Figure size 432x432 with 3 Axes>"
            ]
          },
          "metadata": {
            "tags": []
          }
        }
      ]
    },
    {
      "metadata": {
        "id": "0lx8h3b0Unm-",
        "colab_type": "code",
        "outputId": "813dd89c-6e8e-4f90-aef2-78a8617d8928",
        "colab": {
          "base_uri": "https://localhost:8080/",
          "height": 34
        }
      },
      "cell_type": "code",
      "source": [
        "# we see good correleation between revenue and title_len\n",
        "train['revenue'].corr(title_len_train)"
      ],
      "execution_count": 0,
      "outputs": [
        {
          "output_type": "execute_result",
          "data": {
            "text/plain": [
              "0.10884958637921927"
            ]
          },
          "metadata": {
            "tags": []
          },
          "execution_count": 32
        }
      ]
    },
    {
      "metadata": {
        "colab_type": "code",
        "id": "twJgpWPUhc0U",
        "colab": {}
      },
      "cell_type": "code",
      "source": [
        "train['title_length'] = title_len_train\n",
        "test['title_length'] = title_len_test\n",
        "#columns_to_keep.add('title_length')"
      ],
      "execution_count": 0,
      "outputs": []
    },
    {
      "metadata": {
        "id": "OM_MmXHWhdgP",
        "colab_type": "code",
        "colab": {}
      },
      "cell_type": "code",
      "source": [
        "train.drop(['title'],axis=1,inplace=True)\n",
        "test.drop(['title'],axis=1,inplace=True)"
      ],
      "execution_count": 0,
      "outputs": []
    },
    {
      "metadata": {
        "id": "jfyTz3bYTw-m",
        "colab_type": "code",
        "outputId": "4b4518b4-1c5f-4bda-eb3d-08a0290f4b8b",
        "colab": {
          "base_uri": "https://localhost:8080/",
          "height": 121
        }
      },
      "cell_type": "code",
      "source": [
        "print(train.columns)"
      ],
      "execution_count": 0,
      "outputs": [
        {
          "output_type": "stream",
          "text": [
            "Index(['id', 'belongs_to_collection', 'budget', 'genres', 'homepage',\n",
            "       'original_language', 'popularity', 'production_companies',\n",
            "       'production_countries', 'release_date', 'runtime', 'spoken_languages',\n",
            "       'status', 'tagline', 'Keywords', 'cast', 'crew', 'revenue',\n",
            "       'title_length'],\n",
            "      dtype='object')\n"
          ],
          "name": "stdout"
        }
      ]
    },
    {
      "metadata": {
        "id": "6JnJqH0KIyWU",
        "colab_type": "text"
      },
      "cell_type": "markdown",
      "source": [
        "### is there any use of imdb_id ? will see later.."
      ]
    },
    {
      "metadata": {
        "scrolled": true,
        "id": "yPsc3dH_IyWW",
        "colab_type": "code",
        "outputId": "82714e74-56e2-4172-97ba-6641d3c9ac3e",
        "colab": {
          "base_uri": "https://localhost:8080/",
          "height": 70
        }
      },
      "cell_type": "code",
      "source": [
        "cnt={}\n",
        "for i in train['imdb_id']:\n",
        "    if i[0:4] not in cnt.keys():\n",
        "        cnt[i[0:4]]=1\n",
        "    else:\n",
        "        cnt[i[0:4]]+=1\n",
        "print(cnt)\n",
        "print(sorted(cnt.keys()))"
      ],
      "execution_count": 0,
      "outputs": [
        {
          "output_type": "stream",
          "text": [
            "{'tt26': 15, 'tt03': 227, 'tt25': 13, 'tt18': 41, 'tt13': 49, 'tt00': 638, 'tt04': 233, 'tt01': 579, 'tt11': 70, 'tt17': 52, 'tt14': 62, 'tt21': 33, 'tt16': 65, 'tt07': 31, 'tt02': 180, 'tt29': 16, 'tt27': 16, 'tt34': 10, 'tt09': 37, 'tt32': 7, 'tt10': 62, 'tt12': 74, 'tt28': 17, 'tt38': 15, 'tt24': 31, 'tt08': 77, 'tt15': 50, 'tt52': 5, 'tt31': 11, 'tt20': 38, 'tt33': 15, 'tt56': 5, 'tt23': 39, 'tt22': 22, 'tt44': 9, 'tt49': 7, 'tt19': 31, 'tt36': 8, 'tt46': 8, 'tt42': 10, 'tt66': 1, 'tt50': 5, 'tt30': 12, 'tt37': 16, 'tt40': 7, 'tt45': 5, 'tt65': 1, 'tt43': 6, 'tt51': 3, 'tt39': 3, 'tt35': 6, 'tt41': 8, 'tt47': 5, 'tt62': 1, 'tt54': 2, 'tt48': 4, 'tt57': 1, 'tt58': 1, 'tt55': 2, 'tt59': 1, 'tt60': 1, 'tt53': 1}\n",
            "['tt00', 'tt01', 'tt02', 'tt03', 'tt04', 'tt07', 'tt08', 'tt09', 'tt10', 'tt11', 'tt12', 'tt13', 'tt14', 'tt15', 'tt16', 'tt17', 'tt18', 'tt19', 'tt20', 'tt21', 'tt22', 'tt23', 'tt24', 'tt25', 'tt26', 'tt27', 'tt28', 'tt29', 'tt30', 'tt31', 'tt32', 'tt33', 'tt34', 'tt35', 'tt36', 'tt37', 'tt38', 'tt39', 'tt40', 'tt41', 'tt42', 'tt43', 'tt44', 'tt45', 'tt46', 'tt47', 'tt48', 'tt49', 'tt50', 'tt51', 'tt52', 'tt53', 'tt54', 'tt55', 'tt56', 'tt57', 'tt58', 'tt59', 'tt60', 'tt62', 'tt65', 'tt66']\n"
          ],
          "name": "stdout"
        }
      ]
    },
    {
      "metadata": {
        "id": "HLSX42gwIyWh",
        "colab_type": "code",
        "outputId": "c0eb305f-2f13-45ed-cef0-d2783f239591",
        "colab": {
          "base_uri": "https://localhost:8080/",
          "height": 33
        }
      },
      "cell_type": "code",
      "source": [
        "len(cnt) "
      ],
      "execution_count": 0,
      "outputs": [
        {
          "output_type": "execute_result",
          "data": {
            "text/plain": [
              "62"
            ]
          },
          "metadata": {
            "tags": []
          },
          "execution_count": 140
        }
      ]
    },
    {
      "metadata": {
        "id": "nw2qYyCBIyWt",
        "colab_type": "code",
        "outputId": "a812101d-15d1-4f2c-fcd0-e4d4144afa7d",
        "colab": {
          "base_uri": "https://localhost:8080/",
          "height": 87
        }
      },
      "cell_type": "code",
      "source": [
        "cnt={}\n",
        "for i in test['imdb_id']:\n",
        "    if i[0:4] not in cnt.keys():\n",
        "        cnt[i[0:4]]=1\n",
        "    else:\n",
        "        cnt[i[0:4]]+=1\n",
        "print(cnt)\n",
        "print(sorted(cnt.keys()))\n",
        "print(len(cnt))"
      ],
      "execution_count": 0,
      "outputs": [
        {
          "output_type": "stream",
          "text": [
            "{'tt12': 103, 'tt00': 945, 'tt01': 839, 'tt04': 364, 'tt15': 92, 'tt02': 239, 'tt36': 22, 'tt03': 329, 'tt08': 102, 'tt22': 49, 'tt10': 83, 'tt17': 81, 'tt21': 43, 'tt19': 53, 'tt29': 19, 'tt23': 71, 'tt38': 13, 'tt18': 55, 'tt16': 95, 'tt32': 19, 'tt09': 73, 'tt07': 40, 'tt13': 85, 'tt33': 20, 'tt11': 105, 'tt45': 9, 'tt20': 37, 'tt40': 15, 'tt14': 87, 'tt30': 21, 'tt34': 18, 'tt25': 27, 'tt24': 30, 'tt49': 4, 'tt27': 19, 'tt41': 14, 'tt56': 3, 'tt31': 15, 'tt47': 9, 'tt42': 14, 'tt35': 16, 'tt28': 17, 'tt46': 9, 'tt37': 21, 'tt43': 10, 'tt54': 4, 'tt26': 12, 'tt58': 2, 'tt48': 9, 'tt60': 1, 'tt39': 4, 'tt59': 2, 'tt51': 4, 'tt53': 4, 'tt57': 3, 'tt50': 6, 'tt44': 7, 'tt52': 3, 'tt62': 2, 'tt55': 1}\n",
            "['tt00', 'tt01', 'tt02', 'tt03', 'tt04', 'tt07', 'tt08', 'tt09', 'tt10', 'tt11', 'tt12', 'tt13', 'tt14', 'tt15', 'tt16', 'tt17', 'tt18', 'tt19', 'tt20', 'tt21', 'tt22', 'tt23', 'tt24', 'tt25', 'tt26', 'tt27', 'tt28', 'tt29', 'tt30', 'tt31', 'tt32', 'tt33', 'tt34', 'tt35', 'tt36', 'tt37', 'tt38', 'tt39', 'tt40', 'tt41', 'tt42', 'tt43', 'tt44', 'tt45', 'tt46', 'tt47', 'tt48', 'tt49', 'tt50', 'tt51', 'tt52', 'tt53', 'tt54', 'tt55', 'tt56', 'tt57', 'tt58', 'tt59', 'tt60', 'tt62']\n",
            "60\n"
          ],
          "name": "stdout"
        }
      ]
    },
    {
      "metadata": {
        "id": "uwe8ZE2SIyW_",
        "colab_type": "code",
        "colab": {}
      },
      "cell_type": "code",
      "source": [
        ""
      ],
      "execution_count": 0,
      "outputs": []
    },
    {
      "metadata": {
        "id": "6t1IThOsIyXF",
        "colab_type": "code",
        "outputId": "5346991c-64bc-40b1-9446-3f640c13f040",
        "colab": {
          "base_uri": "https://localhost:8080/",
          "height": 382
        }
      },
      "cell_type": "code",
      "source": [
        "sns.heatmap(train.corr(),annot=True)"
      ],
      "execution_count": 0,
      "outputs": [
        {
          "output_type": "execute_result",
          "data": {
            "text/plain": [
              "<matplotlib.axes._subplots.AxesSubplot at 0x7f886d7d05c0>"
            ]
          },
          "metadata": {
            "tags": []
          },
          "execution_count": 142
        },
        {
          "output_type": "display_data",
          "data": {
            "image/png": "[encoded data removed]",
            "text/plain": [
              "<Figure size 432x288 with 2 Axes>"
            ]
          },
          "metadata": {
            "tags": []
          }
        }
      ]
    },
    {
      "metadata": {
        "id": "TwCAUx0NIyXP",
        "colab_type": "text"
      },
      "cell_type": "markdown",
      "source": [
        "### Data Cleaning and Feauture engineering"
      ]
    },
    {
      "metadata": {
        "scrolled": true,
        "id": "ISOggg2lIyXT",
        "colab_type": "code",
        "outputId": "e7dfc8ea-42a1-48b8-afa6-0ecb94909bd8",
        "colab": {
          "base_uri": "https://localhost:8080/",
          "height": 529
        }
      },
      "cell_type": "code",
      "source": [
        "train.head()"
      ],
      "execution_count": 0,
      "outputs": [
        {
          "output_type": "execute_result",
          "data": {
            "text/html": [
              "<div>\n",
              "<style scoped>\n",
              "    .dataframe tbody tr th:only-of-type {\n",
              "        vertical-align: middle;\n",
              "    }\n",
              "\n",
              "    .dataframe tbody tr th {\n",
              "        vertical-align: top;\n",
              "    }\n",
              "\n",
              "    .dataframe thead th {\n",
              "        text-align: right;\n",
              "    }\n",
              "</style>\n",
              "<table border=\"1\" class=\"dataframe\">\n",
              "  <thead>\n",
              "    <tr style=\"text-align: right;\">\n",
              "      <th></th>\n",
              "      <th>id</th>\n",
              "      <th>belongs_to_collection</th>\n",
              "      <th>budget</th>\n",
              "      <th>genres</th>\n",
              "      <th>homepage</th>\n",
              "      <th>original_language</th>\n",
              "      <th>popularity</th>\n",
              "      <th>production_companies</th>\n",
              "      <th>production_countries</th>\n",
              "      <th>release_date</th>\n",
              "      <th>runtime</th>\n",
              "      <th>spoken_languages</th>\n",
              "      <th>status</th>\n",
              "      <th>tagline</th>\n",
              "      <th>Keywords</th>\n",
              "      <th>cast</th>\n",
              "      <th>crew</th>\n",
              "      <th>revenue</th>\n",
              "      <th>title_length</th>\n",
              "    </tr>\n",
              "  </thead>\n",
              "  <tbody>\n",
              "    <tr>\n",
              "      <th>0</th>\n",
              "      <td>1</td>\n",
              "      <td>1</td>\n",
              "      <td>14000000</td>\n",
              "      <td>[{'id': 35, 'name': 'Comedy'}]</td>\n",
              "      <td>0</td>\n",
              "      <td>en</td>\n",
              "      <td>6.575393</td>\n",
              "      <td>[{'name': 'Paramount Pictures', 'id': 4}, {'na...</td>\n",
              "      <td>[{'iso_3166_1': 'US', 'name': 'United States o...</td>\n",
              "      <td>2/20/15</td>\n",
              "      <td>93.0</td>\n",
              "      <td>[{'iso_639_1': 'en', 'name': 'English'}]</td>\n",
              "      <td>Released</td>\n",
              "      <td>52</td>\n",
              "      <td>[{'id': 4379, 'name': 'time travel'}, {'id': 9...</td>\n",
              "      <td>[{'cast_id': 4, 'character': 'Lou', 'credit_id...</td>\n",
              "      <td>[{'credit_id': '59ac067c92514107af02c8c8', 'de...</td>\n",
              "      <td>12314651</td>\n",
              "      <td>22</td>\n",
              "    </tr>\n",
              "    <tr>\n",
              "      <th>1</th>\n",
              "      <td>2</td>\n",
              "      <td>1</td>\n",
              "      <td>40000000</td>\n",
              "      <td>[{'id': 35, 'name': 'Comedy'}, {'id': 18, 'nam...</td>\n",
              "      <td>0</td>\n",
              "      <td>en</td>\n",
              "      <td>8.248895</td>\n",
              "      <td>[{'name': 'Walt Disney Pictures', 'id': 2}]</td>\n",
              "      <td>[{'iso_3166_1': 'US', 'name': 'United States o...</td>\n",
              "      <td>8/6/04</td>\n",
              "      <td>113.0</td>\n",
              "      <td>[{'iso_639_1': 'en', 'name': 'English'}]</td>\n",
              "      <td>Released</td>\n",
              "      <td>60</td>\n",
              "      <td>[{'id': 2505, 'name': 'coronation'}, {'id': 42...</td>\n",
              "      <td>[{'cast_id': 1, 'character': 'Mia Thermopolis'...</td>\n",
              "      <td>[{'credit_id': '52fe43fe9251416c7502563d', 'de...</td>\n",
              "      <td>95149435</td>\n",
              "      <td>40</td>\n",
              "    </tr>\n",
              "    <tr>\n",
              "      <th>2</th>\n",
              "      <td>3</td>\n",
              "      <td>0</td>\n",
              "      <td>3300000</td>\n",
              "      <td>[{'id': 18, 'name': 'Drama'}]</td>\n",
              "      <td>1</td>\n",
              "      <td>en</td>\n",
              "      <td>64.299990</td>\n",
              "      <td>[{'name': 'Bold Films', 'id': 2266}, {'name': ...</td>\n",
              "      <td>[{'iso_3166_1': 'US', 'name': 'United States o...</td>\n",
              "      <td>10/10/14</td>\n",
              "      <td>105.0</td>\n",
              "      <td>[{'iso_639_1': 'en', 'name': 'English'}]</td>\n",
              "      <td>Released</td>\n",
              "      <td>47</td>\n",
              "      <td>[{'id': 1416, 'name': 'jazz'}, {'id': 1523, 'n...</td>\n",
              "      <td>[{'cast_id': 5, 'character': 'Andrew Neimann',...</td>\n",
              "      <td>[{'credit_id': '54d5356ec3a3683ba0000039', 'de...</td>\n",
              "      <td>13092000</td>\n",
              "      <td>8</td>\n",
              "    </tr>\n",
              "    <tr>\n",
              "      <th>3</th>\n",
              "      <td>4</td>\n",
              "      <td>0</td>\n",
              "      <td>1200000</td>\n",
              "      <td>[{'id': 53, 'name': 'Thriller'}, {'id': 18, 'n...</td>\n",
              "      <td>1</td>\n",
              "      <td>hi</td>\n",
              "      <td>3.174936</td>\n",
              "      <td>NaN</td>\n",
              "      <td>[{'iso_3166_1': 'IN', 'name': 'India'}]</td>\n",
              "      <td>3/9/12</td>\n",
              "      <td>122.0</td>\n",
              "      <td>[{'iso_639_1': 'en', 'name': 'English'}, {'iso...</td>\n",
              "      <td>Released</td>\n",
              "      <td>0</td>\n",
              "      <td>[{'id': 10092, 'name': 'mystery'}, {'id': 1054...</td>\n",
              "      <td>[{'cast_id': 1, 'character': 'Vidya Bagchi', '...</td>\n",
              "      <td>[{'credit_id': '52fe48779251416c9108d6eb', 'de...</td>\n",
              "      <td>16000000</td>\n",
              "      <td>7</td>\n",
              "    </tr>\n",
              "    <tr>\n",
              "      <th>4</th>\n",
              "      <td>5</td>\n",
              "      <td>0</td>\n",
              "      <td>0</td>\n",
              "      <td>[{'id': 28, 'name': 'Action'}, {'id': 53, 'nam...</td>\n",
              "      <td>0</td>\n",
              "      <td>ko</td>\n",
              "      <td>1.148070</td>\n",
              "      <td>NaN</td>\n",
              "      <td>[{'iso_3166_1': 'KR', 'name': 'South Korea'}]</td>\n",
              "      <td>2/5/09</td>\n",
              "      <td>118.0</td>\n",
              "      <td>[{'iso_639_1': 'ko', 'name': '한국어/조선말'}]</td>\n",
              "      <td>Released</td>\n",
              "      <td>0</td>\n",
              "      <td>NaN</td>\n",
              "      <td>[{'cast_id': 3, 'character': 'Chun-soo', 'cred...</td>\n",
              "      <td>[{'credit_id': '52fe464b9251416c75073b43', 'de...</td>\n",
              "      <td>3923970</td>\n",
              "      <td>10</td>\n",
              "    </tr>\n",
              "  </tbody>\n",
              "</table>\n",
              "</div>"
            ],
            "text/plain": [
              "   id  belongs_to_collection    budget  \\\n",
              "0   1                      1  14000000   \n",
              "1   2                      1  40000000   \n",
              "2   3                      0   3300000   \n",
              "3   4                      0   1200000   \n",
              "4   5                      0         0   \n",
              "\n",
              "                                              genres  homepage  \\\n",
              "0                     [{'id': 35, 'name': 'Comedy'}]         0   \n",
              "1  [{'id': 35, 'name': 'Comedy'}, {'id': 18, 'nam...         0   \n",
              "2                      [{'id': 18, 'name': 'Drama'}]         1   \n",
              "3  [{'id': 53, 'name': 'Thriller'}, {'id': 18, 'n...         1   \n",
              "4  [{'id': 28, 'name': 'Action'}, {'id': 53, 'nam...         0   \n",
              "\n",
              "  original_language  popularity  \\\n",
              "0                en    6.575393   \n",
              "1                en    8.248895   \n",
              "2                en   64.299990   \n",
              "3                hi    3.174936   \n",
              "4                ko    1.148070   \n",
              "\n",
              "                                production_companies  \\\n",
              "0  [{'name': 'Paramount Pictures', 'id': 4}, {'na...   \n",
              "1        [{'name': 'Walt Disney Pictures', 'id': 2}]   \n",
              "2  [{'name': 'Bold Films', 'id': 2266}, {'name': ...   \n",
              "3                                                NaN   \n",
              "4                                                NaN   \n",
              "\n",
              "                                production_countries release_date  runtime  \\\n",
              "0  [{'iso_3166_1': 'US', 'name': 'United States o...      2/20/15     93.0   \n",
              "1  [{'iso_3166_1': 'US', 'name': 'United States o...       8/6/04    113.0   \n",
              "2  [{'iso_3166_1': 'US', 'name': 'United States o...     10/10/14    105.0   \n",
              "3            [{'iso_3166_1': 'IN', 'name': 'India'}]       3/9/12    122.0   \n",
              "4      [{'iso_3166_1': 'KR', 'name': 'South Korea'}]       2/5/09    118.0   \n",
              "\n",
              "                                    spoken_languages    status  tagline  \\\n",
              "0           [{'iso_639_1': 'en', 'name': 'English'}]  Released       52   \n",
              "1           [{'iso_639_1': 'en', 'name': 'English'}]  Released       60   \n",
              "2           [{'iso_639_1': 'en', 'name': 'English'}]  Released       47   \n",
              "3  [{'iso_639_1': 'en', 'name': 'English'}, {'iso...  Released        0   \n",
              "4           [{'iso_639_1': 'ko', 'name': '한국어/조선말'}]  Released        0   \n",
              "\n",
              "                                            Keywords  \\\n",
              "0  [{'id': 4379, 'name': 'time travel'}, {'id': 9...   \n",
              "1  [{'id': 2505, 'name': 'coronation'}, {'id': 42...   \n",
              "2  [{'id': 1416, 'name': 'jazz'}, {'id': 1523, 'n...   \n",
              "3  [{'id': 10092, 'name': 'mystery'}, {'id': 1054...   \n",
              "4                                                NaN   \n",
              "\n",
              "                                                cast  \\\n",
              "0  [{'cast_id': 4, 'character': 'Lou', 'credit_id...   \n",
              "1  [{'cast_id': 1, 'character': 'Mia Thermopolis'...   \n",
              "2  [{'cast_id': 5, 'character': 'Andrew Neimann',...   \n",
              "3  [{'cast_id': 1, 'character': 'Vidya Bagchi', '...   \n",
              "4  [{'cast_id': 3, 'character': 'Chun-soo', 'cred...   \n",
              "\n",
              "                                                crew   revenue  title_length  \n",
              "0  [{'credit_id': '59ac067c92514107af02c8c8', 'de...  12314651            22  \n",
              "1  [{'credit_id': '52fe43fe9251416c7502563d', 'de...  95149435            40  \n",
              "2  [{'credit_id': '54d5356ec3a3683ba0000039', 'de...  13092000             8  \n",
              "3  [{'credit_id': '52fe48779251416c9108d6eb', 'de...  16000000             7  \n",
              "4  [{'credit_id': '52fe464b9251416c75073b43', 'de...   3923970            10  "
            ]
          },
          "metadata": {
            "tags": []
          },
          "execution_count": 36
        }
      ]
    },
    {
      "metadata": {
        "id": "8WDbjeH3IyXf",
        "colab_type": "code",
        "outputId": "6c5ee6fa-70eb-46ea-8d77-880b827479dc",
        "colab": {
          "base_uri": "https://localhost:8080/",
          "height": 34
        }
      },
      "cell_type": "code",
      "source": [
        "train['genres'][101]"
      ],
      "execution_count": 0,
      "outputs": [
        {
          "output_type": "execute_result",
          "data": {
            "text/plain": [
              "\"[{'id': 18, 'name': 'Drama'}, {'id': 10749, 'name': 'Romance'}]\""
            ]
          },
          "metadata": {
            "tags": []
          },
          "execution_count": 37
        }
      ]
    },
    {
      "metadata": {
        "id": "zvPkJ1sHIyXo",
        "colab_type": "code",
        "outputId": "185ddfc1-77bc-4746-fa25-752b356da329",
        "colab": {
          "base_uri": "https://localhost:8080/",
          "height": 54
        }
      },
      "cell_type": "code",
      "source": [
        "train['production_companies'][201]"
      ],
      "execution_count": 0,
      "outputs": [
        {
          "output_type": "execute_result",
          "data": {
            "text/plain": [
              "\"[{'name': 'De Laurentiis Entertainment Group (DEG)', 'id': 484}, {'name': 'Kestrel Films', 'id': 27023}, {'name': 'Earth Girls', 'id': 78875}]\""
            ]
          },
          "metadata": {
            "tags": []
          },
          "execution_count": 38
        }
      ]
    },
    {
      "metadata": {
        "id": "fK6STJO_IyX5",
        "colab_type": "code",
        "outputId": "cc8b576b-1577-49f8-c40e-61adb3241078",
        "colab": {
          "base_uri": "https://localhost:8080/",
          "height": 34
        }
      },
      "cell_type": "code",
      "source": [
        "train['production_countries'][201]"
      ],
      "execution_count": 0,
      "outputs": [
        {
          "output_type": "execute_result",
          "data": {
            "text/plain": [
              "\"[{'iso_3166_1': 'GB', 'name': 'United Kingdom'}, {'iso_3166_1': 'US', 'name': 'United States of America'}]\""
            ]
          },
          "metadata": {
            "tags": []
          },
          "execution_count": 39
        }
      ]
    },
    {
      "metadata": {
        "id": "A1u3lY89IyYE",
        "colab_type": "code",
        "outputId": "1be152d7-ce79-4970-eca9-c4e4099ec1c0",
        "colab": {
          "base_uri": "https://localhost:8080/",
          "height": 34
        }
      },
      "cell_type": "code",
      "source": [
        "train['spoken_languages'][201]"
      ],
      "execution_count": 0,
      "outputs": [
        {
          "output_type": "execute_result",
          "data": {
            "text/plain": [
              "\"[{'iso_639_1': 'en', 'name': 'English'}]\""
            ]
          },
          "metadata": {
            "tags": []
          },
          "execution_count": 40
        }
      ]
    },
    {
      "metadata": {
        "id": "wdWQLTIJIyYP",
        "colab_type": "code",
        "outputId": "6eaa5b53-7285-4dfb-d9f5-c837c3e37d00",
        "colab": {
          "base_uri": "https://localhost:8080/",
          "height": 54
        }
      },
      "cell_type": "code",
      "source": [
        "train['Keywords'][201]"
      ],
      "execution_count": 0,
      "outputs": [
        {
          "output_type": "execute_result",
          "data": {
            "text/plain": [
              "\"[{'id': 246, 'name': 'dancing'}, {'id': 572, 'name': 'sex'}, {'id': 1566, 'name': 'dream'}, {'id': 4344, 'name': 'musical'}, {'id': 6149, 'name': 'police'}, {'id': 7984, 'name': 'bikini'}, {'id': 8181, 'name': 'swimming pool'}, {'id': 9749, 'name': 'beauty salon'}, {'id': 9799, 'name': 'romantic comedy'}, {'id': 9831, 'name': 'spaceship'}, {'id': 9840, 'name': 'romance'}, {'id': 9951, 'name': 'alien'}, {'id': 11128, 'name': 'furry'}, {'id': 11612, 'name': 'hospital'}, {'id': 34130, 'name': 'makeover'}, {'id': 163957, 'name': 'nosy neighbor'}, {'id': 177299, 'name': 'discotheque'}, {'id': 177303, 'name': 'valley girl'}]\""
            ]
          },
          "metadata": {
            "tags": []
          },
          "execution_count": 41
        }
      ]
    },
    {
      "metadata": {
        "id": "e5nfWACmIyYZ",
        "colab_type": "code",
        "outputId": "783a5b91-c015-44db-a194-cdacf3ecc89c",
        "colab": {
          "base_uri": "https://localhost:8080/",
          "height": 54
        }
      },
      "cell_type": "code",
      "source": [
        "train['cast'][201]"
      ],
      "execution_count": 0,
      "outputs": [
        {
          "output_type": "execute_result",
          "data": {
            "text/plain": [
              "'[{\\'cast_id\\': 9, \\'character\\': \\'Valerie\\', \\'credit_id\\': \\'52fe4341c3a36847f804639b\\', \\'gender\\': 1, \\'id\\': 16935, \\'name\\': \\'Geena Davis\\', \\'order\\': 0, \\'profile_path\\': \\'/6b8cRJOItz7yNpYuLCPkl5kv4m2.jpg\\'}, {\\'cast_id\\': 10, \\'character\\': \\'Mac\\', \\'credit_id\\': \\'52fe4341c3a36847f804639f\\', \\'gender\\': 2, \\'id\\': 4785, \\'name\\': \\'Jeff Goldblum\\', \\'order\\': 1, \\'profile_path\\': \\'/w9frUiRJUyRnWvFqihtS31q6LWc.jpg\\'}, {\\'cast_id\\': 11, \\'character\\': \\'Zeebo\\', \\'credit_id\\': \\'52fe4341c3a36847f80463a3\\', \\'gender\\': 2, \\'id\\': 22675, \\'name\\': \\'Damon Wayans\\', \\'order\\': 3, \\'profile_path\\': \\'/pdSOalf1r7GKlcUhpKeBntAqgA6.jpg\\'}, {\\'cast_id\\': 17, \\'character\\': \\'Cindy\\', \\'credit_id\\': \\'52fe4341c3a36847f80463b9\\', \\'gender\\': 1, \\'id\\': 40680, \\'name\\': \\'Julie Brown\\', \\'order\\': 4, \\'profile_path\\': \\'/8a1NwjIyjOWmYTqdj4fuxqKlzR5.jpg\\'}, {\\'cast_id\\': 13, \\'character\\': \\'Woody\\', \\'credit_id\\': \\'52fe4341c3a36847f80463a7\\', \\'gender\\': 2, \\'id\\': 21731, \\'name\\': \\'Michael McKean\\', \\'order\\': 5, \\'profile_path\\': \\'/iVcsvBb15nep7TZ07MlJFcxMzvD.jpg\\'}, {\\'cast_id\\': 20, \\'character\\': \\'Ted\\', \\'credit_id\\': \\'573c4bfac3a3687dbf000f71\\', \\'gender\\': 2, \\'id\\': 7867, \\'name\\': \\'Charles Rocket\\', \\'order\\': 6, \\'profile_path\\': \\'/9UJTYqaPaYNPuVTjGd0Cr4XVNqe.jpg\\'}, {\\'cast_id\\': 21, \\'character\\': \\'Dr. Bob\\', \\'credit_id\\': \\'573c4c159251417a2c000e79\\', \\'gender\\': 2, \\'id\\': 55431, \\'name\\': \\'Larry Linville\\', \\'order\\': 7, \\'profile_path\\': \\'/lQwGDXuk44TNEJjJayIqXpPcElB.jpg\\'}, {\\'cast_id\\': 22, \\'character\\': \\'Dr. Rick\\', \\'credit_id\\': \\'573c4c27c3a3687d8b000f5e\\', \\'gender\\': 2, \\'id\\': 1539, \\'name\\': \\'Rick Overton\\', \\'order\\': 8, \\'profile_path\\': \\'/584g2eLl6ZmZ71ikvGw5tyqEv1p.jpg\\'}, {\\'cast_id\\': 26, \\'character\\': \\'Robin\\', \\'credit_id\\': \\'573c510d9251416a8c001010\\', \\'gender\\': 1, \\'id\\': 157470, \\'name\\': \\'Diane Stilwell\\', \\'order\\': 9, \\'profile_path\\': \\'/jHSe49OuTyUfLBlXYdgvKitQl2u.jpg\\'}, {\\'cast_id\\': 27, \\'character\\': \\'Mrs. Merkin\\', \\'credit_id\\': \\'577aa5b8925141743e001097\\', \\'gender\\': 1, \\'id\\': 112936, \\'name\\': \\'Juney Ellis\\', \\'order\\': 10, \\'profile_path\\': None}, {\\'cast_id\\': 28, \\'character\\': \\'Ramon\\', \\'credit_id\\': \\'577aa5f8c3a36820080013f3\\', \\'gender\\': 0, \\'id\\': 45401, \\'name\\': \\'Felix Montano\\', \\'order\\': 11, \\'profile_path\\': None}, {\\'cast_id\\': 29, \\'character\\': \\'Joe the Cop\\', \\'credit_id\\': \\'577aa668c3a368204f00134b\\', \\'gender\\': 2, \\'id\\': 1215961, \\'name\\': \\'Rick Hurst\\', \\'order\\': 12, \\'profile_path\\': \\'/8zmntJrhLrFFRnkG056eQtXqlFN.jpg\\'}, {\\'cast_id\\': 30, \\'character\\': \\'Mike the Cop\\', \\'credit_id\\': \\'577aa68cc3a36820fe00130c\\', \\'gender\\': 0, \\'id\\': 1377933, \\'name\\': \\'Leslie Morris\\', \\'order\\': 13, \\'profile_path\\': None}, {\\'cast_id\\': 25, \\'character\\': \\'Kikki\\', \\'credit_id\\': \\'573c4dab92514168e1000f93\\', \\'gender\\': 1, \\'id\\': 94498, \\'name\\': \\'Lisa Fuller\\', \\'order\\': 14, \\'profile_path\\': \\'/ycCYR6WTT02FM7TWlnly2euaUuP.jpg\\'}, {\\'cast_id\\': 16, \\'character\\': \\'Tammy\\', \\'credit_id\\': \\'52fe4341c3a36847f80463b5\\', \\'gender\\': 1, \\'id\\': 31714, \\'name\\': \\'Stacey Travis\\', \\'order\\': 15, \\'profile_path\\': \\'/peARleY7mDjxph4fFfeWnV4LMFe.jpg\\'}, {\\'cast_id\\': 19, \\'character\\': \\'Gas Girl\\', \\'credit_id\\': \\'572ec3d3c3a3684bd3002374\\', \\'gender\\': 0, \\'id\\': 44706, \\'name\\': \\'Angelyne\\', \\'order\\': 16, \\'profile_path\\': None}, {\\'cast_id\\': 23, \\'character\\': \\'Bryan\\', \\'credit_id\\': \\'573c4c74c3a36855cd000652\\', \\'gender\\': 2, \\'id\\': 1621813, \\'name\\': \\'Jake Jundef\\', \\'order\\': 17, \\'profile_path\\': \\'/4Lg1bdbzZ4DFc1dtIAP8gQcrgFa.jpg\\'}, {\\'cast_id\\': 24, \\'character\\': \"Bryan\\'s Mother\", \\'credit_id\\': \\'573c4d4fc3a3687dbf000fb5\\', \\'gender\\': 1, \\'id\\': 156617, \\'name\\': \\'Susan Krebs\\', \\'order\\': 18, \\'profile_path\\': \\'/bmMA8XShMcolpmNTtWIEaYBbX7L.jpg\\'}, {\\'cast_id\\': 39, \\'character\\': \\'Curl Up and Dye Dancer\\', \\'credit_id\\': \\'58df4505c3a3683d2a0048c4\\', \\'gender\\': 1, \\'id\\': 1787560, \\'name\\': \\'Larri Thomas\\', \\'order\\': 19, \\'profile_path\\': \\'/gzVGA3VB6Zi0ZWZc4AhAdvHTjS9.jpg\\'}, {\\'cast_id\\': 40, \\'character\\': \\'Demone\\', \\'credit_id\\': \\'59d12e08925141468f01b3be\\', \\'gender\\': 2, \\'id\\': 96402, \\'name\\': \"Wayne \\'Crescendo\\' Ward\", \\'order\\': 20, \\'profile_path\\': \\'/hNRyq50AKMBIMYL2ZSWMomMq58i.jpg\\'}, {\\'cast_id\\': 41, \\'character\\': \\'\\', \\'credit_id\\': \\'59e392f99251410b6700031a\\', \\'gender\\': 2, \\'id\\': 206, \\'name\\': \\'Jim Carrey\\', \\'order\\': 21, \\'profile_path\\': \\'/5tVf0ow8MX4OwjmVoSa5v7qUDka.jpg\\'}]'"
            ]
          },
          "metadata": {
            "tags": []
          },
          "execution_count": 42
        }
      ]
    },
    {
      "metadata": {
        "id": "Da2UguyhIyYr",
        "colab_type": "code",
        "outputId": "e817d19a-8fdb-4c2d-efe4-eeb75e0c6334",
        "colab": {
          "base_uri": "https://localhost:8080/",
          "height": 54
        }
      },
      "cell_type": "code",
      "source": [
        "train['crew'][201]"
      ],
      "execution_count": 0,
      "outputs": [
        {
          "output_type": "execute_result",
          "data": {
            "text/plain": [
              "\"[{'credit_id': '577ae729c3a36824260008e9', 'department': 'Art', 'gender': 2, 'id': 4248, 'job': 'Production Design', 'name': 'Dennis Gassner', 'profile_path': None}, {'credit_id': '577ae706c3a3682433000943', 'department': 'Editing', 'gender': 2, 'id': 1918, 'job': 'Editor', 'name': 'Richard Halsey', 'profile_path': None}, {'credit_id': '52fe4341c3a36847f8046391', 'department': 'Sound', 'gender': 2, 'id': 4613, 'job': 'Original Music Composer', 'name': 'Nile Rodgers', 'profile_path': '/bD5bQNACHNhIey4EwixVQIyHQwk.jpg'}, {'credit_id': '577ae6e79251415aed00094b', 'department': 'Production', 'gender': 2, 'id': 6870, 'job': 'Line Producer', 'name': 'Duncan Henderson', 'profile_path': None}, {'credit_id': '577ae690c3a368242e00093b', 'department': 'Writing', 'gender': 1, 'id': 40680, 'job': 'Writer', 'name': 'Julie Brown', 'profile_path': '/8a1NwjIyjOWmYTqdj4fuxqKlzR5.jpg'}, {'credit_id': '52fe4341c3a36847f80463b1', 'department': 'Production', 'gender': 0, 'id': 12847, 'job': 'Casting', 'name': 'Wallis Nicita', 'profile_path': None}, {'credit_id': '52fe4341c3a36847f8046397', 'department': 'Camera', 'gender': 2, 'id': 16425, 'job': 'Director of Photography', 'name': 'Oliver Stapleton', 'profile_path': None}, {'credit_id': '52fe4341c3a36847f804638b', 'department': 'Production', 'gender': 2, 'id': 21841, 'job': 'Producer', 'name': 'Tony Garnett', 'profile_path': '/f94R5eMigA3QMjlSvX5t6Ayl8Sf.jpg'}, {'credit_id': '52fe4341c3a36847f8046379', 'department': 'Directing', 'gender': 2, 'id': 22669, 'job': 'Director', 'name': 'Julien Temple', 'profile_path': '/ktxBwnWZHwbKuMngxwY3MyRotDR.jpg'}, {'credit_id': '577ae660c3a36824210009f8', 'department': 'Writing', 'gender': 2, 'id': 22672, 'job': 'Writer', 'name': 'Terrence E. McNally', 'profile_path': None}, {'credit_id': '577ae6cb9251415aed00093d', 'department': 'Production', 'gender': 2, 'id': 22672, 'job': 'Associate Producer', 'name': 'Terrence E. McNally', 'profile_path': None}, {'credit_id': '577ae6749251415b000008da', 'department': 'Writing', 'gender': 0, 'id': 22671, 'job': 'Writer', 'name': 'Charlie Coffey', 'profile_path': None}, {'credit_id': '577ae742c3a3682423000957', 'department': 'Art', 'gender': 0, 'id': 1299406, 'job': 'Art Direction', 'name': 'Dins W.W. Danielsen', 'profile_path': None}]\""
            ]
          },
          "metadata": {
            "tags": []
          },
          "execution_count": 43
        }
      ]
    },
    {
      "metadata": {
        "id": "GIQ9a5HnIyZK",
        "colab_type": "text"
      },
      "cell_type": "markdown",
      "source": [
        "### One hot encoding status column"
      ]
    },
    {
      "metadata": {
        "id": "Xl03NGvgIyZM",
        "colab_type": "code",
        "outputId": "33dc3286-872a-46e3-a65d-e37116160c3c",
        "colab": {
          "base_uri": "https://localhost:8080/",
          "height": 69
        }
      },
      "cell_type": "code",
      "source": [
        "train['status'].value_counts()"
      ],
      "execution_count": 0,
      "outputs": [
        {
          "output_type": "execute_result",
          "data": {
            "text/plain": [
              "Released    2996\n",
              "Rumored        4\n",
              "Name: status, dtype: int64"
            ]
          },
          "metadata": {
            "tags": []
          },
          "execution_count": 44
        }
      ]
    },
    {
      "metadata": {
        "id": "1rPdgprRIyZX",
        "colab_type": "code",
        "outputId": "6dc97b1a-ec42-4a0b-ac78-20e704561d54",
        "colab": {
          "base_uri": "https://localhost:8080/",
          "height": 86
        }
      },
      "cell_type": "code",
      "source": [
        "test['status'].value_counts()"
      ],
      "execution_count": 0,
      "outputs": [
        {
          "output_type": "execute_result",
          "data": {
            "text/plain": [
              "Released           4389\n",
              "Post Production       5\n",
              "Rumored               2\n",
              "Name: status, dtype: int64"
            ]
          },
          "metadata": {
            "tags": []
          },
          "execution_count": 45
        }
      ]
    },
    {
      "metadata": {
        "id": "LxYJxfPLIyZi",
        "colab_type": "code",
        "colab": {}
      },
      "cell_type": "code",
      "source": [
        "train['status'].fillna('Released',inplace=True)\n",
        "test['status'].fillna('Released',inplace=True)"
      ],
      "execution_count": 0,
      "outputs": []
    },
    {
      "metadata": {
        "scrolled": true,
        "id": "3a_9ze5lIyZt",
        "colab_type": "code",
        "outputId": "35805d08-71d4-4270-8caa-c19860c1ed42",
        "colab": {
          "base_uri": "https://localhost:8080/",
          "height": 363
        }
      },
      "cell_type": "code",
      "source": [
        "print(train.isnull().sum())"
      ],
      "execution_count": 0,
      "outputs": [
        {
          "output_type": "stream",
          "text": [
            "id                         0\n",
            "belongs_to_collection      0\n",
            "budget                     0\n",
            "genres                     7\n",
            "homepage                   0\n",
            "original_language          0\n",
            "popularity                 0\n",
            "production_companies     156\n",
            "production_countries      55\n",
            "release_date               0\n",
            "runtime                    2\n",
            "spoken_languages          20\n",
            "status                     0\n",
            "tagline                    0\n",
            "Keywords                 276\n",
            "cast                      13\n",
            "crew                      16\n",
            "revenue                    0\n",
            "title_length               0\n",
            "dtype: int64\n"
          ],
          "name": "stdout"
        }
      ]
    },
    {
      "metadata": {
        "id": "QR_M1Nq6IyZ5",
        "colab_type": "code",
        "colab": {}
      },
      "cell_type": "code",
      "source": [
        "total_unique_values=['Released','Rumored','Post Production']"
      ],
      "execution_count": 0,
      "outputs": []
    },
    {
      "metadata": {
        "id": "wflsZrqGIyZ_",
        "colab_type": "code",
        "colab": {}
      },
      "cell_type": "code",
      "source": [
        "for val in total_unique_values:\n",
        "    train['status_'+val] = train['status'].apply(lambda x: 1 if val == x else 0)"
      ],
      "execution_count": 0,
      "outputs": []
    },
    {
      "metadata": {
        "id": "1YvmX2_fIyaX",
        "colab_type": "code",
        "colab": {}
      },
      "cell_type": "code",
      "source": [
        "for val in total_unique_values:\n",
        "    test['status_'+val] = test['status'].apply(lambda x: 1 if val == x else 0)"
      ],
      "execution_count": 0,
      "outputs": []
    },
    {
      "metadata": {
        "id": "UfYaIFq-hsOf",
        "colab_type": "code",
        "colab": {}
      },
      "cell_type": "code",
      "source": [
        "train.drop(['status'],axis=1,inplace=True)\n",
        "test.drop(['status'],axis=1,inplace=True)"
      ],
      "execution_count": 0,
      "outputs": []
    },
    {
      "metadata": {
        "id": "ryHE19JEIyaq",
        "colab_type": "code",
        "outputId": "7e4141b8-4093-40d3-fd65-df06f8577343",
        "colab": {
          "base_uri": "https://localhost:8080/",
          "height": 121
        }
      },
      "cell_type": "code",
      "source": [
        "train.columns"
      ],
      "execution_count": 0,
      "outputs": [
        {
          "output_type": "execute_result",
          "data": {
            "text/plain": [
              "Index(['id', 'belongs_to_collection', 'budget', 'genres', 'homepage',\n",
              "       'original_language', 'popularity', 'production_companies',\n",
              "       'production_countries', 'release_date', 'runtime', 'spoken_languages',\n",
              "       'tagline', 'Keywords', 'cast', 'crew', 'revenue', 'title_length',\n",
              "       'status_Released', 'status_Rumored', 'status_Post Production'],\n",
              "      dtype='object')"
            ]
          },
          "metadata": {
            "tags": []
          },
          "execution_count": 52
        }
      ]
    },
    {
      "metadata": {
        "id": "bmcxjgmmIya4",
        "colab_type": "text"
      },
      "cell_type": "markdown",
      "source": [
        "### One hot encoding original_language column"
      ]
    },
    {
      "metadata": {
        "id": "SvDuZ95OIya6",
        "colab_type": "code",
        "outputId": "4a9808b8-84fe-4e7f-fe53-1c2fd1a2cb98",
        "colab": {
          "base_uri": "https://localhost:8080/",
          "height": 34
        }
      },
      "cell_type": "code",
      "source": [
        "total_lang=list(train['original_language'])\n",
        "len(total_lang)"
      ],
      "execution_count": 0,
      "outputs": [
        {
          "output_type": "execute_result",
          "data": {
            "text/plain": [
              "3000"
            ]
          },
          "metadata": {
            "tags": []
          },
          "execution_count": 53
        }
      ]
    },
    {
      "metadata": {
        "id": "scnuI4FBIybA",
        "colab_type": "code",
        "outputId": "85d41d47-ed1c-4db8-faef-3fdf526d9fd7",
        "colab": {
          "base_uri": "https://localhost:8080/",
          "height": 34
        }
      },
      "cell_type": "code",
      "source": [
        "total_lang+=list(test['original_language'])\n",
        "len(total_lang)"
      ],
      "execution_count": 0,
      "outputs": [
        {
          "output_type": "execute_result",
          "data": {
            "text/plain": [
              "7398"
            ]
          },
          "metadata": {
            "tags": []
          },
          "execution_count": 54
        }
      ]
    },
    {
      "metadata": {
        "id": "hNSRV2ZiIybN",
        "colab_type": "code",
        "colab": {}
      },
      "cell_type": "code",
      "source": [
        "top_values = [m[0] for m in Counter([j for j in total_lang]).most_common(20)]"
      ],
      "execution_count": 0,
      "outputs": []
    },
    {
      "metadata": {
        "id": "qM0PxH7A5P10",
        "colab_type": "code",
        "outputId": "0bc2f2d4-844d-4c19-fcec-5e702ed2bc3d",
        "colab": {
          "base_uri": "https://localhost:8080/",
          "height": 363
        }
      },
      "cell_type": "code",
      "source": [
        "top_values\n",
        "# we can divide it"
      ],
      "execution_count": 0,
      "outputs": [
        {
          "output_type": "execute_result",
          "data": {
            "text/plain": [
              "['en',\n",
              " 'fr',\n",
              " 'hi',\n",
              " 'ru',\n",
              " 'es',\n",
              " 'ja',\n",
              " 'it',\n",
              " 'ko',\n",
              " 'de',\n",
              " 'zh',\n",
              " 'cn',\n",
              " 'ta',\n",
              " 'sv',\n",
              " 'da',\n",
              " 'pt',\n",
              " 'ml',\n",
              " 'nl',\n",
              " 'tr',\n",
              " 'te',\n",
              " 'ro']"
            ]
          },
          "metadata": {
            "tags": []
          },
          "execution_count": 56
        }
      ]
    },
    {
      "metadata": {
        "id": "8f9LvEsL5PzW",
        "colab_type": "code",
        "colab": {}
      },
      "cell_type": "code",
      "source": [
        "dat={'lan':[],'rev':[]}\n",
        "\n",
        "for i in range(train.shape[0]):\n",
        "    (lan,rev)=train.iloc[i][['original_language','revenue']]\n",
        "    if lan in top_values:\n",
        "        #print(lan,rev)\n",
        "        dat['lan'].append(lan)\n",
        "        dat['rev'].append(rev)\n",
        "        \n",
        "rev_top_lang=pd.DataFrame(data=dat)"
      ],
      "execution_count": 0,
      "outputs": []
    },
    {
      "metadata": {
        "id": "wyjpe0VzKvX_",
        "colab_type": "code",
        "outputId": "90673837-ffbb-4239-d43d-3404f554624c",
        "colab": {
          "base_uri": "https://localhost:8080/",
          "height": 128
        }
      },
      "cell_type": "code",
      "source": [
        "rev_top_lang.head(20).T"
      ],
      "execution_count": 0,
      "outputs": [
        {
          "output_type": "execute_result",
          "data": {
            "text/html": [
              "<div>\n",
              "<style scoped>\n",
              "    .dataframe tbody tr th:only-of-type {\n",
              "        vertical-align: middle;\n",
              "    }\n",
              "\n",
              "    .dataframe tbody tr th {\n",
              "        vertical-align: top;\n",
              "    }\n",
              "\n",
              "    .dataframe thead th {\n",
              "        text-align: right;\n",
              "    }\n",
              "</style>\n",
              "<table border=\"1\" class=\"dataframe\">\n",
              "  <thead>\n",
              "    <tr style=\"text-align: right;\">\n",
              "      <th></th>\n",
              "      <th>0</th>\n",
              "      <th>1</th>\n",
              "      <th>2</th>\n",
              "      <th>3</th>\n",
              "      <th>4</th>\n",
              "      <th>5</th>\n",
              "      <th>6</th>\n",
              "      <th>7</th>\n",
              "      <th>8</th>\n",
              "      <th>9</th>\n",
              "      <th>10</th>\n",
              "      <th>11</th>\n",
              "      <th>12</th>\n",
              "      <th>13</th>\n",
              "      <th>14</th>\n",
              "      <th>15</th>\n",
              "      <th>16</th>\n",
              "      <th>17</th>\n",
              "      <th>18</th>\n",
              "      <th>19</th>\n",
              "    </tr>\n",
              "  </thead>\n",
              "  <tbody>\n",
              "    <tr>\n",
              "      <th>lan</th>\n",
              "      <td>en</td>\n",
              "      <td>en</td>\n",
              "      <td>en</td>\n",
              "      <td>hi</td>\n",
              "      <td>ko</td>\n",
              "      <td>en</td>\n",
              "      <td>en</td>\n",
              "      <td>en</td>\n",
              "      <td>en</td>\n",
              "      <td>en</td>\n",
              "      <td>en</td>\n",
              "      <td>en</td>\n",
              "      <td>en</td>\n",
              "      <td>en</td>\n",
              "      <td>en</td>\n",
              "      <td>en</td>\n",
              "      <td>en</td>\n",
              "      <td>en</td>\n",
              "      <td>en</td>\n",
              "      <td>en</td>\n",
              "    </tr>\n",
              "    <tr>\n",
              "      <th>rev</th>\n",
              "      <td>12314651</td>\n",
              "      <td>95149435</td>\n",
              "      <td>13092000</td>\n",
              "      <td>16000000</td>\n",
              "      <td>3923970</td>\n",
              "      <td>3261638</td>\n",
              "      <td>85446075</td>\n",
              "      <td>2586511</td>\n",
              "      <td>34327391</td>\n",
              "      <td>18750246</td>\n",
              "      <td>117235147</td>\n",
              "      <td>22642033</td>\n",
              "      <td>356296601</td>\n",
              "      <td>95226116</td>\n",
              "      <td>358372926</td>\n",
              "      <td>57891803</td>\n",
              "      <td>1234254</td>\n",
              "      <td>1749457</td>\n",
              "      <td>85167639</td>\n",
              "      <td>136159423</td>\n",
              "    </tr>\n",
              "  </tbody>\n",
              "</table>\n",
              "</div>"
            ],
            "text/plain": [
              "           0         1         2         3        4        5         6   \\\n",
              "lan        en        en        en        hi       ko       en        en   \n",
              "rev  12314651  95149435  13092000  16000000  3923970  3261638  85446075   \n",
              "\n",
              "          7         8         9          10        11         12        13  \\\n",
              "lan       en        en        en         en        en         en        en   \n",
              "rev  2586511  34327391  18750246  117235147  22642033  356296601  95226116   \n",
              "\n",
              "            14        15       16       17        18         19  \n",
              "lan         en        en       en       en        en         en  \n",
              "rev  358372926  57891803  1234254  1749457  85167639  136159423  "
            ]
          },
          "metadata": {
            "tags": []
          },
          "execution_count": 58
        }
      ]
    },
    {
      "metadata": {
        "id": "yciHuw7N5PwY",
        "colab_type": "code",
        "outputId": "5d5c32ea-f8da-4c3b-ab23-52368b646e90",
        "colab": {
          "base_uri": "https://localhost:8080/",
          "height": 290
        }
      },
      "cell_type": "code",
      "source": [
        "ax = sns.scatterplot(x=\"lan\", y=\"rev\",data=rev_top_lang)"
      ],
      "execution_count": 0,
      "outputs": [
        {
          "output_type": "display_data",
          "data": {
            "image/png": "[encoded data removed]",
            "text/plain": [
              "<Figure size 432x288 with 1 Axes>"
            ]
          },
          "metadata": {
            "tags": []
          }
        }
      ]
    },
    {
      "metadata": {
        "id": "tiRrAiB6IybY",
        "colab_type": "code",
        "colab": {}
      },
      "cell_type": "code",
      "source": [
        "train['orig_lang_en'] = train['original_language'].apply(lambda x: 1 if x == 'en' else 0)\n",
        "\n",
        "train['orig_lang_fr_hi_ru_es_ja'] = train['original_language'].apply(lambda x: 1 if x == 'fr' or x == 'hi' or x == 'ru' or x == 'es' or x == 'ja' else 0)\n",
        "\n",
        "train['orig_lang_it_ko_de_zh_cn'] = train['original_language'].apply(lambda x: 1 if x == 'it' or x == 'ko' or x == 'de' or x == 'zh' or x == 'cn' else 0)\n",
        "\n",
        "train['orig_lang_smallind'] = train['original_language'].apply(lambda x: 1 if x!='en' and x!='it' and x!='ko' and x!='de' and x!='zh' and x!='cn' and  x!='fr' and x!='hi' and x!='ru' and x!='es' and x!='ja' else 0)"
      ],
      "execution_count": 0,
      "outputs": []
    },
    {
      "metadata": {
        "id": "C4mh0XMzZJUW",
        "colab_type": "code",
        "colab": {}
      },
      "cell_type": "code",
      "source": [
        "test['orig_lang_en'] = test['original_language'].apply(lambda x: 1 if x == 'en' else 0)\n",
        "test['orig_lang_fr_hi_ru_es_ja'] = test['original_language'].apply(lambda x: 1 if x == 'fr' or x == 'hi' or x == 'ru' or x == 'es' or x == 'ja' else 0)\n",
        "test['orig_lang_it_ko_de_zh_cn'] = test['original_language'].apply(lambda x: 1 if x == 'it' or x == 'ko' or x == 'de' or x == 'zh' or x == 'cn' else 0)\n",
        "test['orig_lang_smallind'] = test['original_language'].apply(lambda x: 1 if x!='en' and x!='it' and x!='ko' and x!='de' and x!='zh' and x!='cn' and  x!='fr' and x!='hi' and x!='ru' and x!='es' and x!='ja' else 0)"
      ],
      "execution_count": 0,
      "outputs": []
    },
    {
      "metadata": {
        "id": "kEJ5I_XPI_Gl",
        "colab_type": "code",
        "colab": {}
      },
      "cell_type": "code",
      "source": [
        "train.drop(['original_language'],axis=1,inplace=True)\n",
        "test.drop(['original_language'],axis=1,inplace=True)"
      ],
      "execution_count": 0,
      "outputs": []
    },
    {
      "metadata": {
        "id": "lL-99lULIybd",
        "colab_type": "code",
        "outputId": "9e2138c6-3b8a-4391-cfd3-960a4f6512a4",
        "colab": {
          "base_uri": "https://localhost:8080/",
          "height": 155
        }
      },
      "cell_type": "code",
      "source": [
        "print(train.columns)"
      ],
      "execution_count": 0,
      "outputs": [
        {
          "output_type": "stream",
          "text": [
            "Index(['id', 'belongs_to_collection', 'budget', 'genres', 'homepage',\n",
            "       'popularity', 'production_companies', 'production_countries',\n",
            "       'release_date', 'runtime', 'spoken_languages', 'tagline', 'Keywords',\n",
            "       'cast', 'crew', 'revenue', 'title_length', 'status_Released',\n",
            "       'status_Rumored', 'status_Post Production', 'orig_lang_en',\n",
            "       'orig_lang_fr_hi_ru_es_ja', 'orig_lang_it_ko_de_zh_cn',\n",
            "       'orig_lang_smallind'],\n",
            "      dtype='object')\n"
          ],
          "name": "stdout"
        }
      ]
    },
    {
      "metadata": {
        "id": "iv6TJ76aIybg",
        "colab_type": "text"
      },
      "cell_type": "markdown",
      "source": [
        "### feature engineering release_date column"
      ]
    },
    {
      "metadata": {
        "id": "fj0U1Xi5Iybh",
        "colab_type": "code",
        "outputId": "80a3935b-487c-4869-a432-8d6d06743750",
        "colab": {
          "base_uri": "https://localhost:8080/",
          "height": 104
        }
      },
      "cell_type": "code",
      "source": [
        "train['release_date'].describe()"
      ],
      "execution_count": 0,
      "outputs": [
        {
          "output_type": "execute_result",
          "data": {
            "text/plain": [
              "count        3000\n",
              "unique       2398\n",
              "top       9/10/15\n",
              "freq            5\n",
              "Name: release_date, dtype: object"
            ]
          },
          "metadata": {
            "tags": []
          },
          "execution_count": 64
        }
      ]
    },
    {
      "metadata": {
        "id": "Iyh02a2BIybm",
        "colab_type": "code",
        "colab": {}
      },
      "cell_type": "code",
      "source": [
        "#as year is in yy format we have to handle movies after 20xx.So this method will help to add century to year\n",
        "def clean_date(date):\n",
        "    year = date.split('/')[2]\n",
        "    if int(year) <= 19:\n",
        "        return date[:-2] + '20' + year\n",
        "    else:\n",
        "        return date[:-2] + '19' + year"
      ],
      "execution_count": 0,
      "outputs": []
    },
    {
      "metadata": {
        "id": "Rug3l67XIybq",
        "colab_type": "code",
        "outputId": "4f43e8ee-2ad2-4883-9cf9-53bbe153fd0b",
        "colab": {
          "base_uri": "https://localhost:8080/",
          "height": 52
        }
      },
      "cell_type": "code",
      "source": [
        "#There is one null value in test set\n",
        "test.loc[test['release_date'].isnull() == True]['id']"
      ],
      "execution_count": 0,
      "outputs": [
        {
          "output_type": "execute_result",
          "data": {
            "text/plain": [
              "828    3829\n",
              "Name: id, dtype: int64"
            ]
          },
          "metadata": {
            "tags": []
          },
          "execution_count": 66
        }
      ]
    },
    {
      "metadata": {
        "id": "AR0EPE2TIybw",
        "colab_type": "code",
        "colab": {}
      },
      "cell_type": "code",
      "source": [
        "# when found on the internet it is released on 05/01/00 in 2000\n",
        "test.loc[test['release_date'].isnull() == True, 'release_date'] = '05/01/00'"
      ],
      "execution_count": 0,
      "outputs": []
    },
    {
      "metadata": {
        "id": "ripzKzFFIyb0",
        "colab_type": "code",
        "colab": {}
      },
      "cell_type": "code",
      "source": [
        "train['release_date'] = train['release_date'].apply(lambda x:clean_date(x))\n",
        "test['release_date'] = test['release_date'].apply(lambda x:clean_date(x))\n",
        "train['release_date'] = pd.to_datetime(train['release_date'])\n",
        "test['release_date'] = pd.to_datetime(test['release_date'])"
      ],
      "execution_count": 0,
      "outputs": []
    },
    {
      "metadata": {
        "id": "eR1oVbsHIyb5",
        "colab_type": "code",
        "colab": {}
      },
      "cell_type": "code",
      "source": [
        "#get time period features from date value\n",
        "def date_features(dataset):\n",
        "    \n",
        "    date_sections = [\"year\", \"weekday\", \"month\"]\n",
        "    for sec in date_sections:\n",
        "        section_col = 'release_date' + \"_\" + sec\n",
        "        if sec == \"year\":\n",
        "            dataset[\"release_date_years_passed\"] = 2019-getattr(dataset['release_date'].dt, sec).astype(int)\n",
        "        else:\n",
        "            dataset[section_col] = getattr(dataset['release_date'].dt, sec).astype(int)\n",
        "    return dataset\n"
      ],
      "execution_count": 0,
      "outputs": []
    },
    {
      "metadata": {
        "id": "87VKSSeJIyb8",
        "colab_type": "code",
        "colab": {}
      },
      "cell_type": "code",
      "source": [
        "train = date_features(train)\n",
        "test = date_features(test)"
      ],
      "execution_count": 0,
      "outputs": []
    },
    {
      "metadata": {
        "id": "13S6ypfkd7VV",
        "colab_type": "code",
        "colab": {}
      },
      "cell_type": "code",
      "source": [
        "# dummy month\n",
        "dummies = pd.get_dummies(train['release_date_month'] ,drop_first=True).rename(columns=lambda x: 'month' + str(x))\n",
        "dummies2 = pd.get_dummies(test['release_date_month'] ,drop_first=True).rename(columns=lambda x: 'month' + str(int(x)))\n",
        "train = pd.concat([train, dummies], axis=1)\n",
        "test = pd.concat([test, dummies2], axis = 1)"
      ],
      "execution_count": 0,
      "outputs": []
    },
    {
      "metadata": {
        "id": "8pugSH-gd9AU",
        "colab_type": "code",
        "colab": {}
      },
      "cell_type": "code",
      "source": [
        "#dummy day of week\n",
        "ddow = pd.get_dummies(train['release_date_weekday'] ,drop_first=True).rename(columns=lambda x: 'weekday' + str(x))\n",
        "ddow2 = pd.get_dummies(test['release_date_weekday'] ,drop_first=True).rename(columns=lambda x: 'weekday' + str(int(x)))\n",
        "train = pd.concat([train, ddow], axis=1)\n",
        "test = pd.concat([test, ddow2], axis = 1)"
      ],
      "execution_count": 0,
      "outputs": []
    },
    {
      "metadata": {
        "id": "GaY4N3Tpevw4",
        "colab_type": "code",
        "colab": {}
      },
      "cell_type": "code",
      "source": [
        "train.drop(['release_date'],axis=1,inplace=True)\n",
        "test.drop(['release_date'],axis=1,inplace=True)\n",
        "train.drop(['release_date_weekday'],axis=1,inplace=True)\n",
        "test.drop(['release_date_weekday'],axis=1,inplace=True)\n",
        "train.drop(['release_date_month'],axis=1,inplace=True)\n",
        "test.drop(['release_date_month'],axis=1,inplace=True)"
      ],
      "execution_count": 0,
      "outputs": []
    },
    {
      "metadata": {
        "id": "JXIbBVxVevN-",
        "colab_type": "code",
        "outputId": "68ee66a0-88df-4fc9-fe3e-03b482222a7d",
        "colab": {
          "base_uri": "https://localhost:8080/",
          "height": 190
        }
      },
      "cell_type": "code",
      "source": [
        "train.columns"
      ],
      "execution_count": 0,
      "outputs": [
        {
          "output_type": "execute_result",
          "data": {
            "text/plain": [
              "Index(['id', 'belongs_to_collection', 'budget', 'genres', 'homepage',\n",
              "       'popularity', 'production_companies', 'production_countries', 'runtime',\n",
              "       'spoken_languages', 'tagline', 'Keywords', 'cast', 'crew', 'revenue',\n",
              "       'title_length', 'status_Released', 'status_Rumored',\n",
              "       'status_Post Production', 'orig_lang_en', 'orig_lang_fr_hi_ru_es_ja',\n",
              "       'orig_lang_it_ko_de_zh_cn', 'orig_lang_smallind',\n",
              "       'release_date_years_passed', 'month2', 'month3', 'month4', 'month5',\n",
              "       'month6', 'month7', 'month8', 'month9', 'month10', 'month11', 'month12',\n",
              "       'weekday1', 'weekday2', 'weekday3', 'weekday4', 'weekday5', 'weekday6'],\n",
              "      dtype='object')"
            ]
          },
          "metadata": {
            "tags": []
          },
          "execution_count": 74
        }
      ]
    },
    {
      "metadata": {
        "id": "__UUorwOIyb-",
        "colab_type": "text"
      },
      "cell_type": "markdown",
      "source": [
        "### exploring budget"
      ]
    },
    {
      "metadata": {
        "id": "GNzoUtnAIyb_",
        "colab_type": "code",
        "outputId": "cc074314-7c51-4dc3-8a69-3ed676832c8a",
        "colab": {
          "base_uri": "https://localhost:8080/",
          "height": 173
        }
      },
      "cell_type": "code",
      "source": [
        "train['budget'].describe()"
      ],
      "execution_count": 0,
      "outputs": [
        {
          "output_type": "execute_result",
          "data": {
            "text/plain": [
              "count    3.000000e+03\n",
              "mean     2.270393e+07\n",
              "std      3.703865e+07\n",
              "min      0.000000e+00\n",
              "25%      0.000000e+00\n",
              "50%      8.000000e+06\n",
              "75%      3.000000e+07\n",
              "max      3.800000e+08\n",
              "Name: budget, dtype: float64"
            ]
          },
          "metadata": {
            "tags": []
          },
          "execution_count": 75
        }
      ]
    },
    {
      "metadata": {
        "id": "2tx7fAVhIycF",
        "colab_type": "code",
        "outputId": "5ce05cad-6708-4559-f08b-cb2db32fdb78",
        "colab": {
          "base_uri": "https://localhost:8080/",
          "height": 34
        }
      },
      "cell_type": "code",
      "source": [
        "len(train[train['budget']==0])\n",
        "# there are 812 rows with 0 budget"
      ],
      "execution_count": 0,
      "outputs": [
        {
          "output_type": "execute_result",
          "data": {
            "text/plain": [
              "797"
            ]
          },
          "metadata": {
            "tags": []
          },
          "execution_count": 76
        }
      ]
    },
    {
      "metadata": {
        "id": "OFpc0LIHIycI",
        "colab_type": "code",
        "outputId": "65fd580f-3bbe-4c1b-c316-f084554fe9b0",
        "colab": {
          "base_uri": "https://localhost:8080/",
          "height": 308
        }
      },
      "cell_type": "code",
      "source": [
        "sns.distplot(train['budget'])"
      ],
      "execution_count": 0,
      "outputs": [
        {
          "output_type": "execute_result",
          "data": {
            "text/plain": [
              "<matplotlib.axes._subplots.AxesSubplot at 0x7f89a8a2afd0>"
            ]
          },
          "metadata": {
            "tags": []
          },
          "execution_count": 77
        },
        {
          "output_type": "display_data",
          "data": {
            "image/png": "[encoded data removed]",
            "text/plain": [
              "<Figure size 432x288 with 1 Axes>"
            ]
          },
          "metadata": {
            "tags": []
          }
        }
      ]
    },
    {
      "metadata": {
        "id": "KAWlIiLqIycP",
        "colab_type": "code",
        "outputId": "1d2b8576-2ba0-4a9b-bc2f-81d63799aa46",
        "colab": {
          "base_uri": "https://localhost:8080/",
          "height": 301
        }
      },
      "cell_type": "code",
      "source": [
        "sns.distplot(np.log1p(train['budget']))\n",
        "# we see so many values near 0"
      ],
      "execution_count": 0,
      "outputs": [
        {
          "output_type": "execute_result",
          "data": {
            "text/plain": [
              "<matplotlib.axes._subplots.AxesSubplot at 0x7f89a8847358>"
            ]
          },
          "metadata": {
            "tags": []
          },
          "execution_count": 78
        },
        {
          "output_type": "display_data",
          "data": {
            "image/png": "[encoded data removed]",
            "text/plain": [
              "<Figure size 432x288 with 1 Axes>"
            ]
          },
          "metadata": {
            "tags": []
          }
        }
      ]
    },
    {
      "metadata": {
        "id": "nycHiOiAMzmd",
        "colab_type": "code",
        "outputId": "eca6f223-1827-404d-9c04-70a3f115212f",
        "colab": {
          "base_uri": "https://localhost:8080/",
          "height": 459
        }
      },
      "cell_type": "code",
      "source": [
        "sns.jointplot(x=np.log1p(train['budget']), y=np.log1p(train['revenue']), data=train)"
      ],
      "execution_count": 0,
      "outputs": [
        {
          "output_type": "execute_result",
          "data": {
            "text/plain": [
              "<seaborn.axisgrid.JointGrid at 0x7f89a8837978>"
            ]
          },
          "metadata": {
            "tags": []
          },
          "execution_count": 79
        },
        {
          "output_type": "display_data",
          "data": {
            "image/png": "[encoded data removed]",
            "text/plain": [
              "<Figure size 432x432 with 3 Axes>"
            ]
          },
          "metadata": {
            "tags": []
          }
        }
      ]
    },
    {
      "metadata": {
        "id": "oWema43fMOZj",
        "colab_type": "code",
        "outputId": "1a79db35-e644-4b97-dc0c-001dda15d2b4",
        "colab": {
          "base_uri": "https://localhost:8080/",
          "height": 368
        }
      },
      "cell_type": "code",
      "source": [
        "plt.hist(x=train['budget'])\n",
        "# we see many outliers in budgets we can categorise budget in several categories"
      ],
      "execution_count": 0,
      "outputs": [
        {
          "output_type": "execute_result",
          "data": {
            "text/plain": [
              "(array([2.407e+03, 3.650e+02, 1.250e+02, 5.500e+01, 2.000e+01, 1.700e+01,\n",
              "        7.000e+00, 3.000e+00, 0.000e+00, 1.000e+00]),\n",
              " array([0.00e+00, 3.80e+07, 7.60e+07, 1.14e+08, 1.52e+08, 1.90e+08,\n",
              "        2.28e+08, 2.66e+08, 3.04e+08, 3.42e+08, 3.80e+08]),\n",
              " <a list of 10 Patch objects>)"
            ]
          },
          "metadata": {
            "tags": []
          },
          "execution_count": 80
        },
        {
          "output_type": "display_data",
          "data": {
            "image/png": "[encoded data removed]",
            "text/plain": [
              "<Figure size 432x288 with 1 Axes>"
            ]
          },
          "metadata": {
            "tags": []
          }
        }
      ]
    },
    {
      "metadata": {
        "id": "9TONfxVUIycY",
        "colab_type": "code",
        "colab": {}
      },
      "cell_type": "code",
      "source": [
        "train['budget'] = np.log1p(train.budget.values)\n",
        "test['budget'] = np.log1p(test.budget.values)"
      ],
      "execution_count": 0,
      "outputs": []
    },
    {
      "metadata": {
        "id": "PjVkWPT7Iyca",
        "colab_type": "text"
      },
      "cell_type": "markdown",
      "source": [
        "### exploring popularity"
      ]
    },
    {
      "metadata": {
        "id": "KLcVl9zVIycb",
        "colab_type": "code",
        "outputId": "67898a94-66e9-46ba-e468-7b199d51aadc",
        "colab": {
          "base_uri": "https://localhost:8080/",
          "height": 173
        }
      },
      "cell_type": "code",
      "source": [
        "train.popularity.describe()"
      ],
      "execution_count": 0,
      "outputs": [
        {
          "output_type": "execute_result",
          "data": {
            "text/plain": [
              "count    3000.000000\n",
              "mean        8.463274\n",
              "std        12.104000\n",
              "min         0.000001\n",
              "25%         4.018053\n",
              "50%         7.374861\n",
              "75%        10.890983\n",
              "max       294.337037\n",
              "Name: popularity, dtype: float64"
            ]
          },
          "metadata": {
            "tags": []
          },
          "execution_count": 82
        }
      ]
    },
    {
      "metadata": {
        "id": "_evTHR8oIycd",
        "colab_type": "code",
        "outputId": "6807ccf4-0951-4c55-9291-48fb5812b6f3",
        "colab": {
          "base_uri": "https://localhost:8080/",
          "height": 301
        }
      },
      "cell_type": "code",
      "source": [
        "sns.distplot(train.popularity)"
      ],
      "execution_count": 0,
      "outputs": [
        {
          "output_type": "execute_result",
          "data": {
            "text/plain": [
              "<matplotlib.axes._subplots.AxesSubplot at 0x7f89a862e048>"
            ]
          },
          "metadata": {
            "tags": []
          },
          "execution_count": 83
        },
        {
          "output_type": "display_data",
          "data": {
            "image/png": "[encoded data removed]",
            "text/plain": [
              "<Figure size 432x288 with 1 Axes>"
            ]
          },
          "metadata": {
            "tags": []
          }
        }
      ]
    },
    {
      "metadata": {
        "id": "q1abbP_IIych",
        "colab_type": "code",
        "outputId": "5d20b1df-dc81-433d-d721-465dbd613190",
        "colab": {
          "base_uri": "https://localhost:8080/",
          "height": 301
        }
      },
      "cell_type": "code",
      "source": [
        "sns.distplot(np.log1p(train.popularity))"
      ],
      "execution_count": 0,
      "outputs": [
        {
          "output_type": "execute_result",
          "data": {
            "text/plain": [
              "<matplotlib.axes._subplots.AxesSubplot at 0x7f89a852a0f0>"
            ]
          },
          "metadata": {
            "tags": []
          },
          "execution_count": 84
        },
        {
          "output_type": "display_data",
          "data": {
            "image/png": "[encoded data removed]",
            "text/plain": [
              "<Figure size 432x288 with 1 Axes>"
            ]
          },
          "metadata": {
            "tags": []
          }
        }
      ]
    },
    {
      "metadata": {
        "id": "53bUvAXRIyck",
        "colab_type": "code",
        "colab": {}
      },
      "cell_type": "code",
      "source": [
        "train['popularity'] = np.log1p(train.popularity.values)\n",
        "test['popularity'] = np.log1p(test.popularity.values)"
      ],
      "execution_count": 0,
      "outputs": []
    },
    {
      "metadata": {
        "id": "bEPHQLXUIycn",
        "colab_type": "text"
      },
      "cell_type": "markdown",
      "source": [
        "### exploring run time"
      ]
    },
    {
      "metadata": {
        "id": "OZB7nPyVIyco",
        "colab_type": "code",
        "outputId": "5a711be8-55fd-4ab4-aa09-3b915eb061bd",
        "colab": {
          "base_uri": "https://localhost:8080/",
          "height": 173
        }
      },
      "cell_type": "code",
      "source": [
        "train['runtime'].describe()"
      ],
      "execution_count": 0,
      "outputs": [
        {
          "output_type": "execute_result",
          "data": {
            "text/plain": [
              "count    2998.000000\n",
              "mean      108.242161\n",
              "std        21.020877\n",
              "min        11.000000\n",
              "25%        94.000000\n",
              "50%       104.000000\n",
              "75%       118.000000\n",
              "max       338.000000\n",
              "Name: runtime, dtype: float64"
            ]
          },
          "metadata": {
            "tags": []
          },
          "execution_count": 86
        }
      ]
    },
    {
      "metadata": {
        "id": "PdR621ldIycq",
        "colab_type": "code",
        "outputId": "388aa012-70a9-4d8d-b2e5-463d71dca5f2",
        "colab": {
          "base_uri": "https://localhost:8080/",
          "height": 34
        }
      },
      "cell_type": "code",
      "source": [
        "train['runtime'].isnull().sum()"
      ],
      "execution_count": 0,
      "outputs": [
        {
          "output_type": "execute_result",
          "data": {
            "text/plain": [
              "2"
            ]
          },
          "metadata": {
            "tags": []
          },
          "execution_count": 87
        }
      ]
    },
    {
      "metadata": {
        "id": "-C8hoY8nIycs",
        "colab_type": "code",
        "outputId": "7a36e3e7-fdd7-49e8-b649-b46a77ba81ab",
        "colab": {
          "base_uri": "https://localhost:8080/",
          "height": 34
        }
      },
      "cell_type": "code",
      "source": [
        "test['runtime'].isnull().sum()"
      ],
      "execution_count": 0,
      "outputs": [
        {
          "output_type": "execute_result",
          "data": {
            "text/plain": [
              "4"
            ]
          },
          "metadata": {
            "tags": []
          },
          "execution_count": 88
        }
      ]
    },
    {
      "metadata": {
        "id": "kexirdnsIycw",
        "colab_type": "code",
        "colab": {}
      },
      "cell_type": "code",
      "source": [
        "#replacing with mean\n",
        "train['runtime'] = train['runtime'].fillna(np.mean(train['runtime']))\n",
        "test['runtime'] = test['runtime'].fillna(np.mean(test['runtime']))"
      ],
      "execution_count": 0,
      "outputs": []
    },
    {
      "metadata": {
        "id": "5BOYcarBZ5hf",
        "colab_type": "code",
        "outputId": "50d48df5-faff-4499-a47a-e4b2875def7c",
        "colab": {
          "base_uri": "https://localhost:8080/",
          "height": 34
        }
      },
      "cell_type": "code",
      "source": [
        "train[train['runtime']==0].shape[0]"
      ],
      "execution_count": 0,
      "outputs": [
        {
          "output_type": "execute_result",
          "data": {
            "text/plain": [
              "0"
            ]
          },
          "metadata": {
            "tags": []
          },
          "execution_count": 90
        }
      ]
    },
    {
      "metadata": {
        "id": "v30imkpkZ50r",
        "colab_type": "code",
        "outputId": "fa252606-ad51-4da0-8e51-40608113b5d7",
        "colab": {
          "base_uri": "https://localhost:8080/",
          "height": 34
        }
      },
      "cell_type": "code",
      "source": [
        "test[test['runtime']==0].shape[0]"
      ],
      "execution_count": 0,
      "outputs": [
        {
          "output_type": "execute_result",
          "data": {
            "text/plain": [
              "0"
            ]
          },
          "metadata": {
            "tags": []
          },
          "execution_count": 91
        }
      ]
    },
    {
      "metadata": {
        "id": "Wr2Zg64kaGXk",
        "colab_type": "code",
        "colab": {}
      },
      "cell_type": "code",
      "source": [
        "# replacing movies with runtime 0 with mean\n",
        "#train['runtime'] = train['runtime'].apply(lambda x: np.mean(train['runtime']) if x == 0 else x)\n",
        "#test['runtime'] = test['runtime'].apply(lambda x: np.mean(test['runtime']) if x == 0 else x)"
      ],
      "execution_count": 0,
      "outputs": []
    },
    {
      "metadata": {
        "id": "awAc8uF9Iycz",
        "colab_type": "code",
        "outputId": "cdb48f46-1643-41e6-e3b2-c8674737cf07",
        "colab": {
          "base_uri": "https://localhost:8080/",
          "height": 301
        }
      },
      "cell_type": "code",
      "source": [
        "sns.scatterplot(train['runtime'],np.log1p(train['revenue']))"
      ],
      "execution_count": 0,
      "outputs": [
        {
          "output_type": "execute_result",
          "data": {
            "text/plain": [
              "<matplotlib.axes._subplots.AxesSubplot at 0x7f89a851be10>"
            ]
          },
          "metadata": {
            "tags": []
          },
          "execution_count": 93
        },
        {
          "output_type": "display_data",
          "data": {
            "image/png": "[encoded data removed]",
            "text/plain": [
              "<Figure size 432x288 with 1 Axes>"
            ]
          },
          "metadata": {
            "tags": []
          }
        }
      ]
    },
    {
      "metadata": {
        "id": "DUXQfmYCIyc6",
        "colab_type": "code",
        "colab": {}
      },
      "cell_type": "code",
      "source": [
        "scaler = MinMaxScaler() \n",
        "x = train[['runtime']].values.astype(float)\n",
        "scaled_values = scaler.fit_transform(x) \n",
        "train['runtime'] = scaled_values\n",
        "\n",
        "scaler = MinMaxScaler() \n",
        "x = test[['runtime']].values.astype(float)\n",
        "scaled_values = scaler.fit_transform(x) \n",
        "test['runtime']= scaled_values"
      ],
      "execution_count": 0,
      "outputs": []
    },
    {
      "metadata": {
        "id": "sCJuxDkMIyc8",
        "colab_type": "code",
        "outputId": "1ffa5fa3-e979-452d-e103-fbbcbc67dda4",
        "colab": {
          "base_uri": "https://localhost:8080/",
          "height": 301
        }
      },
      "cell_type": "code",
      "source": [
        "sns.scatterplot(train['runtime'],np.log1p(train['revenue']))"
      ],
      "execution_count": 0,
      "outputs": [
        {
          "output_type": "execute_result",
          "data": {
            "text/plain": [
              "<matplotlib.axes._subplots.AxesSubplot at 0x7f89a83d5198>"
            ]
          },
          "metadata": {
            "tags": []
          },
          "execution_count": 95
        },
        {
          "output_type": "display_data",
          "data": {
            "image/png": "[encoded data removed]",
            "text/plain": [
              "<Figure size 432x288 with 1 Axes>"
            ]
          },
          "metadata": {
            "tags": []
          }
        }
      ]
    },
    {
      "metadata": {
        "id": "6IXorPC2IydC",
        "colab_type": "text"
      },
      "cell_type": "markdown",
      "source": [
        "### column we need in model till now"
      ]
    },
    {
      "metadata": {
        "scrolled": true,
        "id": "CeFsnkvjIydE",
        "colab_type": "code",
        "outputId": "12a9da4b-5fff-4634-8b43-c2ef94a12ad4",
        "colab": {
          "base_uri": "https://localhost:8080/",
          "height": 190
        }
      },
      "cell_type": "code",
      "source": [
        "train.columns"
      ],
      "execution_count": 0,
      "outputs": [
        {
          "output_type": "execute_result",
          "data": {
            "text/plain": [
              "Index(['id', 'belongs_to_collection', 'budget', 'genres', 'homepage',\n",
              "       'popularity', 'production_companies', 'production_countries', 'runtime',\n",
              "       'spoken_languages', 'tagline', 'Keywords', 'cast', 'crew', 'revenue',\n",
              "       'title_length', 'status_Released', 'status_Rumored',\n",
              "       'status_Post Production', 'orig_lang_en', 'orig_lang_fr_hi_ru_es_ja',\n",
              "       'orig_lang_it_ko_de_zh_cn', 'orig_lang_smallind',\n",
              "       'release_date_years_passed', 'month2', 'month3', 'month4', 'month5',\n",
              "       'month6', 'month7', 'month8', 'month9', 'month10', 'month11', 'month12',\n",
              "       'weekday1', 'weekday2', 'weekday3', 'weekday4', 'weekday5', 'weekday6'],\n",
              "      dtype='object')"
            ]
          },
          "metadata": {
            "tags": []
          },
          "execution_count": 96
        }
      ]
    },
    {
      "metadata": {
        "id": "pnwDFNDwIydM",
        "colab_type": "text"
      },
      "cell_type": "markdown",
      "source": [
        "### This method will clean feature with dictionary data.Create new feature with total number of values,onehot encoded feature"
      ]
    },
    {
      "metadata": {
        "id": "H_4kC1hbIydM",
        "colab_type": "code",
        "colab": {}
      },
      "cell_type": "code",
      "source": [
        "\n",
        "def clean_dictionary_features(feature_name,train,test,top_common=10):\n",
        "    #convert string to dictionary\n",
        "    \n",
        "    train[feature_name] = train[feature_name].apply(lambda x:{} if pd.isna(x) else ast.literal_eval(str(x)))\n",
        "    test[feature_name] = test[feature_name].apply(lambda x:{} if pd.isna(x) else ast.literal_eval(str(x)))\n",
        "    \n",
        "    #create new feature of total count of values\n",
        "    train[feature_name+'_number'] = train[feature_name].apply(lambda x:len(x) if x!={} else 0)\n",
        "    test[feature_name+'_number'] = test[feature_name].apply(lambda x:len(x) if x!={} else 0)\n",
        "    \n",
        "    #get list of all values\n",
        "    list_of_values = list(train[feature_name].apply(lambda x: [i['name'] for i in x] if x != {} else []).values)\n",
        "    #print(list_of_values)\n",
        "    train[feature_name+'_all'] = train[feature_name].apply(lambda x: ' '.join(sorted([i['name'] for i in x])) if x != {} else '')\n",
        "    \n",
        "    top_values = [m[0] for m in Counter([i for j in list_of_values for i in j]).most_common(top_common)]\n",
        "    #print(train[feature_name+'_all'])\n",
        "    #Create one hot encoded feature\n",
        "    for val in top_values:\n",
        "        train[feature_name +'_'+val] = train[feature_name+'_all'].apply(lambda x: 1 if val in x else 0)\n",
        "    \n",
        "    test[feature_name+'_all'] = test[feature_name].apply(lambda x: ' '.join(sorted([i['name'] for i in x])) if x != {} else '')\n",
        "    for val in top_values:\n",
        "        test[feature_name +'_'+val] = test[feature_name+'_all'].apply(lambda x: 1 if val in x else 0)\n",
        "    \n",
        "#     #Create Lable encoded feature \n",
        "#     le = LabelEncoder()\n",
        "#     le.fit(list(train[feature_name+'_all'].fillna('')) + list(test[feature_name+'_all'].fillna('')))\n",
        "#     train[feature_name+'_all'] = le.transform(train[feature_name+'_all'].fillna('').astype(str))\n",
        "#     test[feature_name+'_all'] = le.transform(test[feature_name+'_all'].fillna('').astype(str))\n",
        "    return train,test"
      ],
      "execution_count": 0,
      "outputs": []
    },
    {
      "metadata": {
        "id": "IK9sxswiIydO",
        "colab_type": "code",
        "colab": {}
      },
      "cell_type": "code",
      "source": [
        "train,test = clean_dictionary_features('genres',train,test,10)\n",
        "train,test = clean_dictionary_features('production_companies',train,test,10)\n",
        "train,test = clean_dictionary_features('production_countries',train,test,10)\n",
        "train,test = clean_dictionary_features('spoken_languages',train,test,10)\n",
        "train,test = clean_dictionary_features('Keywords',train,test,10)\n",
        "train,test = clean_dictionary_features('cast',train,test,10)\n",
        "train,test = clean_dictionary_features('crew',train,test,10)"
      ],
      "execution_count": 0,
      "outputs": []
    },
    {
      "metadata": {
        "id": "pBVFPEJPlGQV",
        "colab_type": "code",
        "colab": {}
      },
      "cell_type": "code",
      "source": [
        "train.drop(['genres','production_companies','production_countries','spoken_languages','Keywords','cast','crew'],axis=1,inplace=True)\n",
        "test.drop(['genres','production_companies','production_countries','spoken_languages','Keywords','cast','crew'],axis=1,inplace=True)\n",
        "train.drop(['genres_all','production_companies_all','production_countries_all','spoken_languages_all','Keywords_all','cast_all','crew_all'],axis=1,inplace=True)\n",
        "test.drop(['genres_all','production_companies_all','production_countries_all','spoken_languages_all','Keywords_all','cast_all','crew_all'],axis=1,inplace=True)"
      ],
      "execution_count": 0,
      "outputs": []
    },
    {
      "metadata": {
        "id": "vp587zMvIydR",
        "colab_type": "code",
        "outputId": "679873b8-18da-45df-d8e9-a9ac8765810e",
        "colab": {
          "base_uri": "https://localhost:8080/",
          "height": 34
        }
      },
      "cell_type": "code",
      "source": [
        "len(train.columns)"
      ],
      "execution_count": 0,
      "outputs": [
        {
          "output_type": "execute_result",
          "data": {
            "text/plain": [
              "111"
            ]
          },
          "metadata": {
            "tags": []
          },
          "execution_count": 100
        }
      ]
    },
    {
      "metadata": {
        "id": "UDv5z3VDIydW",
        "colab_type": "code",
        "outputId": "a048cd8e-9c14-4082-adef-338aad62ca0d",
        "colab": {
          "base_uri": "https://localhost:8080/",
          "height": 155
        }
      },
      "cell_type": "code",
      "source": [
        "print(train.columns)"
      ],
      "execution_count": 0,
      "outputs": [
        {
          "output_type": "stream",
          "text": [
            "Index(['id', 'belongs_to_collection', 'budget', 'homepage', 'popularity',\n",
            "       'runtime', 'tagline', 'revenue', 'title_length', 'status_Released',\n",
            "       ...\n",
            "       'crew_Avy Kaufman', 'crew_Robert Rodriguez', 'crew_Deborah Aquila',\n",
            "       'crew_James Newton Howard', 'crew_Mary Vernieu',\n",
            "       'crew_Steven Spielberg', 'crew_Luc Besson', 'crew_Jerry Goldsmith',\n",
            "       'crew_Francine Maisler', 'crew_Tricia Wood'],\n",
            "      dtype='object', length=111)\n"
          ],
          "name": "stdout"
        }
      ]
    },
    {
      "metadata": {
        "id": "e_HUaKYre_W1",
        "colab_type": "text"
      },
      "cell_type": "markdown",
      "source": [
        "### Chossing the X and y and splitting"
      ]
    },
    {
      "metadata": {
        "id": "HoKJ9kfEN4yg",
        "colab_type": "code",
        "outputId": "07a45c01-2c3c-4da2-855f-58c707b0998f",
        "colab": {
          "base_uri": "https://localhost:8080/",
          "height": 54
        }
      },
      "cell_type": "code",
      "source": [
        "columns_to_keep=[]\n",
        "for x in train.columns:\n",
        "    if x!='id' and x!='revenue':\n",
        "        columns_to_keep.append(x)\n",
        "print(columns_to_keep)\n",
        "X=train[columns_to_keep]\n",
        "y=train['revenue']"
      ],
      "execution_count": 0,
      "outputs": [
        {
          "output_type": "stream",
          "text": [
            "['belongs_to_collection', 'budget', 'homepage', 'popularity', 'runtime', 'tagline', 'title_length', 'status_Released', 'status_Rumored', 'status_Post Production', 'orig_lang_en', 'orig_lang_fr_hi_ru_es_ja', 'orig_lang_it_ko_de_zh_cn', 'orig_lang_smallind', 'release_date_years_passed', 'month2', 'month3', 'month4', 'month5', 'month6', 'month7', 'month8', 'month9', 'month10', 'month11', 'month12', 'weekday1', 'weekday2', 'weekday3', 'weekday4', 'weekday5', 'weekday6', 'genres_number', 'genres_Drama', 'genres_Comedy', 'genres_Thriller', 'genres_Action', 'genres_Romance', 'genres_Crime', 'genres_Adventure', 'genres_Horror', 'genres_Science Fiction', 'genres_Family', 'production_companies_number', 'production_companies_Warner Bros.', 'production_companies_Universal Pictures', 'production_companies_Paramount Pictures', 'production_companies_Twentieth Century Fox Film Corporation', 'production_companies_Columbia Pictures', 'production_companies_Metro-Goldwyn-Mayer (MGM)', 'production_companies_New Line Cinema', 'production_companies_Touchstone Pictures', 'production_companies_Walt Disney Pictures', 'production_companies_Columbia Pictures Corporation', 'production_countries_number', 'production_countries_United States of America', 'production_countries_United Kingdom', 'production_countries_France', 'production_countries_Germany', 'production_countries_Canada', 'production_countries_India', 'production_countries_Italy', 'production_countries_Japan', 'production_countries_Australia', 'production_countries_Russia', 'spoken_languages_number', 'spoken_languages_English', 'spoken_languages_Français', 'spoken_languages_Español', 'spoken_languages_Deutsch', 'spoken_languages_Pусский', 'spoken_languages_Italiano', 'spoken_languages_日本語', 'spoken_languages_普通话', 'spoken_languages_हिन्दी', 'spoken_languages_', 'Keywords_number', 'Keywords_woman director', 'Keywords_independent film', 'Keywords_duringcreditsstinger', 'Keywords_murder', 'Keywords_based on novel', 'Keywords_violence', 'Keywords_sport', 'Keywords_biography', 'Keywords_aftercreditsstinger', 'Keywords_dystopia', 'cast_number', 'cast_Samuel L. Jackson', 'cast_Robert De Niro', 'cast_Morgan Freeman', 'cast_J.K. Simmons', 'cast_Bruce Willis', 'cast_Liam Neeson', 'cast_Susan Sarandon', 'cast_Bruce McGill', 'cast_John Turturro', 'cast_Forest Whitaker', 'crew_number', 'crew_Avy Kaufman', 'crew_Robert Rodriguez', 'crew_Deborah Aquila', 'crew_James Newton Howard', 'crew_Mary Vernieu', 'crew_Steven Spielberg', 'crew_Luc Besson', 'crew_Jerry Goldsmith', 'crew_Francine Maisler', 'crew_Tricia Wood']\n"
          ],
          "name": "stdout"
        }
      ]
    },
    {
      "metadata": {
        "id": "OT27iQb9kQUT",
        "colab_type": "code",
        "colab": {}
      },
      "cell_type": "code",
      "source": [
        "from sklearn import model_selection\n",
        "X_train, X_val, y_train, y_val = model_selection.train_test_split(X, y, test_size=0.15, random_state=41)"
      ],
      "execution_count": 0,
      "outputs": []
    },
    {
      "metadata": {
        "id": "6jziDoSBrIWJ",
        "colab_type": "text"
      },
      "cell_type": "markdown",
      "source": [
        "### First Model"
      ]
    },
    {
      "metadata": {
        "id": "duF43CdPPLWO",
        "colab_type": "code",
        "colab": {}
      },
      "cell_type": "code",
      "source": [
        "from sklearn.ensemble import RandomForestRegressor"
      ],
      "execution_count": 0,
      "outputs": []
    },
    {
      "metadata": {
        "id": "VnKDRWBXj9wG",
        "colab_type": "code",
        "outputId": "719c0589-6936-4ab2-dc12-dd74da84d501",
        "colab": {
          "base_uri": "https://localhost:8080/",
          "height": 121
        }
      },
      "cell_type": "code",
      "source": [
        "model=RandomForestRegressor(random_state=0,n_estimators=100)\n",
        "model.fit(X_train,y_train)"
      ],
      "execution_count": 0,
      "outputs": [
        {
          "output_type": "execute_result",
          "data": {
            "text/plain": [
              "RandomForestRegressor(bootstrap=True, criterion='mse', max_depth=None,\n",
              "           max_features='auto', max_leaf_nodes=None,\n",
              "           min_impurity_decrease=0.0, min_impurity_split=None,\n",
              "           min_samples_leaf=1, min_samples_split=2,\n",
              "           min_weight_fraction_leaf=0.0, n_estimators=100, n_jobs=None,\n",
              "           oob_score=False, random_state=0, verbose=0, warm_start=False)"
            ]
          },
          "metadata": {
            "tags": []
          },
          "execution_count": 100
        }
      ]
    },
    {
      "metadata": {
        "id": "qpzAQn58j9t4",
        "colab_type": "code",
        "outputId": "11c605ee-c8dc-4774-cc74-b2fca2621d19",
        "colab": {
          "base_uri": "https://localhost:8080/",
          "height": 121
        }
      },
      "cell_type": "code",
      "source": [
        "print(model)"
      ],
      "execution_count": 0,
      "outputs": [
        {
          "output_type": "stream",
          "text": [
            "RandomForestRegressor(bootstrap=True, criterion='mse', max_depth=None,\n",
            "           max_features='auto', max_leaf_nodes=None,\n",
            "           min_impurity_decrease=0.0, min_impurity_split=None,\n",
            "           min_samples_leaf=1, min_samples_split=2,\n",
            "           min_weight_fraction_leaf=0.0, n_estimators=100, n_jobs=None,\n",
            "           oob_score=False, random_state=0, verbose=0, warm_start=False)\n"
          ],
          "name": "stdout"
        }
      ]
    },
    {
      "metadata": {
        "id": "hH2lUcECpHKe",
        "colab_type": "code",
        "outputId": "c14c3fa3-d49f-430e-e955-b95c655273b4",
        "colab": {
          "base_uri": "https://localhost:8080/",
          "height": 287
        }
      },
      "cell_type": "code",
      "source": [
        "sns.barplot(x=X_train.columns[0:10],y=model.feature_importances_[0:10])"
      ],
      "execution_count": 0,
      "outputs": [
        {
          "output_type": "execute_result",
          "data": {
            "text/plain": [
              "<matplotlib.axes._subplots.AxesSubplot at 0x7f4cee592ba8>"
            ]
          },
          "metadata": {
            "tags": []
          },
          "execution_count": 102
        },
        {
          "output_type": "display_data",
          "data": {
            "image/png": "[encoded data removed]",
            "text/plain": [
              "<Figure size 432x288 with 1 Axes>"
            ]
          },
          "metadata": {
            "tags": []
          }
        }
      ]
    },
    {
      "metadata": {
        "id": "7idbGLT1pi9w",
        "colab_type": "code",
        "outputId": "a9c09c27-6319-4be2-933e-05bf5d000a29",
        "colab": {
          "base_uri": "https://localhost:8080/",
          "height": 34
        }
      },
      "cell_type": "code",
      "source": [
        "X_train.columns.shape"
      ],
      "execution_count": 0,
      "outputs": [
        {
          "output_type": "execute_result",
          "data": {
            "text/plain": [
              "(109,)"
            ]
          },
          "metadata": {
            "tags": []
          },
          "execution_count": 103
        }
      ]
    },
    {
      "metadata": {
        "id": "XYFW5kJaj9n7",
        "colab_type": "code",
        "colab": {}
      },
      "cell_type": "code",
      "source": [
        "from sklearn.metrics import r2_score"
      ],
      "execution_count": 0,
      "outputs": []
    },
    {
      "metadata": {
        "id": "hGNWSSS_mAEb",
        "colab_type": "code",
        "outputId": "16d385b8-4f5d-46b1-b016-80940b7f1a59",
        "colab": {
          "base_uri": "https://localhost:8080/",
          "height": 34
        }
      },
      "cell_type": "code",
      "source": [
        "r2_score(y_pred=model.predict(X_train),y_true=y_train)"
      ],
      "execution_count": 0,
      "outputs": [
        {
          "output_type": "execute_result",
          "data": {
            "text/plain": [
              "0.9583312207425861"
            ]
          },
          "metadata": {
            "tags": []
          },
          "execution_count": 105
        }
      ]
    },
    {
      "metadata": {
        "id": "WvJOY3cAl_-H",
        "colab_type": "code",
        "outputId": "4fab804f-cddb-4528-a0eb-3ee897ce2144",
        "colab": {
          "base_uri": "https://localhost:8080/",
          "height": 34
        }
      },
      "cell_type": "code",
      "source": [
        "r2_score(y_pred=model.predict(X_val),y_true=y_val)"
      ],
      "execution_count": 0,
      "outputs": [
        {
          "output_type": "execute_result",
          "data": {
            "text/plain": [
              "0.685216071787333"
            ]
          },
          "metadata": {
            "tags": []
          },
          "execution_count": 106
        }
      ]
    },
    {
      "metadata": {
        "colab_type": "code",
        "outputId": "3c94aa17-4d7b-4498-8a15-83360e4343c8",
        "id": "wE1Bgb1CoZ9y",
        "colab": {
          "base_uri": "https://localhost:8080/",
          "height": 34
        }
      },
      "cell_type": "code",
      "source": [
        "from sklearn.metrics import mean_squared_log_error\n",
        "np.sqrt(mean_squared_log_error( y_val, model.predict(X_val) ))"
      ],
      "execution_count": 0,
      "outputs": [
        {
          "output_type": "execute_result",
          "data": {
            "text/plain": [
              "2.571979915326752"
            ]
          },
          "metadata": {
            "tags": []
          },
          "execution_count": 108
        }
      ]
    },
    {
      "metadata": {
        "id": "3UtaWDxnrPdj",
        "colab_type": "text"
      },
      "cell_type": "markdown",
      "source": [
        "### Second Model"
      ]
    },
    {
      "metadata": {
        "id": "9PxBA_GRyo8-",
        "colab_type": "code",
        "outputId": "340f301c-00c9-4b9e-864d-af4afb5e03b6",
        "colab": {
          "base_uri": "https://localhost:8080/",
          "height": 244
        }
      },
      "cell_type": "code",
      "source": [
        "!pip install catboost"
      ],
      "execution_count": 0,
      "outputs": [
        {
          "output_type": "stream",
          "text": [
            "Collecting catboost\n",
            "\u001b[?25l  Downloading https://files.pythonhosted.org/packages/2f/c4/f130237b24efd1941cb685da12496675a90045129b66774751f1bf629dfd/catboost-0.14.2-cp36-none-manylinux1_x86_64.whl (60.6MB)\n",
            "\u001b[K    100% |████████████████████████████████| 60.6MB 577kB/s \n",
            "\u001b[?25hRequirement already satisfied: numpy>=1.11.1 in /usr/local/lib/python3.6/dist-packages (from catboost) (1.16.2)\n",
            "Requirement already satisfied: six in /usr/local/lib/python3.6/dist-packages (from catboost) (1.11.0)\n",
            "Requirement already satisfied: graphviz in /usr/local/lib/python3.6/dist-packages (from catboost) (0.10.1)\n",
            "Requirement already satisfied: pandas>=0.19.1 in /usr/local/lib/python3.6/dist-packages (from catboost) (0.23.4)\n",
            "Requirement already satisfied: enum34 in /usr/local/lib/python3.6/dist-packages (from catboost) (1.1.6)\n",
            "Requirement already satisfied: python-dateutil>=2.5.0 in /usr/local/lib/python3.6/dist-packages (from pandas>=0.19.1->catboost) (2.5.3)\n",
            "Requirement already satisfied: pytz>=2011k in /usr/local/lib/python3.6/dist-packages (from pandas>=0.19.1->catboost) (2018.9)\n",
            "Installing collected packages: catboost\n",
            "Successfully installed catboost-0.14.2\n"
          ],
          "name": "stdout"
        }
      ]
    },
    {
      "metadata": {
        "id": "kjvP9bkJyS4T",
        "colab_type": "code",
        "colab": {}
      },
      "cell_type": "code",
      "source": [
        "import ast\n",
        "from tqdm import tqdm\n",
        "from sklearn.linear_model import LinearRegression,Lasso\n",
        "from sklearn.model_selection import KFold, cross_val_score, train_test_split,GridSearchCV\n",
        "from sklearn.metrics import mean_squared_error\n",
        "from sklearn.ensemble import RandomForestRegressor,GradientBoostingRegressor\n",
        "from sklearn.feature_selection import SelectKBest,chi2\n",
        "import xgboost as xgb\n",
        "import lightgbm as lgb\n",
        "from catboost import CatBoostRegressor\n",
        "from xgboost.sklearn import XGBRegressor\n",
        "from types import FunctionType\n",
        "from xgboost import plot_importance\n",
        "seed = 123"
      ],
      "execution_count": 0,
      "outputs": []
    },
    {
      "metadata": {
        "id": "gGozADJhq1gV",
        "colab_type": "code",
        "colab": {}
      },
      "cell_type": "code",
      "source": [
        "def select_model(X_train, X_val, y_train, y_val):\n",
        "\n",
        "    best_models = {}\n",
        "    models = [\n",
        "        {\n",
        "            'name': 'LinearRegression',\n",
        "            'estimator': LinearRegression(),\n",
        "            'hyperparameters': {},\n",
        "        },\n",
        "       \n",
        "        {\n",
        "            'name': 'GradientBoostingRegressor',\n",
        "            'estimator': GradientBoostingRegressor(),\n",
        "            'hyperparameters':{\n",
        "                'n_estimators': range(100, 200, 10),\n",
        "                'criterion': ['friedman_mse'],\n",
        "                'max_depth': [3, 5, 7, 9],\n",
        "                'max_features': ['log2', 'sqrt'],\n",
        "                'min_samples_leaf': [1, 2, 4],\n",
        "                'min_samples_split': [3, 5, 7]\n",
        "            }\n",
        "            \n",
        "        },\n",
        "\n",
        "        {\n",
        "            'name': 'XGBoost',\n",
        "            'estimator': xgb.XGBRegressor(),\n",
        "            'hyperparameters':{\n",
        "                'booster': ['gbtree', 'gblinear', 'dart'],\n",
        "                'max_depth': range(5, 50, 5),\n",
        "                'n_estimators': [200],\n",
        "                'nthread': [4],\n",
        "                'min_child_weight': range(1, 8, 2),\n",
        "                'learning_rate': [.05, .1, .15],\n",
        "            }\n",
        "        },\n",
        "        {\n",
        "            'name': 'Light GBM',\n",
        "            'estimator': lgb.LGBMRegressor(),\n",
        "            'hyperparameters':{\n",
        "                'max_depth': range(20, 85, 15),\n",
        "                'learning_rate': [.01, .05, .1],\n",
        "                'num_leaves': [300, 600, 900, 1200],\n",
        "                'n_estimators': [200]\n",
        "            }\n",
        "        }\n",
        "    ]\n",
        "    \n",
        "    for model in tqdm(models):\n",
        "        print('\\n', '-'*25, '\\n', model['name'])\n",
        "        start = time.perf_counter()\n",
        "        grid = GridSearchCV(model['estimator'], param_grid=model['hyperparameters'], cv=5, scoring = \"neg_mean_squared_error\", verbose=False, n_jobs=-1)\n",
        "        grid.fit(X_train, y_train)\n",
        "        best_models[model['name']] = {'score': grid.best_score_, 'params': grid.best_params_}\n",
        "        mse_val = mean_squared_error(y_val, grid.predict(X_val))\n",
        "        mse_train = mean_squared_error(y_train, grid.predict(X_train))\n",
        "        print(\"RMSLE train:{}\".format(np.sqrt(mse_train))) \n",
        "        print(\"RMSLE validation:{}\".format(np.sqrt(mse_val)))\n",
        "        print(\"best_params_:{}\".format(grid.best_params_))\n",
        "        run = time.perf_counter() - start\n",
        "        \n",
        "        \n",
        "    return best_models"
      ],
      "execution_count": 0,
      "outputs": []
    },
    {
      "metadata": {
        "id": "HJ4T1TdgzVPE",
        "colab_type": "code",
        "colab": {}
      },
      "cell_type": "code",
      "source": [
        "def get_best_parameters(train,features_list):\n",
        "\n",
        "    X_train = train[features_list]\n",
        "    y_train = np.log1p(train[\"revenue\"]).values\n",
        "      \n",
        "    X_train, X_val, y_train, y_val = train_test_split(X_train, y_train, test_size=0.15, random_state=1)\n",
        "\n",
        "    models = select_model(X_train, X_val, y_train, y_val)\n",
        "    return models"
      ],
      "execution_count": 0,
      "outputs": []
    },
    {
      "metadata": {
        "id": "hUCdKG03zVdR",
        "colab_type": "code",
        "colab": {}
      },
      "cell_type": "code",
      "source": [
        "# A class that will define all the regression models as methods\n",
        "\n",
        "class Models(object):\n",
        "    \n",
        "    \n",
        "    \n",
        "    # Initialization \n",
        "    def __init__(self, x_train, x_validation, y_train, y_validation):\n",
        "        # changing input as dataframe to list\n",
        "        self.x_train = [x_train.iloc[i].tolist() for i in range(len(x_train))]\n",
        "        self.x_validation = [x_validation.iloc[i].tolist() for i in range(len(x_validation))]\n",
        "        self.y_train = y_train.tolist()\n",
        "        self.y_validation = y_validation.tolist()\n",
        "        \n",
        "    \n",
        "    \n",
        "    @staticmethod\n",
        "    def print_info(cross_val_scores, mse_train,mse_val):\n",
        "        print(\"Cross Validation Scores: \", cross_val_scores)\n",
        "        print(\"RMSLE train:{}\".format(np.sqrt(mse_train))) \n",
        "        print(\"RMSLE validation:{}\".format(np.sqrt(mse_val)))\n",
        "        #print(\"Mean Squared Error: \", np.sqrt(mse))\n",
        "        \n",
        "        \n",
        "  \n",
        "    # Gradient Boosting Regressor\n",
        "    def GBR(self, x_train, x_validation,  y_train, y_validation):\n",
        "        gbr = GradientBoostingRegressor(n_estimators=120, learning_rate=0.08,max_features='sqrt',criterion='friedman_mse',\n",
        "                                        min_samples_leaf=1,min_samples_split=3, max_depth=7, random_state=seed)\n",
        "        gbr.fit(self.x_train, self.y_train)\n",
        "        kfold = KFold(n_splits=10, shuffle=True, random_state=seed)\n",
        "        cross_val_scores = cross_val_score(gbr, self.x_train, self.y_train, cv=kfold)\n",
        "        mse_val = mean_squared_error(self.y_validation, gbr.predict(self.x_validation))\n",
        "        mse_train = mean_squared_error(self.y_train, gbr.predict(self.x_train))\n",
        "        print('\\nGradient Boosting Regressor')\n",
        "        self.print_info(cross_val_scores, mse_train,mse_val)\n",
        "        return cross_val_scores, mse_val, gbr\n",
        "    \n",
        "    \n",
        "    # LGBM Regressor \n",
        "    def lgbm(self, x_train, x_validation,  y_train, y_validation):\n",
        "        lgbm =lgb.LGBMRegressor(n_estimators=10000,objective=\"regression\", metric=\"rmse\",num_leaves=20, \n",
        "                             min_child_samples=100,learning_rate=0.01, bagging_fraction=0.8,feature_fraction=0.8, \n",
        "                             bagging_frequency=1,importance_type='gain', bagging_seed=seed,subsample=.9, \n",
        "                             colsample_bytree=.9,use_best_model=True)\n",
        "                                \n",
        "        lgbm.fit(x_train, y_train,eval_set=(x_validation, y_validation),verbose=False)\n",
        "    \n",
        "        kfold = KFold(n_splits=10, shuffle=True, random_state=seed)\n",
        "        cross_val_scores = cross_val_score(lgbm, self.x_train, self.y_train, cv=kfold)\n",
        "        mse_val = mean_squared_error(self.y_validation, lgbm.predict(self.x_validation))\n",
        "        mse_train = mean_squared_error(self.y_train, lgbm.predict(self.x_train))\n",
        "        print('\\nLGBM Regressor')\n",
        "        self.print_info(cross_val_scores, mse_train,mse_val)\n",
        "        return cross_val_scores, mse_val, lgbm\n",
        "    \n",
        "    \n",
        "    # XgBoost Regressor \n",
        "    def xgBoost(self, x_train, x_validation,  y_train, y_validation):\n",
        "        params = {'objective': 'reg:linear','eta': 0.01,'max_depth': 6,'subsample': 0.6,'colsample_bytree': 0.7,  \n",
        "              'eval_metric': 'rmse', 'seed': seed,'silent': True,}\n",
        "    \n",
        "        record = dict()\n",
        "        xg = xgb.train(params, xgb.DMatrix(x_train, y_train), 100000, [(xgb.DMatrix(x_train, y_train), 'train'),\n",
        "                                                                      (xgb.DMatrix(x_validation, y_validation), 'valid')]\n",
        "                      , verbose_eval=False, early_stopping_rounds=500, callbacks = [xgb.callback.record_evaluation(record)])\n",
        "        best_idx = np.argmin(np.array(record['valid']['rmse']))\n",
        "    \n",
        "        #kfold = KFold(n_splits=10, shuffle=True, random_state=seed)\n",
        "        #cross_val_scores = cross_val_score(xg, self.x_train, self.y_train, cv=kfold)\n",
        "        cross_val_scores= 0\n",
        "        mse_val = mean_squared_error(self.y_validation, xg.predict(xgb.DMatrix(x_validation), ntree_limit=xg.best_ntree_limit))\n",
        "        mse_train = mean_squared_error(self.y_train, xg.predict(xgb.DMatrix(x_train), ntree_limit=xg.best_ntree_limit))\n",
        "        print('\\nXgBoost Regressor')\n",
        "        self.print_info(cross_val_scores, mse_train,mse_val)\n",
        "        #plot_importance(xg)\n",
        "        #plt.show()\n",
        "        return cross_val_scores, mse_val, xg"
      ],
      "execution_count": 0,
      "outputs": []
    },
    {
      "metadata": {
        "id": "hyVHhWI4zVib",
        "colab_type": "code",
        "colab": {}
      },
      "cell_type": "code",
      "source": [
        "def evaluate_models(train, test,features_list):\n",
        "\n",
        "    X_train = train[features_list]\n",
        "    y_train = np.log1p(train[\"revenue\"]).values\n",
        "      \n",
        "    X_train, X_val, y_train, y_val = train_test_split(X_train, y_train, test_size=0.15, random_state=1)\n",
        "\n",
        "    methods = [x for x, y in Models.__dict__.items() if type(y) == FunctionType]\n",
        "    methods.remove('__init__')\n",
        "    # Now calling the all regression methods\n",
        "    cross_scores_list, mse_list = [], []\n",
        "    models = {}\n",
        "    for model in methods:\n",
        "        reg = Models(X_train, X_val, y_train, y_val)\n",
        "        cross_val_scores, mse, return_model = getattr(reg, model)(X_train, X_val, y_train, y_val)\n",
        "        cross_scores_list.append(cross_val_scores)\n",
        "        models[model] = return_model\n",
        "        mse_list.append(mse)\n",
        "    return models"
      ],
      "execution_count": 0,
      "outputs": []
    },
    {
      "metadata": {
        "id": "n-t7jh2gzVmj",
        "colab_type": "code",
        "outputId": "fbe780ca-0094-4587-de65-501bd10a1538",
        "colab": {
          "base_uri": "https://localhost:8080/",
          "height": 311
        }
      },
      "cell_type": "code",
      "source": [
        "all_features_models = evaluate_models(train, test,list(columns_to_keep))"
      ],
      "execution_count": 0,
      "outputs": [
        {
          "output_type": "stream",
          "text": [
            "\n",
            "Gradient Boosting Regressor\n",
            "Cross Validation Scores:  [0.54507917 0.54248347 0.49527378 0.51099937 0.51677286 0.46311586\n",
            " 0.50020566 0.59002745 0.52833085 0.54294953]\n",
            "RMSLE train:0.9145673444617535\n",
            "RMSLE validation:1.796344761428888\n",
            "\n",
            "LGBM Regressor\n",
            "Cross Validation Scores:  [0.60867095 0.56010525 0.52549836 0.56901711 0.54907714 0.41165107\n",
            " 0.48291396 0.54064348 0.48613238 0.53076337]\n",
            "RMSLE train:0.6047663773562049\n",
            "RMSLE validation:1.8373720716779625\n",
            "\n",
            "XgBoost Regressor\n",
            "Cross Validation Scores:  0\n",
            "RMSLE train:1.0307909159917084\n",
            "RMSLE validation:1.767739622254152\n"
          ],
          "name": "stdout"
        }
      ]
    },
    {
      "metadata": {
        "id": "dUZQVx_fzVr0",
        "colab_type": "code",
        "colab": {}
      },
      "cell_type": "code",
      "source": [
        "def calculate_test_results(models,test,model_names,features_list):\n",
        "        \n",
        "    X_test = test[features_list]\n",
        "    pred = np.empty(shape=len(X_test)).tolist()\n",
        "    \n",
        "    for model in model_names:\n",
        "        mod = models[model]\n",
        "        if(model=='xgBoost'):\n",
        "            pred = pred + np.expm1(mod.predict(xgb.DMatrix(X_test), ntree_limit=mod.best_ntree_limit))\n",
        "        else:   \n",
        "            pred = pred + np.expm1(mod.predict(X_test))\n",
        "    \n",
        "    return pred"
      ],
      "execution_count": 0,
      "outputs": []
    },
    {
      "metadata": {
        "id": "iAbdXiyvzVw-",
        "colab_type": "code",
        "colab": {}
      },
      "cell_type": "code",
      "source": [
        "xgBoost_results = calculate_test_results(all_features_models,test,['xgBoost'],list(columns_to_keep))\n",
        "gbr_results = calculate_test_results(all_features_models,test,['GBR'],list(columns_to_keep))\n",
        "lgbm_results = calculate_test_results(all_features_models,test,['lgbm'],list(columns_to_keep))\n",
        "\n",
        "#final_pred = 0.4*xgBoost_results + 0.4*gbr_results + 0.2*lgbm_results 2.07\n",
        "#final_pred = 0.7*xgBoost_results + 0.3*gbr_results 2.03\n",
        "#final_pred = 0.3*xgBoost_results + 0.7*gbr_results 2.08\n",
        "#final_pred = 0.5*xgBoost_results + 0.3*gbr_results + 0.2*lgbm_results 2.08\n",
        "#final_pred = 0.6*xgBoost_results + 0.2*gbr_results + 0.2*lgbm_results  2.06723\n",
        "#final_pred = 0.8*xgBoost_results + 0.2*gbr_results 2.02\n",
        "final_pred = 0.8*xgBoost_results + 0.2*lgbm_results 1.98561\n",
        "#final_pred = 0.9*xgBoost_results + 0.1*gbr_results\n",
        "#final_pred = xgBoost_results  2.05923"
      ],
      "execution_count": 0,
      "outputs": []
    },
    {
      "metadata": {
        "id": "nMcpwXYCzV1p",
        "colab_type": "code",
        "colab": {}
      },
      "cell_type": "code",
      "source": [
        "submission = pd.DataFrame()\n",
        "submission['id'] = test['id']\n",
        "submission['revenue'] = final_pred\n",
        "submission.to_csv('submission.csv', index=False)"
      ],
      "execution_count": 0,
      "outputs": []
    },
    {
      "metadata": {
        "id": "cN8UwDWZ3cke",
        "colab_type": "code",
        "colab": {}
      },
      "cell_type": "code",
      "source": [
        "from google.colab import files\n",
        "files.download('submission.csv')"
      ],
      "execution_count": 0,
      "outputs": []
    },
    {
      "metadata": {
        "id": "DARcBlrhq3NT",
        "colab_type": "text"
      },
      "cell_type": "markdown",
      "source": [
        "### Submitting the solution"
      ]
    },
    {
      "metadata": {
        "colab_type": "code",
        "id": "MM08In9EoZQe",
        "colab": {}
      },
      "cell_type": "code",
      "source": [
        "X_test=test[columns_to_keep].copy()"
      ],
      "execution_count": 0,
      "outputs": []
    },
    {
      "metadata": {
        "id": "TwJXI0UhSFvz",
        "colab_type": "code",
        "outputId": "4226cbe0-f39d-40f5-f112-ffe26ceba03a",
        "colab": {
          "base_uri": "https://localhost:8080/",
          "height": 282
        }
      },
      "cell_type": "code",
      "source": [
        "X_test.head()"
      ],
      "execution_count": 0,
      "outputs": [
        {
          "output_type": "execute_result",
          "data": {
            "text/html": [
              "<div>\n",
              "<style scoped>\n",
              "    .dataframe tbody tr th:only-of-type {\n",
              "        vertical-align: middle;\n",
              "    }\n",
              "\n",
              "    .dataframe tbody tr th {\n",
              "        vertical-align: top;\n",
              "    }\n",
              "\n",
              "    .dataframe thead th {\n",
              "        text-align: right;\n",
              "    }\n",
              "</style>\n",
              "<table border=\"1\" class=\"dataframe\">\n",
              "  <thead>\n",
              "    <tr style=\"text-align: right;\">\n",
              "      <th></th>\n",
              "      <th>belongs_to_collection</th>\n",
              "      <th>budget</th>\n",
              "      <th>homepage</th>\n",
              "      <th>popularity</th>\n",
              "      <th>runtime</th>\n",
              "      <th>tagline</th>\n",
              "      <th>title_length</th>\n",
              "      <th>status_Released</th>\n",
              "      <th>status_Rumored</th>\n",
              "      <th>status_Post Production</th>\n",
              "      <th>...</th>\n",
              "      <th>crew_Avy Kaufman</th>\n",
              "      <th>crew_Robert Rodriguez</th>\n",
              "      <th>crew_Deborah Aquila</th>\n",
              "      <th>crew_James Newton Howard</th>\n",
              "      <th>crew_Mary Vernieu</th>\n",
              "      <th>crew_Steven Spielberg</th>\n",
              "      <th>crew_Luc Besson</th>\n",
              "      <th>crew_Jerry Goldsmith</th>\n",
              "      <th>crew_Francine Maisler</th>\n",
              "      <th>crew_Tricia Wood</th>\n",
              "    </tr>\n",
              "  </thead>\n",
              "  <tbody>\n",
              "    <tr>\n",
              "      <th>0</th>\n",
              "      <td>1</td>\n",
              "      <td>0.000000</td>\n",
              "      <td>1</td>\n",
              "      <td>1.579295</td>\n",
              "      <td>0.220339</td>\n",
              "      <td>51</td>\n",
              "      <td>28</td>\n",
              "      <td>1</td>\n",
              "      <td>0</td>\n",
              "      <td>0</td>\n",
              "      <td>...</td>\n",
              "      <td>0</td>\n",
              "      <td>0</td>\n",
              "      <td>0</td>\n",
              "      <td>0</td>\n",
              "      <td>0</td>\n",
              "      <td>0</td>\n",
              "      <td>0</td>\n",
              "      <td>0</td>\n",
              "      <td>0</td>\n",
              "      <td>0</td>\n",
              "    </tr>\n",
              "    <tr>\n",
              "      <th>1</th>\n",
              "      <td>0</td>\n",
              "      <td>11.385103</td>\n",
              "      <td>0</td>\n",
              "      <td>1.517276</td>\n",
              "      <td>0.135593</td>\n",
              "      <td>96</td>\n",
              "      <td>27</td>\n",
              "      <td>1</td>\n",
              "      <td>0</td>\n",
              "      <td>0</td>\n",
              "      <td>...</td>\n",
              "      <td>0</td>\n",
              "      <td>0</td>\n",
              "      <td>0</td>\n",
              "      <td>0</td>\n",
              "      <td>0</td>\n",
              "      <td>0</td>\n",
              "      <td>0</td>\n",
              "      <td>0</td>\n",
              "      <td>0</td>\n",
              "      <td>0</td>\n",
              "    </tr>\n",
              "    <tr>\n",
              "      <th>2</th>\n",
              "      <td>0</td>\n",
              "      <td>0.000000</td>\n",
              "      <td>0</td>\n",
              "      <td>2.206646</td>\n",
              "      <td>0.254237</td>\n",
              "      <td>41</td>\n",
              "      <td>16</td>\n",
              "      <td>1</td>\n",
              "      <td>0</td>\n",
              "      <td>0</td>\n",
              "      <td>...</td>\n",
              "      <td>0</td>\n",
              "      <td>0</td>\n",
              "      <td>0</td>\n",
              "      <td>0</td>\n",
              "      <td>0</td>\n",
              "      <td>0</td>\n",
              "      <td>0</td>\n",
              "      <td>0</td>\n",
              "      <td>0</td>\n",
              "      <td>0</td>\n",
              "    </tr>\n",
              "    <tr>\n",
              "      <th>3</th>\n",
              "      <td>0</td>\n",
              "      <td>15.732433</td>\n",
              "      <td>1</td>\n",
              "      <td>2.261348</td>\n",
              "      <td>0.355932</td>\n",
              "      <td>55</td>\n",
              "      <td>9</td>\n",
              "      <td>1</td>\n",
              "      <td>0</td>\n",
              "      <td>0</td>\n",
              "      <td>...</td>\n",
              "      <td>0</td>\n",
              "      <td>0</td>\n",
              "      <td>0</td>\n",
              "      <td>0</td>\n",
              "      <td>0</td>\n",
              "      <td>0</td>\n",
              "      <td>0</td>\n",
              "      <td>0</td>\n",
              "      <td>0</td>\n",
              "      <td>0</td>\n",
              "    </tr>\n",
              "    <tr>\n",
              "      <th>4</th>\n",
              "      <td>0</td>\n",
              "      <td>14.508658</td>\n",
              "      <td>0</td>\n",
              "      <td>1.439285</td>\n",
              "      <td>0.227119</td>\n",
              "      <td>221</td>\n",
              "      <td>18</td>\n",
              "      <td>1</td>\n",
              "      <td>0</td>\n",
              "      <td>0</td>\n",
              "      <td>...</td>\n",
              "      <td>0</td>\n",
              "      <td>0</td>\n",
              "      <td>0</td>\n",
              "      <td>0</td>\n",
              "      <td>0</td>\n",
              "      <td>0</td>\n",
              "      <td>0</td>\n",
              "      <td>0</td>\n",
              "      <td>0</td>\n",
              "      <td>0</td>\n",
              "    </tr>\n",
              "  </tbody>\n",
              "</table>\n",
              "<p>5 rows × 109 columns</p>\n",
              "</div>"
            ],
            "text/plain": [
              "   belongs_to_collection     budget  homepage  popularity   runtime  tagline  \\\n",
              "0                      1   0.000000         1    1.579295  0.220339       51   \n",
              "1                      0  11.385103         0    1.517276  0.135593       96   \n",
              "2                      0   0.000000         0    2.206646  0.254237       41   \n",
              "3                      0  15.732433         1    2.261348  0.355932       55   \n",
              "4                      0  14.508658         0    1.439285  0.227119      221   \n",
              "\n",
              "   title_length  status_Released  status_Rumored  status_Post Production  \\\n",
              "0            28                1               0                       0   \n",
              "1            27                1               0                       0   \n",
              "2            16                1               0                       0   \n",
              "3             9                1               0                       0   \n",
              "4            18                1               0                       0   \n",
              "\n",
              "         ...         crew_Avy Kaufman  crew_Robert Rodriguez  \\\n",
              "0        ...                        0                      0   \n",
              "1        ...                        0                      0   \n",
              "2        ...                        0                      0   \n",
              "3        ...                        0                      0   \n",
              "4        ...                        0                      0   \n",
              "\n",
              "   crew_Deborah Aquila  crew_James Newton Howard  crew_Mary Vernieu  \\\n",
              "0                    0                         0                  0   \n",
              "1                    0                         0                  0   \n",
              "2                    0                         0                  0   \n",
              "3                    0                         0                  0   \n",
              "4                    0                         0                  0   \n",
              "\n",
              "   crew_Steven Spielberg  crew_Luc Besson  crew_Jerry Goldsmith  \\\n",
              "0                      0                0                     0   \n",
              "1                      0                0                     0   \n",
              "2                      0                0                     0   \n",
              "3                      0                0                     0   \n",
              "4                      0                0                     0   \n",
              "\n",
              "   crew_Francine Maisler  crew_Tricia Wood  \n",
              "0                      0                 0  \n",
              "1                      0                 0  \n",
              "2                      0                 0  \n",
              "3                      0                 0  \n",
              "4                      0                 0  \n",
              "\n",
              "[5 rows x 109 columns]"
            ]
          },
          "metadata": {
            "tags": []
          },
          "execution_count": 110
        }
      ]
    },
    {
      "metadata": {
        "id": "fyRAPfioSHkk",
        "colab_type": "code",
        "colab": {}
      },
      "cell_type": "code",
      "source": [
        "y_pred=model.predict(X_test)"
      ],
      "execution_count": 0,
      "outputs": []
    },
    {
      "metadata": {
        "id": "qdB7M2GNSL3n",
        "colab_type": "code",
        "outputId": "64210db1-3445-4387-9a75-05fc8cbf046d",
        "colab": {
          "base_uri": "https://localhost:8080/",
          "height": 34
        }
      },
      "cell_type": "code",
      "source": [
        "len(y_pred)"
      ],
      "execution_count": 0,
      "outputs": [
        {
          "output_type": "execute_result",
          "data": {
            "text/plain": [
              "4398"
            ]
          },
          "metadata": {
            "tags": []
          },
          "execution_count": 112
        }
      ]
    },
    {
      "metadata": {
        "id": "yOh_6YhsSeA1",
        "colab_type": "code",
        "outputId": "9734804e-f29c-4060-a07d-a4b9e00173e2",
        "colab": {
          "base_uri": "https://localhost:8080/",
          "height": 34
        }
      },
      "cell_type": "code",
      "source": [
        "X_test.shape"
      ],
      "execution_count": 0,
      "outputs": [
        {
          "output_type": "execute_result",
          "data": {
            "text/plain": [
              "(4398, 109)"
            ]
          },
          "metadata": {
            "tags": []
          },
          "execution_count": 113
        }
      ]
    },
    {
      "metadata": {
        "id": "-xgA3SFgTJcC",
        "colab_type": "code",
        "colab": {}
      },
      "cell_type": "code",
      "source": [
        "id=test['id']"
      ],
      "execution_count": 0,
      "outputs": []
    },
    {
      "metadata": {
        "id": "00GhyWWlSiX2",
        "colab_type": "code",
        "colab": {}
      },
      "cell_type": "code",
      "source": [
        "ans={'id':id,'revenue':y_pred}\n",
        "ans=pd.DataFrame(ans)"
      ],
      "execution_count": 0,
      "outputs": []
    },
    {
      "metadata": {
        "id": "pksnezyMUPMa",
        "colab_type": "code",
        "outputId": "2e88466c-7603-4048-89bb-09b1e6088a7e",
        "colab": {
          "base_uri": "https://localhost:8080/",
          "height": 198
        }
      },
      "cell_type": "code",
      "source": [
        "ans.head()"
      ],
      "execution_count": 0,
      "outputs": [
        {
          "output_type": "execute_result",
          "data": {
            "text/html": [
              "<div>\n",
              "<style scoped>\n",
              "    .dataframe tbody tr th:only-of-type {\n",
              "        vertical-align: middle;\n",
              "    }\n",
              "\n",
              "    .dataframe tbody tr th {\n",
              "        vertical-align: top;\n",
              "    }\n",
              "\n",
              "    .dataframe thead th {\n",
              "        text-align: right;\n",
              "    }\n",
              "</style>\n",
              "<table border=\"1\" class=\"dataframe\">\n",
              "  <thead>\n",
              "    <tr style=\"text-align: right;\">\n",
              "      <th></th>\n",
              "      <th>id</th>\n",
              "      <th>revenue</th>\n",
              "    </tr>\n",
              "  </thead>\n",
              "  <tbody>\n",
              "    <tr>\n",
              "      <th>0</th>\n",
              "      <td>3001</td>\n",
              "      <td>19850013.20</td>\n",
              "    </tr>\n",
              "    <tr>\n",
              "      <th>1</th>\n",
              "      <td>3002</td>\n",
              "      <td>15468227.67</td>\n",
              "    </tr>\n",
              "    <tr>\n",
              "      <th>2</th>\n",
              "      <td>3003</td>\n",
              "      <td>10425585.86</td>\n",
              "    </tr>\n",
              "    <tr>\n",
              "      <th>3</th>\n",
              "      <td>3004</td>\n",
              "      <td>44476383.85</td>\n",
              "    </tr>\n",
              "    <tr>\n",
              "      <th>4</th>\n",
              "      <td>3005</td>\n",
              "      <td>5570618.62</td>\n",
              "    </tr>\n",
              "  </tbody>\n",
              "</table>\n",
              "</div>"
            ],
            "text/plain": [
              "     id      revenue\n",
              "0  3001  19850013.20\n",
              "1  3002  15468227.67\n",
              "2  3003  10425585.86\n",
              "3  3004  44476383.85\n",
              "4  3005   5570618.62"
            ]
          },
          "metadata": {
            "tags": []
          },
          "execution_count": 116
        }
      ]
    },
    {
      "metadata": {
        "id": "YdE9xUEWUFHp",
        "colab_type": "code",
        "colab": {}
      },
      "cell_type": "code",
      "source": [
        "ans.to_csv('pred.csv',index=False)"
      ],
      "execution_count": 0,
      "outputs": []
    },
    {
      "metadata": {
        "id": "6h7YQBZgTNgX",
        "colab_type": "code",
        "colab": {}
      },
      "cell_type": "code",
      "source": [
        "from google.colab import files\n",
        "files.download('pred.csv')"
      ],
      "execution_count": 0,
      "outputs": []
    },
    {
      "metadata": {
        "id": "pScH_JSTUXAM",
        "colab_type": "code",
        "colab": {}
      },
      "cell_type": "code",
      "source": [
        ""
      ],
      "execution_count": 0,
      "outputs": []
    }
  ]
}